{
 "cells": [
  {
   "cell_type": "code",
   "execution_count": 3,
   "source": [
    "import math\r\n",
    "import numpy as np\r\n",
    "import matplotlib.pyplot as plt\r\n",
    "import seaborn as sns\r\n",
    "import csv\r\n",
    "\r\n",
    "\r\n",
    "from read_csv_data import *\r\n",
    "from my_filter import *\r\n",
    "from my_load_data import * \r\n",
    "from my_predict import *\r\n",
    "from my_util import *\r\n",
    "\r\n"
   ],
   "outputs": [],
   "metadata": {}
  },
  {
   "cell_type": "code",
   "execution_count": 4,
   "source": [
    "path_root = './data/'\r\n",
    "sns.set()\r\n",
    "# load data\r\n",
    "Y_raw, Y_drug_id, Y_drug_name, tissue_id_list, tissue_name_list, dataset_id, X_gene_symbol_list, X_oncogene_idx = my_load_data(path_root)\r\n",
    "X_gene_ENSG_list = my_load_ENSG(path_root)"
   ],
   "outputs": [],
   "metadata": {}
  },
  {
   "cell_type": "code",
   "execution_count": 5,
   "source": [
    "# load X_raw (gene expression of cell lines)\r\n",
    "\r\n",
    "X_raw = my_load_data_X_tpm(path_root)\r\n",
    "\r\n",
    "print( 'X_raw.shape = ', X_raw.shape )"
   ],
   "outputs": [
    {
     "output_type": "stream",
     "name": "stdout",
     "text": [
      "X_raw.shape =  (1047, 37279)\n"
     ]
    }
   ],
   "metadata": {}
  },
  {
   "cell_type": "code",
   "execution_count": 7,
   "source": [
    "#####################################\r\n",
    "select_dataset = 0\r\n",
    "dataset_train_ids = [0]\r\n",
    "dataset_test_ids = [0]    # 1 = CCLE, 2 = GDSC; 0 = mixing CCLE and GDSC\r\n",
    "\r\n",
    "########################################\r\n",
    "# Selected the tissue to analyze\r\n",
    "tissue_selected_id_list_list = [[14]]  # 5 = Breast\r\n",
    "# tissue_selected_id_list_list = [[14]]  # 14 = Colorectal \r\n",
    "# tissue_selected_id_list_list = [[16]]  # 16 = Lung\r\n",
    "\r\n",
    "# drug list (GDSC id)\r\n",
    "# drug_id_list_list =  [1003, 1004, 1005, 1006, 1007, 1010, 1011, 1012, 1013, 1017, \r\n",
    "# 1021, 1022, 1025, 1030, 1032, 1034, 1036, 1038, 1042, 1046, \r\n",
    "# 1047, 1048, 1049, 1050, 1051, 1052, 1053, 1054, 1057, 1058, \r\n",
    "# 1059, 1060, 1068, 1073, 1079, 1080, 1083, 1084, 1085, 1086, \r\n",
    "# 1088, 1089, 1091, 1093, 1096, 1129, 1131, 1168, 1177, 1179, \r\n",
    "# 1180, 1190, 1191, 1192, 1194, 1199, 1200, 1237, 1239, 1248, \r\n",
    "# 1249, 1250, 1259, 1268, 1372, 1373, 1375, 1401, 1428, 1441, \r\n",
    "# 1449, 1463, 1507, 1510, 1511, 1512, 1529, 1549, 1553, 1557, \r\n",
    "# 1558, 1559, 1560, 1561, 1563, 1564, 1576, 1578, 1593, 1594, \r\n",
    "# 1598, 1613, 1614, 1615, 1617, 1618, 1620, 1621, 1622, 1624, \r\n",
    "# 1625, 1626, 1627, 1629, 1630, 1631, 1632, 1634, 1635, 1706, \r\n",
    "# 1708, 1709, 1712, 1713, 1714, 1716, 1718, 1720, 1730, 1732, \r\n",
    "# 1733, 1734, 1736, 1738, 1739, 1786, 1799, 1802, 1804, 1806, \r\n",
    "# 1807, 1808, 1809, 1810, 1811, 1813, 1814, 1816, 1818, 1819, \r\n",
    "# 1825, 1827, 1830, 1835, 1838, 1849, 1852, 1853, 1854, 1855, \r\n",
    "# 1862, 1866, 1873, 1908, 1909, 1910, 1911, 1912, 1913, 1915, \r\n",
    "# 1916, 1917, 1918, 1919, 1922, 1924, 1925, 1926, 1927, 1928, \r\n",
    "# 1930, 1931, 1932, 1933, 1936, 1939, 1940, 1941, 1996, 1997, \r\n",
    "# 1998, 2040, 2043, 2044, 2045, 2046, 2047, 2048, 2096, 2106, \r\n",
    "# 2107, 2109, 2110, 2111, 2169, 2170, 2171, 2172]  # all 198 drugs in GDSC\r\n",
    "# drug_id_list_list = [1005, 1073, 1080, 1512]  # 1005=Cisplatin, 1073=5FU, 1080=Paclitaxel, 1512=Cyclophosphamide\r\n",
    "drug_id_list_list = [1073]  # 1004=Vinblastine, 1007=Docetaxel, 1088=Irinotecan, 1089=Oxaliplatin\r\n",
    "\r\n",
    "\r\n",
    "\r\n",
    "# parameters for training\r\n",
    "C_cv_fold = 5     # N-fold cross valiadation\r\n",
    "C_drug_sens_threshold = -1   # threshold of z-score to distinguish drug-sensitive and drug-resistant\r\n",
    "\r\n",
    "flag_oncogene = False      # if True, select genes in 723 oncogenes \r\n",
    "flag_tpm_normalize = True  # if True, TPM normalize the gene expression before prediction\r\n"
   ],
   "outputs": [],
   "metadata": {}
  },
  {
   "cell_type": "code",
   "execution_count": 8,
   "source": [
    "for iii_ in range(len(drug_id_list_list)):\r\n",
    "    \r\n",
    "    # drug information\r\n",
    "    if type(drug_id_list_list[iii_]) is list:\r\n",
    "        drug_id_list = drug_id_list_list[iii_]\r\n",
    "    else:\r\n",
    "        drug_id_list = [drug_id_list_list[iii_]]\r\n",
    "    Y_drug_idx = [ 0 for i in range(len(drug_id_list))]\r\n",
    "    for i in range(len(drug_id_list)):\r\n",
    "        drug_id = drug_id_list[i]\r\n",
    "        Y_drug_idx[i] = np.argwhere(Y_drug_id==drug_id)[0][0]\r\n",
    "        print('drug name:',Y_drug_name[Y_drug_idx[i]],'; drug id:',drug_id)\r\n",
    "\r\n",
    "    ###########################################\r\n",
    "    X_idx_all_list = []        # screened gene idx\r\n",
    "    X_idx_score_all_list = []  # score of these screened genes\r\n",
    "\r\n",
    "    for select_dataset in dataset_train_ids:  # Specify the database\r\n",
    "        for tissue_selected_id_list in tissue_selected_id_list_list: # Specify the tissue\r\n",
    "\r\n",
    "            X_idx_all = np.array([])        # screened gene idx\r\n",
    "            X_idx_score_all = np.array([])  # score of these screened genes\r\n",
    "\r\n",
    "            for i in range(len(Y_drug_idx)):  # Specify the drug\r\n",
    "                drug_idx = Y_drug_idx[i]\r\n",
    "                drug_id = Y_drug_id[drug_idx]\r\n",
    "                drug_name = Y_drug_name[drug_idx]\r\n",
    "\r\n",
    "                print()\r\n",
    "                print('drug_id =', drug_id, ' drug_name =', drug_name)\r\n",
    "\r\n",
    "                X = X_raw.copy()\r\n",
    "                X = np.log(1+X)     \r\n",
    "                X_idx = np.array([i for i in range(X.shape[1])])\r\n",
    "                Y = Y_raw[drug_idx, :]\r\n",
    "                    \r\n",
    "                # specified database, and tissue\r\n",
    "                X_cell_idx = my_data_selection_2(dataset_id, select_dataset, tissue_id_list, tissue_selected_id_list)\r\n",
    "                # remove cell lines without drug info\r\n",
    "                X_cell_idx = X_cell_idx[~np.isnan(Y[X_cell_idx])]\r\n",
    "                \r\n",
    "                # Cell lines with specified database, and tissue\r\n",
    "                X = X[X_cell_idx, :]\r\n",
    "                Y = Y[X_cell_idx]\r\n",
    "\r\n",
    "\r\n",
    "                if Y.shape[0]<5:\r\n",
    "                    print('[Warning] not enough data points (%d)'%(Y.shape[0]))\r\n",
    "                    continue\r\n",
    "\r\n",
    "                # re-normalize Y (z-score) to ensure mean=0 and std=1\r\n",
    "                Y = my_normalize(Y)\r\n",
    "                Y[Y<-2] = -2\r\n",
    "                Y[Y>2] = 2\r\n",
    "                \r\n",
    "                print('len(X):',len(X))\r\n",
    "                print('len(Y):',len(Y))\r\n",
    "                ########################################### Filters\r\n",
    "                # chose top genes based on MAD\r\n",
    "                "
   ],
   "outputs": [
    {
     "output_type": "stream",
     "name": "stdout",
     "text": [
      "drug name: 5-Fluorouracil ; drug id: 1073\n",
      "\n",
      "drug_id = 1073  drug_name = 5-Fluorouracil\n",
      "selecting tissue;   X_cell_idx: (57,)\n",
      "len(X): 48\n",
      "len(Y): 48\n"
     ]
    }
   ],
   "metadata": {}
  },
  {
   "cell_type": "code",
   "execution_count": null,
   "source": [
    "#######################\r\n",
    "#Net-based Method\r\n",
    "import pandas as pd\r\n",
    "\r\n",
    "reactome = pd.read_csv('reactome.csv',header=None)\r\n",
    "#print(reactome.values)\r\n",
    "reactome = reactome.values[:,0].tolist()\r\n",
    "for i in range(len(reactome)):\r\n",
    "    reactome[i] = reactome[i].split('\\t')\r\n",
    "print(reactome)\r\n",
    "feature_list = pd.read_csv('F:/drug prediction/organoid_biomarker_detection-master/feature_list.csv')\r\n",
    "feature_list = feature_list.values[:,0]\r\n",
    "\r\n"
   ],
   "outputs": [],
   "metadata": {}
  },
  {
   "cell_type": "code",
   "execution_count": 10,
   "source": [
    "from pandas import DataFrame\r\n",
    "\r\n",
    "x_pd = DataFrame(X.T, index=X_gene_symbol_list)"
   ],
   "outputs": [],
   "metadata": {}
  },
  {
   "cell_type": "code",
   "execution_count": 125,
   "source": [
    "######ssGSEA analysis\r\n",
    "import gseapy as gp\r\n",
    "ss = gp.ssgsea(data=x_pd,\r\n",
    "               gene_sets='F:/drug prediction/organoid_biomarker_detection-master/utilities/reactome.gmt',\r\n",
    "               outdir='F:/drug prediction/organoid_biomarker_detection-master/utilities/result_reactome/',\r\n",
    "               sample_norm_method='rank', # choose 'custom' for your own rank list\r\n",
    "               permutation_num=0, # skip permutation procedure, because you don't need it\r\n",
    "               no_plot=True, # skip plotting, because you don't need these figures\r\n",
    "               scale= True,\r\n",
    "               min_size = 2\r\n",
    "              )\r\n",
    "print(ss.res2d.head())"
   ],
   "outputs": [
    {
     "output_type": "stream",
     "name": "stderr",
     "text": [
      "2021-08-24 20:35:54,371 Warning: dropping duplicated gene names, only keep the first values\n"
     ]
    },
    {
     "output_type": "stream",
     "name": "stdout",
     "text": [
      "                                                          0         1   \\\n",
      "Term|NES                                                                 \n",
      "REACTOME_3_UTR_MEDIATED_TRANSLATIONAL_REGULATION    0.557601  0.559470   \n",
      "REACTOME_ABACAVIR_TRANSPORT_AND_METABOLISM          0.363592  0.114521   \n",
      "REACTOME_ABCA_TRANSPORTERS_IN_LIPID_HOMEOSTASIS     0.423005  0.444048   \n",
      "REACTOME_ABC_FAMILY_PROTEINS_MEDIATED_TRANSPORT     0.423005  0.444048   \n",
      "REACTOME_ABORTIVE_ELONGATION_OF_HIV1_TRANSCRIPT...  0.468135  0.464060   \n",
      "\n",
      "                                                          2         3   \\\n",
      "Term|NES                                                                 \n",
      "REACTOME_3_UTR_MEDIATED_TRANSLATIONAL_REGULATION    0.559529  0.566119   \n",
      "REACTOME_ABACAVIR_TRANSPORT_AND_METABOLISM          0.115766  0.411179   \n",
      "REACTOME_ABCA_TRANSPORTERS_IN_LIPID_HOMEOSTASIS     0.419645  0.444633   \n",
      "REACTOME_ABC_FAMILY_PROTEINS_MEDIATED_TRANSPORT     0.419645  0.444633   \n",
      "REACTOME_ABORTIVE_ELONGATION_OF_HIV1_TRANSCRIPT...  0.463801  0.478280   \n",
      "\n",
      "                                                          4         5   \\\n",
      "Term|NES                                                                 \n",
      "REACTOME_3_UTR_MEDIATED_TRANSLATIONAL_REGULATION    0.560177  0.561841   \n",
      "REACTOME_ABACAVIR_TRANSPORT_AND_METABOLISM          0.122433  0.406245   \n",
      "REACTOME_ABCA_TRANSPORTERS_IN_LIPID_HOMEOSTASIS     0.434253  0.476986   \n",
      "REACTOME_ABC_FAMILY_PROTEINS_MEDIATED_TRANSPORT     0.434253  0.476986   \n",
      "REACTOME_ABORTIVE_ELONGATION_OF_HIV1_TRANSCRIPT...  0.475460  0.477066   \n",
      "\n",
      "                                                          6         7   \\\n",
      "Term|NES                                                                 \n",
      "REACTOME_3_UTR_MEDIATED_TRANSLATIONAL_REGULATION    0.562248  0.563206   \n",
      "REACTOME_ABACAVIR_TRANSPORT_AND_METABOLISM          0.115199  0.104424   \n",
      "REACTOME_ABCA_TRANSPORTERS_IN_LIPID_HOMEOSTASIS     0.462780  0.438434   \n",
      "REACTOME_ABC_FAMILY_PROTEINS_MEDIATED_TRANSPORT     0.462780  0.438434   \n",
      "REACTOME_ABORTIVE_ELONGATION_OF_HIV1_TRANSCRIPT...  0.466314  0.458693   \n",
      "\n",
      "                                                          8         9   ...  \\\n",
      "Term|NES                                                                ...   \n",
      "REACTOME_3_UTR_MEDIATED_TRANSLATIONAL_REGULATION    0.562325  0.563691  ...   \n",
      "REACTOME_ABACAVIR_TRANSPORT_AND_METABOLISM          0.531716  0.121898  ...   \n",
      "REACTOME_ABCA_TRANSPORTERS_IN_LIPID_HOMEOSTASIS     0.457331  0.461569  ...   \n",
      "REACTOME_ABC_FAMILY_PROTEINS_MEDIATED_TRANSPORT     0.457331  0.461569  ...   \n",
      "REACTOME_ABORTIVE_ELONGATION_OF_HIV1_TRANSCRIPT...  0.474901  0.489718  ...   \n",
      "\n",
      "                                                          38        39  \\\n",
      "Term|NES                                                                 \n",
      "REACTOME_3_UTR_MEDIATED_TRANSLATIONAL_REGULATION    0.561212  0.561059   \n",
      "REACTOME_ABACAVIR_TRANSPORT_AND_METABOLISM          0.086340  0.119566   \n",
      "REACTOME_ABCA_TRANSPORTERS_IN_LIPID_HOMEOSTASIS     0.449785  0.371659   \n",
      "REACTOME_ABC_FAMILY_PROTEINS_MEDIATED_TRANSPORT     0.449785  0.371659   \n",
      "REACTOME_ABORTIVE_ELONGATION_OF_HIV1_TRANSCRIPT...  0.475814  0.454118   \n",
      "\n",
      "                                                          40        41  \\\n",
      "Term|NES                                                                 \n",
      "REACTOME_3_UTR_MEDIATED_TRANSLATIONAL_REGULATION    0.564144  0.558821   \n",
      "REACTOME_ABACAVIR_TRANSPORT_AND_METABOLISM          0.470503  0.111443   \n",
      "REACTOME_ABCA_TRANSPORTERS_IN_LIPID_HOMEOSTASIS     0.410483  0.416948   \n",
      "REACTOME_ABC_FAMILY_PROTEINS_MEDIATED_TRANSPORT     0.410483  0.416948   \n",
      "REACTOME_ABORTIVE_ELONGATION_OF_HIV1_TRANSCRIPT...  0.478871  0.472138   \n",
      "\n",
      "                                                          42        43  \\\n",
      "Term|NES                                                                 \n",
      "REACTOME_3_UTR_MEDIATED_TRANSLATIONAL_REGULATION    0.559452  0.562946   \n",
      "REACTOME_ABACAVIR_TRANSPORT_AND_METABOLISM          0.514120  0.212057   \n",
      "REACTOME_ABCA_TRANSPORTERS_IN_LIPID_HOMEOSTASIS     0.427034  0.460753   \n",
      "REACTOME_ABC_FAMILY_PROTEINS_MEDIATED_TRANSPORT     0.427034  0.460753   \n",
      "REACTOME_ABORTIVE_ELONGATION_OF_HIV1_TRANSCRIPT...  0.436763  0.463465   \n",
      "\n",
      "                                                          44        45  \\\n",
      "Term|NES                                                                 \n",
      "REACTOME_3_UTR_MEDIATED_TRANSLATIONAL_REGULATION    0.563024  0.557428   \n",
      "REACTOME_ABACAVIR_TRANSPORT_AND_METABOLISM          0.106014  0.106653   \n",
      "REACTOME_ABCA_TRANSPORTERS_IN_LIPID_HOMEOSTASIS     0.426184  0.429946   \n",
      "REACTOME_ABC_FAMILY_PROTEINS_MEDIATED_TRANSPORT     0.426184  0.429946   \n",
      "REACTOME_ABORTIVE_ELONGATION_OF_HIV1_TRANSCRIPT...  0.465558  0.441520   \n",
      "\n",
      "                                                          46        47  \n",
      "Term|NES                                                                \n",
      "REACTOME_3_UTR_MEDIATED_TRANSLATIONAL_REGULATION    0.559902  0.557026  \n",
      "REACTOME_ABACAVIR_TRANSPORT_AND_METABOLISM          0.523124  0.044443  \n",
      "REACTOME_ABCA_TRANSPORTERS_IN_LIPID_HOMEOSTASIS     0.462388  0.495205  \n",
      "REACTOME_ABC_FAMILY_PROTEINS_MEDIATED_TRANSPORT     0.462388  0.495205  \n",
      "REACTOME_ABORTIVE_ELONGATION_OF_HIV1_TRANSCRIPT...  0.455887  0.457686  \n",
      "\n",
      "[5 rows x 48 columns]\n"
     ]
    }
   ],
   "metadata": {}
  },
  {
   "cell_type": "code",
   "execution_count": 136,
   "source": [
    "X_gsea_nes = ss.res2d.values\r\n",
    "print(X_gsea_nes.shape)"
   ],
   "outputs": [
    {
     "output_type": "stream",
     "name": "stdout",
     "text": [
      "(612, 48)\n"
     ]
    }
   ],
   "metadata": {}
  },
  {
   "cell_type": "code",
   "execution_count": 137,
   "source": [
    "#print(feature_list)\r\n",
    "X_gsea_nes_pd = ss.res2d\r\n",
    "feature_gsea_nes = []\r\n",
    "for fea in feature_list:\r\n",
    "    for i in range(len(X_gsea_nes_pd.index)):\r\n",
    "        if fea == X_gsea_nes_pd.index[i]:\r\n",
    "            feature_gsea_nes.append(X_gsea_nes[i])\r\n",
    "feature_gsea_nes = np.array(feature_gsea_nes).T"
   ],
   "outputs": [],
   "metadata": {}
  },
  {
   "cell_type": "code",
   "execution_count": 138,
   "source": [
    "from sklearn.preprocessing import StandardScaler\r\n",
    "\r\n",
    "scaler = StandardScaler()\r\n",
    "scaler.fit(feature_gsea_nes)\r\n",
    "scaled_x = scaler.transform(feature_gsea_nes)\r\n",
    "print(scaled_x.shape)"
   ],
   "outputs": [
    {
     "output_type": "stream",
     "name": "stdout",
     "text": [
      "(48, 37)\n"
     ]
    }
   ],
   "metadata": {}
  },
  {
   "cell_type": "code",
   "execution_count": 139,
   "source": [
    "######split the data set to 5 fold\r\n",
    "from sklearn.model_selection import KFold\r\n",
    "\r\n",
    "train_index_list = []\r\n",
    "test_index_list=[]\r\n",
    "kf = KFold(n_splits=5, random_state=62,shuffle=True)\r\n",
    "for train_index, test_index in kf.split(scaled_x, Y):\r\n",
    "    print(\"TRAIN:\", train_index, \"TEST:\", test_index)\r\n",
    "    train_index_list.append(train_index)\r\n",
    "    test_index_list.append(test_index)"
   ],
   "outputs": [
    {
     "output_type": "stream",
     "name": "stdout",
     "text": [
      "TRAIN: [ 0  1  3  5  6  7  8  9 10 11 12 13 14 17 18 19 20 21 22 24 26 28 29 30\n",
      " 32 33 34 35 36 37 38 40 41 42 43 44 45 46] TEST: [ 2  4 15 16 23 25 27 31 39 47]\n",
      "TRAIN: [ 0  1  2  3  4  8  9 10 11 12 13 14 15 16 17 18 19 21 23 24 25 27 29 30\n",
      " 31 33 34 35 36 37 38 39 40 42 44 45 46 47] TEST: [ 5  6  7 20 22 26 28 32 41 43]\n",
      "TRAIN: [ 0  1  2  4  5  6  7  9 10 11 15 16 17 18 19 20 21 22 23 24 25 26 27 28\n",
      " 29 30 31 32 33 36 37 39 40 41 43 44 45 47] TEST: [ 3  8 12 13 14 34 35 38 42 46]\n",
      "TRAIN: [ 2  3  4  5  6  7  8  9 11 12 13 14 15 16 17 18 20 22 23 24 25 26 27 28\n",
      " 30 31 32 34 35 36 37 38 39 41 42 43 45 46 47] TEST: [ 0  1 10 19 21 29 33 40 44]\n",
      "TRAIN: [ 0  1  2  3  4  5  6  7  8 10 12 13 14 15 16 19 20 21 22 23 25 26 27 28\n",
      " 29 31 32 33 34 35 38 39 40 41 42 43 44 46 47] TEST: [ 9 11 17 18 24 30 36 37 45]\n"
     ]
    }
   ],
   "metadata": {}
  },
  {
   "cell_type": "code",
   "execution_count": 140,
   "source": [
    "cv1_x_train = scaled_x[train_index_list[0]]\r\n",
    "cv1_y_train = Y[train_index_list[0]]\r\n",
    "cv1_x_test = scaled_x[test_index_list[0]]\r\n",
    "cv1_y_test = Y[test_index_list[0]]\r\n",
    "\r\n",
    "cv2_x_train = scaled_x[train_index_list[1]]\r\n",
    "cv2_y_train = Y[train_index_list[1]]\r\n",
    "cv2_x_test = scaled_x[test_index_list[1]]\r\n",
    "cv2_y_test = Y[test_index_list[1]]\r\n",
    "\r\n",
    "cv3_x_train = scaled_x[train_index_list[2]]\r\n",
    "cv3_y_train = Y[train_index_list[2]]\r\n",
    "cv3_x_test = scaled_x[test_index_list[2]]\r\n",
    "cv3_y_test = Y[test_index_list[2]]\r\n",
    "\r\n",
    "cv4_x_train = scaled_x[train_index_list[3]]\r\n",
    "cv4_y_train = Y[train_index_list[3]]\r\n",
    "cv4_x_test = scaled_x[test_index_list[3]]\r\n",
    "cv4_y_test = Y[test_index_list[3]]\r\n",
    "\r\n",
    "cv5_x_train = scaled_x[train_index_list[4]]\r\n",
    "cv5_y_train = Y[train_index_list[4]]\r\n",
    "cv5_x_test = scaled_x[test_index_list[4]]\r\n",
    "cv5_y_test = Y[test_index_list[4]]"
   ],
   "outputs": [],
   "metadata": {}
  },
  {
   "cell_type": "code",
   "execution_count": null,
   "source": [],
   "outputs": [],
   "metadata": {}
  },
  {
   "cell_type": "code",
   "execution_count": 141,
   "source": [
    "############\r\n",
    "#cross validation\r\n",
    "from sklearn.svm import LinearSVR\r\n",
    "from sklearn import metrics\r\n",
    "from sklearn.model_selection import cross_val_predict\r\n",
    "from sklearn.linear_model import Ridge, RidgeCV,LinearRegression\r\n",
    "from sklearn import  svm\r\n",
    "  \r\n",
    "#select best alpha\r\n",
    "model_Ridge = RidgeCV(cv=5,alphas=np.arange(0.1,1,0.1)).fit(scaled_x,Y)\r\n",
    "print(model_Ridge.alpha_)\r\n",
    "\r\n"
   ],
   "outputs": [
    {
     "output_type": "stream",
     "name": "stdout",
     "text": [
      "0.9\n"
     ]
    }
   ],
   "metadata": {}
  },
  {
   "cell_type": "code",
   "execution_count": 225,
   "source": [
    "import numpy\r\n",
    "model_Ridge_cv1 = Ridge(alpha=0.9).fit(cv1_x_train, cv1_y_train)\r\n",
    "\r\n",
    "#print(model_Ridge_cv1.coef_[idd].shape)\r\n",
    "\r\n",
    "#print(cv1_x_test)\r\n",
    "#print(cv1_x_test[:,idd.reshape(1,-1)].reshape(-1,10))\r\n",
    "y_pre_cv1 = model_Ridge_cv1.predict(cv1_x_test)\r\n",
    "idd=np.argwhere(abs(model_Ridge_cv1.coef_) >= np.sort(abs(model_Ridge_cv1.coef_))[-10])\r\n",
    "y_pre_cv1_ss = np.dot(cv1_x_test[:,idd.reshape(1,-1)].reshape(-1,10), model_Ridge_cv1.coef_[idd]).reshape(1,-1)[0]\r\n",
    "print(y_pre_cv1_ss)\r\n",
    "\r\n",
    "model_Ridge_cv2 = Ridge(alpha=0.9).fit(cv2_x_train, cv2_y_train)\r\n",
    "y_pre_cv2 = model_Ridge_cv2.predict(cv2_x_test)\r\n",
    "idd=np.argwhere(abs(model_Ridge_cv2.coef_) >= np.sort(abs(model_Ridge_cv2.coef_))[-10])\r\n",
    "y_pre_cv2_ss = np.dot(cv2_x_test[:,idd.reshape(1,-1)].reshape(-1,10), model_Ridge_cv2.coef_[idd]).reshape(1,-1)[0]\r\n",
    "print(y_pre_cv2_ss)\r\n",
    "\r\n",
    "model_Ridge_cv3 = Ridge(alpha=0.9).fit(cv3_x_train, cv3_y_train)\r\n",
    "y_pre_cv3 = model_Ridge_cv3.predict(cv3_x_test)\r\n",
    "idd=np.argwhere(abs(model_Ridge_cv3.coef_) >= np.sort(abs(model_Ridge_cv3.coef_))[-10])\r\n",
    "y_pre_cv3_ss = np.dot(cv3_x_test[:,idd.reshape(1,-1)].reshape(-1,10), model_Ridge_cv3.coef_[idd]).reshape(1,-1)[0]\r\n",
    "print(y_pre_cv3_ss)\r\n",
    "\r\n",
    "model_Ridge_cv4 = Ridge(alpha=0.9).fit(cv4_x_train, cv4_y_train)\r\n",
    "y_pre_cv4 = model_Ridge_cv4.predict(cv4_x_test)\r\n",
    "idd=np.argwhere(abs(model_Ridge_cv4.coef_) >= np.sort(abs(model_Ridge_cv4.coef_))[-10])\r\n",
    "y_pre_cv4_ss = np.dot(cv4_x_test[:,idd.reshape(1,-1)].reshape(-1,10), model_Ridge_cv4.coef_[idd]).reshape(1,-1)[0]\r\n",
    "print(y_pre_cv4_ss)\r\n",
    "\r\n",
    "model_Ridge_cv5 = Ridge(alpha=0.9).fit(cv5_x_train, cv5_y_train)\r\n",
    "y_pre_cv5 = model_Ridge_cv5.predict(cv5_x_test)\r\n",
    "idd=np.argwhere(abs(model_Ridge_cv5.coef_) >= np.sort(abs(model_Ridge_cv5.coef_))[-10])\r\n",
    "y_pre_cv5_ss = np.dot(cv5_x_test[:,idd.reshape(1,-1)].reshape(-1,10), model_Ridge_cv5.coef_[idd]).reshape(1,-1)[0]\r\n",
    "print(y_pre_cv5_ss)\r\n",
    "\r\n",
    "model_Ridge_cross = Ridge(alpha=0.9).fit(cv3_x_train, cv3_y_train)\r\n",
    "y_pre_cross = model_Ridge_cross.predict(cv3_x_train)"
   ],
   "outputs": [
    {
     "output_type": "stream",
     "name": "stdout",
     "text": [
      "[-1.63226317  0.14575701  0.45881803  0.32653871  1.86435079  0.07686668\n",
      " -0.18987454 -0.37448029  0.77208842  1.12678165]\n",
      "[ 0.16194609 -0.38634328 -0.36834098  0.33857186 -2.27626207 -0.32473489\n",
      " -0.73590723 -1.20113517 -0.31601414  0.05817863]\n",
      "[ 0.07061592 -0.60593294  1.42221746  0.18836308 -0.92217681 -0.66523587\n",
      " -0.4304423  -0.36595032 -0.47091754 -3.7176193 ]\n",
      "[ 0.1770716  -1.03511361 -0.04388406 -0.12602337  1.65115202  0.3818716\n",
      " -0.42511701  0.03093084  1.75751581]\n",
      "[-0.10284833 -0.20978857  0.73081917 -0.67557677  1.54997925  0.17155387\n",
      "  2.11184177  0.59054953  1.72508999]\n"
     ]
    }
   ],
   "metadata": {}
  },
  {
   "cell_type": "code",
   "execution_count": 231,
   "source": [
    "auc_score_cross = metrics.roc_auc_score(cv3_y_train>-1, y_pre_cross)\r\n",
    "print(auc_score_cross)\r\n",
    "\r\n",
    "fpr_cross, tpr_cross, thresholds_cross = metrics.roc_curve(cv3_y_train > -1, y_pre_cross)\r\n",
    "plt.plot(fpr_cross,tpr_cross)\r\n",
    "plt.title('Network-based AUC=%.2f'%(auc_score_cross))\r\n",
    "plt.show()"
   ],
   "outputs": [
    {
     "output_type": "stream",
     "name": "stdout",
     "text": [
      "0.9333333333333333\n"
     ]
    },
    {
     "output_type": "display_data",
     "data": {
      "text/plain": [
       "<Figure size 432x288 with 1 Axes>"
      ],
      "image/svg+xml": "<?xml version=\"1.0\" encoding=\"utf-8\" standalone=\"no\"?>\r\n<!DOCTYPE svg PUBLIC \"-//W3C//DTD SVG 1.1//EN\"\r\n  \"http://www.w3.org/Graphics/SVG/1.1/DTD/svg11.dtd\">\r\n<svg height=\"265.989219pt\" version=\"1.1\" viewBox=\"0 0 373.99 265.989219\" width=\"373.99pt\" xmlns=\"http://www.w3.org/2000/svg\" xmlns:xlink=\"http://www.w3.org/1999/xlink\">\r\n <metadata>\r\n  <rdf:RDF xmlns:cc=\"http://creativecommons.org/ns#\" xmlns:dc=\"http://purl.org/dc/elements/1.1/\" xmlns:rdf=\"http://www.w3.org/1999/02/22-rdf-syntax-ns#\">\r\n   <cc:Work>\r\n    <dc:type rdf:resource=\"http://purl.org/dc/dcmitype/StillImage\"/>\r\n    <dc:date>2021-08-24T21:48:46.465201</dc:date>\r\n    <dc:format>image/svg+xml</dc:format>\r\n    <dc:creator>\r\n     <cc:Agent>\r\n      <dc:title>Matplotlib v3.4.3, https://matplotlib.org/</dc:title>\r\n     </cc:Agent>\r\n    </dc:creator>\r\n   </cc:Work>\r\n  </rdf:RDF>\r\n </metadata>\r\n <defs>\r\n  <style type=\"text/css\">*{stroke-linecap:butt;stroke-linejoin:round;}</style>\r\n </defs>\r\n <g id=\"figure_1\">\r\n  <g id=\"patch_1\">\r\n   <path d=\"M 0 265.989219 \r\nL 373.99 265.989219 \r\nL 373.99 0 \r\nL 0 0 \r\nz\r\n\" style=\"fill:#ffffff;\"/>\r\n  </g>\r\n  <g id=\"axes_1\">\r\n   <g id=\"patch_2\">\r\n    <path d=\"M 31.99 239.229375 \r\nL 366.79 239.229375 \r\nL 366.79 21.789375 \r\nL 31.99 21.789375 \r\nz\r\n\" style=\"fill:#eaeaf2;\"/>\r\n   </g>\r\n   <g id=\"matplotlib.axis_1\">\r\n    <g id=\"xtick_1\">\r\n     <g id=\"line2d_1\">\r\n      <path clip-path=\"url(#p97476ba375)\" d=\"M 47.208182 239.229375 \r\nL 47.208182 21.789375 \r\n\" style=\"fill:none;stroke:#ffffff;stroke-linecap:round;\"/>\r\n     </g>\r\n     <g id=\"text_1\">\r\n      <!-- 0.0 -->\r\n      <g style=\"fill:#262626;\" transform=\"translate(39.563182 256.602969)scale(0.11 -0.11)\">\r\n       <defs>\r\n        <path d=\"M 266 2259 \r\nQ 266 3072 433 3567 \r\nQ 600 4063 929 4331 \r\nQ 1259 4600 1759 4600 \r\nQ 2128 4600 2406 4451 \r\nQ 2684 4303 2865 4023 \r\nQ 3047 3744 3150 3342 \r\nQ 3253 2941 3253 2259 \r\nQ 3253 1453 3087 958 \r\nQ 2922 463 2592 192 \r\nQ 2263 -78 1759 -78 \r\nQ 1097 -78 719 397 \r\nQ 266 969 266 2259 \r\nz\r\nM 844 2259 \r\nQ 844 1131 1108 757 \r\nQ 1372 384 1759 384 \r\nQ 2147 384 2411 759 \r\nQ 2675 1134 2675 2259 \r\nQ 2675 3391 2411 3762 \r\nQ 2147 4134 1753 4134 \r\nQ 1366 4134 1134 3806 \r\nQ 844 3388 844 2259 \r\nz\r\n\" id=\"ArialMT-30\" transform=\"scale(0.015625)\"/>\r\n        <path d=\"M 581 0 \r\nL 581 641 \r\nL 1222 641 \r\nL 1222 0 \r\nL 581 0 \r\nz\r\n\" id=\"ArialMT-2e\" transform=\"scale(0.015625)\"/>\r\n       </defs>\r\n       <use xlink:href=\"#ArialMT-30\"/>\r\n       <use x=\"55.615234\" xlink:href=\"#ArialMT-2e\"/>\r\n       <use x=\"83.398438\" xlink:href=\"#ArialMT-30\"/>\r\n      </g>\r\n     </g>\r\n    </g>\r\n    <g id=\"xtick_2\">\r\n     <g id=\"line2d_2\">\r\n      <path clip-path=\"url(#p97476ba375)\" d=\"M 108.080909 239.229375 \r\nL 108.080909 21.789375 \r\n\" style=\"fill:none;stroke:#ffffff;stroke-linecap:round;\"/>\r\n     </g>\r\n     <g id=\"text_2\">\r\n      <!-- 0.2 -->\r\n      <g style=\"fill:#262626;\" transform=\"translate(100.435909 256.602969)scale(0.11 -0.11)\">\r\n       <defs>\r\n        <path d=\"M 3222 541 \r\nL 3222 0 \r\nL 194 0 \r\nQ 188 203 259 391 \r\nQ 375 700 629 1000 \r\nQ 884 1300 1366 1694 \r\nQ 2113 2306 2375 2664 \r\nQ 2638 3022 2638 3341 \r\nQ 2638 3675 2398 3904 \r\nQ 2159 4134 1775 4134 \r\nQ 1369 4134 1125 3890 \r\nQ 881 3647 878 3216 \r\nL 300 3275 \r\nQ 359 3922 746 4261 \r\nQ 1134 4600 1788 4600 \r\nQ 2447 4600 2831 4234 \r\nQ 3216 3869 3216 3328 \r\nQ 3216 3053 3103 2787 \r\nQ 2991 2522 2730 2228 \r\nQ 2469 1934 1863 1422 \r\nQ 1356 997 1212 845 \r\nQ 1069 694 975 541 \r\nL 3222 541 \r\nz\r\n\" id=\"ArialMT-32\" transform=\"scale(0.015625)\"/>\r\n       </defs>\r\n       <use xlink:href=\"#ArialMT-30\"/>\r\n       <use x=\"55.615234\" xlink:href=\"#ArialMT-2e\"/>\r\n       <use x=\"83.398438\" xlink:href=\"#ArialMT-32\"/>\r\n      </g>\r\n     </g>\r\n    </g>\r\n    <g id=\"xtick_3\">\r\n     <g id=\"line2d_3\">\r\n      <path clip-path=\"url(#p97476ba375)\" d=\"M 168.953636 239.229375 \r\nL 168.953636 21.789375 \r\n\" style=\"fill:none;stroke:#ffffff;stroke-linecap:round;\"/>\r\n     </g>\r\n     <g id=\"text_3\">\r\n      <!-- 0.4 -->\r\n      <g style=\"fill:#262626;\" transform=\"translate(161.308636 256.602969)scale(0.11 -0.11)\">\r\n       <defs>\r\n        <path d=\"M 2069 0 \r\nL 2069 1097 \r\nL 81 1097 \r\nL 81 1613 \r\nL 2172 4581 \r\nL 2631 4581 \r\nL 2631 1613 \r\nL 3250 1613 \r\nL 3250 1097 \r\nL 2631 1097 \r\nL 2631 0 \r\nL 2069 0 \r\nz\r\nM 2069 1613 \r\nL 2069 3678 \r\nL 634 1613 \r\nL 2069 1613 \r\nz\r\n\" id=\"ArialMT-34\" transform=\"scale(0.015625)\"/>\r\n       </defs>\r\n       <use xlink:href=\"#ArialMT-30\"/>\r\n       <use x=\"55.615234\" xlink:href=\"#ArialMT-2e\"/>\r\n       <use x=\"83.398438\" xlink:href=\"#ArialMT-34\"/>\r\n      </g>\r\n     </g>\r\n    </g>\r\n    <g id=\"xtick_4\">\r\n     <g id=\"line2d_4\">\r\n      <path clip-path=\"url(#p97476ba375)\" d=\"M 229.826364 239.229375 \r\nL 229.826364 21.789375 \r\n\" style=\"fill:none;stroke:#ffffff;stroke-linecap:round;\"/>\r\n     </g>\r\n     <g id=\"text_4\">\r\n      <!-- 0.6 -->\r\n      <g style=\"fill:#262626;\" transform=\"translate(222.181364 256.602969)scale(0.11 -0.11)\">\r\n       <defs>\r\n        <path d=\"M 3184 3459 \r\nL 2625 3416 \r\nQ 2550 3747 2413 3897 \r\nQ 2184 4138 1850 4138 \r\nQ 1581 4138 1378 3988 \r\nQ 1113 3794 959 3422 \r\nQ 806 3050 800 2363 \r\nQ 1003 2672 1297 2822 \r\nQ 1591 2972 1913 2972 \r\nQ 2475 2972 2870 2558 \r\nQ 3266 2144 3266 1488 \r\nQ 3266 1056 3080 686 \r\nQ 2894 316 2569 119 \r\nQ 2244 -78 1831 -78 \r\nQ 1128 -78 684 439 \r\nQ 241 956 241 2144 \r\nQ 241 3472 731 4075 \r\nQ 1159 4600 1884 4600 \r\nQ 2425 4600 2770 4297 \r\nQ 3116 3994 3184 3459 \r\nz\r\nM 888 1484 \r\nQ 888 1194 1011 928 \r\nQ 1134 663 1356 523 \r\nQ 1578 384 1822 384 \r\nQ 2178 384 2434 671 \r\nQ 2691 959 2691 1453 \r\nQ 2691 1928 2437 2201 \r\nQ 2184 2475 1800 2475 \r\nQ 1419 2475 1153 2201 \r\nQ 888 1928 888 1484 \r\nz\r\n\" id=\"ArialMT-36\" transform=\"scale(0.015625)\"/>\r\n       </defs>\r\n       <use xlink:href=\"#ArialMT-30\"/>\r\n       <use x=\"55.615234\" xlink:href=\"#ArialMT-2e\"/>\r\n       <use x=\"83.398438\" xlink:href=\"#ArialMT-36\"/>\r\n      </g>\r\n     </g>\r\n    </g>\r\n    <g id=\"xtick_5\">\r\n     <g id=\"line2d_5\">\r\n      <path clip-path=\"url(#p97476ba375)\" d=\"M 290.699091 239.229375 \r\nL 290.699091 21.789375 \r\n\" style=\"fill:none;stroke:#ffffff;stroke-linecap:round;\"/>\r\n     </g>\r\n     <g id=\"text_5\">\r\n      <!-- 0.8 -->\r\n      <g style=\"fill:#262626;\" transform=\"translate(283.054091 256.602969)scale(0.11 -0.11)\">\r\n       <defs>\r\n        <path d=\"M 1131 2484 \r\nQ 781 2613 612 2850 \r\nQ 444 3088 444 3419 \r\nQ 444 3919 803 4259 \r\nQ 1163 4600 1759 4600 \r\nQ 2359 4600 2725 4251 \r\nQ 3091 3903 3091 3403 \r\nQ 3091 3084 2923 2848 \r\nQ 2756 2613 2416 2484 \r\nQ 2838 2347 3058 2040 \r\nQ 3278 1734 3278 1309 \r\nQ 3278 722 2862 322 \r\nQ 2447 -78 1769 -78 \r\nQ 1091 -78 675 323 \r\nQ 259 725 259 1325 \r\nQ 259 1772 486 2073 \r\nQ 713 2375 1131 2484 \r\nz\r\nM 1019 3438 \r\nQ 1019 3113 1228 2906 \r\nQ 1438 2700 1772 2700 \r\nQ 2097 2700 2305 2904 \r\nQ 2513 3109 2513 3406 \r\nQ 2513 3716 2298 3927 \r\nQ 2084 4138 1766 4138 \r\nQ 1444 4138 1231 3931 \r\nQ 1019 3725 1019 3438 \r\nz\r\nM 838 1322 \r\nQ 838 1081 952 856 \r\nQ 1066 631 1291 507 \r\nQ 1516 384 1775 384 \r\nQ 2178 384 2440 643 \r\nQ 2703 903 2703 1303 \r\nQ 2703 1709 2433 1975 \r\nQ 2163 2241 1756 2241 \r\nQ 1359 2241 1098 1978 \r\nQ 838 1716 838 1322 \r\nz\r\n\" id=\"ArialMT-38\" transform=\"scale(0.015625)\"/>\r\n       </defs>\r\n       <use xlink:href=\"#ArialMT-30\"/>\r\n       <use x=\"55.615234\" xlink:href=\"#ArialMT-2e\"/>\r\n       <use x=\"83.398438\" xlink:href=\"#ArialMT-38\"/>\r\n      </g>\r\n     </g>\r\n    </g>\r\n    <g id=\"xtick_6\">\r\n     <g id=\"line2d_6\">\r\n      <path clip-path=\"url(#p97476ba375)\" d=\"M 351.571818 239.229375 \r\nL 351.571818 21.789375 \r\n\" style=\"fill:none;stroke:#ffffff;stroke-linecap:round;\"/>\r\n     </g>\r\n     <g id=\"text_6\">\r\n      <!-- 1.0 -->\r\n      <g style=\"fill:#262626;\" transform=\"translate(343.926818 256.602969)scale(0.11 -0.11)\">\r\n       <defs>\r\n        <path d=\"M 2384 0 \r\nL 1822 0 \r\nL 1822 3584 \r\nQ 1619 3391 1289 3197 \r\nQ 959 3003 697 2906 \r\nL 697 3450 \r\nQ 1169 3672 1522 3987 \r\nQ 1875 4303 2022 4600 \r\nL 2384 4600 \r\nL 2384 0 \r\nz\r\n\" id=\"ArialMT-31\" transform=\"scale(0.015625)\"/>\r\n       </defs>\r\n       <use xlink:href=\"#ArialMT-31\"/>\r\n       <use x=\"55.615234\" xlink:href=\"#ArialMT-2e\"/>\r\n       <use x=\"83.398438\" xlink:href=\"#ArialMT-30\"/>\r\n      </g>\r\n     </g>\r\n    </g>\r\n   </g>\r\n   <g id=\"matplotlib.axis_2\">\r\n    <g id=\"ytick_1\">\r\n     <g id=\"line2d_7\">\r\n      <path clip-path=\"url(#p97476ba375)\" d=\"M 31.99 229.345739 \r\nL 366.79 229.345739 \r\n\" style=\"fill:none;stroke:#ffffff;stroke-linecap:round;\"/>\r\n     </g>\r\n     <g id=\"text_7\">\r\n      <!-- 0.0 -->\r\n      <g style=\"fill:#262626;\" transform=\"translate(7.2 233.282536)scale(0.11 -0.11)\">\r\n       <use xlink:href=\"#ArialMT-30\"/>\r\n       <use x=\"55.615234\" xlink:href=\"#ArialMT-2e\"/>\r\n       <use x=\"83.398438\" xlink:href=\"#ArialMT-30\"/>\r\n      </g>\r\n     </g>\r\n    </g>\r\n    <g id=\"ytick_2\">\r\n     <g id=\"line2d_8\">\r\n      <path clip-path=\"url(#p97476ba375)\" d=\"M 31.99 189.811193 \r\nL 366.79 189.811193 \r\n\" style=\"fill:none;stroke:#ffffff;stroke-linecap:round;\"/>\r\n     </g>\r\n     <g id=\"text_8\">\r\n      <!-- 0.2 -->\r\n      <g style=\"fill:#262626;\" transform=\"translate(7.2 193.74799)scale(0.11 -0.11)\">\r\n       <use xlink:href=\"#ArialMT-30\"/>\r\n       <use x=\"55.615234\" xlink:href=\"#ArialMT-2e\"/>\r\n       <use x=\"83.398438\" xlink:href=\"#ArialMT-32\"/>\r\n      </g>\r\n     </g>\r\n    </g>\r\n    <g id=\"ytick_3\">\r\n     <g id=\"line2d_9\">\r\n      <path clip-path=\"url(#p97476ba375)\" d=\"M 31.99 150.276648 \r\nL 366.79 150.276648 \r\n\" style=\"fill:none;stroke:#ffffff;stroke-linecap:round;\"/>\r\n     </g>\r\n     <g id=\"text_9\">\r\n      <!-- 0.4 -->\r\n      <g style=\"fill:#262626;\" transform=\"translate(7.2 154.213445)scale(0.11 -0.11)\">\r\n       <use xlink:href=\"#ArialMT-30\"/>\r\n       <use x=\"55.615234\" xlink:href=\"#ArialMT-2e\"/>\r\n       <use x=\"83.398438\" xlink:href=\"#ArialMT-34\"/>\r\n      </g>\r\n     </g>\r\n    </g>\r\n    <g id=\"ytick_4\">\r\n     <g id=\"line2d_10\">\r\n      <path clip-path=\"url(#p97476ba375)\" d=\"M 31.99 110.742102 \r\nL 366.79 110.742102 \r\n\" style=\"fill:none;stroke:#ffffff;stroke-linecap:round;\"/>\r\n     </g>\r\n     <g id=\"text_10\">\r\n      <!-- 0.6 -->\r\n      <g style=\"fill:#262626;\" transform=\"translate(7.2 114.678899)scale(0.11 -0.11)\">\r\n       <use xlink:href=\"#ArialMT-30\"/>\r\n       <use x=\"55.615234\" xlink:href=\"#ArialMT-2e\"/>\r\n       <use x=\"83.398438\" xlink:href=\"#ArialMT-36\"/>\r\n      </g>\r\n     </g>\r\n    </g>\r\n    <g id=\"ytick_5\">\r\n     <g id=\"line2d_11\">\r\n      <path clip-path=\"url(#p97476ba375)\" d=\"M 31.99 71.207557 \r\nL 366.79 71.207557 \r\n\" style=\"fill:none;stroke:#ffffff;stroke-linecap:round;\"/>\r\n     </g>\r\n     <g id=\"text_11\">\r\n      <!-- 0.8 -->\r\n      <g style=\"fill:#262626;\" transform=\"translate(7.2 75.144354)scale(0.11 -0.11)\">\r\n       <use xlink:href=\"#ArialMT-30\"/>\r\n       <use x=\"55.615234\" xlink:href=\"#ArialMT-2e\"/>\r\n       <use x=\"83.398438\" xlink:href=\"#ArialMT-38\"/>\r\n      </g>\r\n     </g>\r\n    </g>\r\n    <g id=\"ytick_6\">\r\n     <g id=\"line2d_12\">\r\n      <path clip-path=\"url(#p97476ba375)\" d=\"M 31.99 31.673011 \r\nL 366.79 31.673011 \r\n\" style=\"fill:none;stroke:#ffffff;stroke-linecap:round;\"/>\r\n     </g>\r\n     <g id=\"text_12\">\r\n      <!-- 1.0 -->\r\n      <g style=\"fill:#262626;\" transform=\"translate(7.2 35.609808)scale(0.11 -0.11)\">\r\n       <use xlink:href=\"#ArialMT-31\"/>\r\n       <use x=\"55.615234\" xlink:href=\"#ArialMT-2e\"/>\r\n       <use x=\"83.398438\" xlink:href=\"#ArialMT-30\"/>\r\n      </g>\r\n     </g>\r\n    </g>\r\n   </g>\r\n   <g id=\"line2d_13\">\r\n    <path clip-path=\"url(#p97476ba375)\" d=\"M 47.208182 229.345739 \r\nL 47.208182 222.756648 \r\nL 47.208182 90.97483 \r\nL 85.253636 90.97483 \r\nL 85.253636 58.029375 \r\nL 123.299091 58.029375 \r\nL 123.299091 38.262102 \r\nL 237.435455 38.262102 \r\nL 237.435455 31.673011 \r\nL 351.571818 31.673011 \r\n\" style=\"fill:none;stroke:#4c72b0;stroke-linecap:round;stroke-width:1.5;\"/>\r\n   </g>\r\n   <g id=\"patch_3\">\r\n    <path d=\"M 31.99 239.229375 \r\nL 31.99 21.789375 \r\n\" style=\"fill:none;stroke:#ffffff;stroke-linecap:square;stroke-linejoin:miter;stroke-width:1.25;\"/>\r\n   </g>\r\n   <g id=\"patch_4\">\r\n    <path d=\"M 366.79 239.229375 \r\nL 366.79 21.789375 \r\n\" style=\"fill:none;stroke:#ffffff;stroke-linecap:square;stroke-linejoin:miter;stroke-width:1.25;\"/>\r\n   </g>\r\n   <g id=\"patch_5\">\r\n    <path d=\"M 31.99 239.229375 \r\nL 366.79 239.229375 \r\n\" style=\"fill:none;stroke:#ffffff;stroke-linecap:square;stroke-linejoin:miter;stroke-width:1.25;\"/>\r\n   </g>\r\n   <g id=\"patch_6\">\r\n    <path d=\"M 31.99 21.789375 \r\nL 366.79 21.789375 \r\n\" style=\"fill:none;stroke:#ffffff;stroke-linecap:square;stroke-linejoin:miter;stroke-width:1.25;\"/>\r\n   </g>\r\n   <g id=\"text_13\">\r\n    <!-- Network-based AUC=0.93 -->\r\n    <g style=\"fill:#262626;\" transform=\"translate(129.855625 15.789375)scale(0.12 -0.12)\">\r\n     <defs>\r\n      <path d=\"M 488 0 \r\nL 488 4581 \r\nL 1109 4581 \r\nL 3516 984 \r\nL 3516 4581 \r\nL 4097 4581 \r\nL 4097 0 \r\nL 3475 0 \r\nL 1069 3600 \r\nL 1069 0 \r\nL 488 0 \r\nz\r\n\" id=\"ArialMT-4e\" transform=\"scale(0.015625)\"/>\r\n      <path d=\"M 2694 1069 \r\nL 3275 997 \r\nQ 3138 488 2766 206 \r\nQ 2394 -75 1816 -75 \r\nQ 1088 -75 661 373 \r\nQ 234 822 234 1631 \r\nQ 234 2469 665 2931 \r\nQ 1097 3394 1784 3394 \r\nQ 2450 3394 2872 2941 \r\nQ 3294 2488 3294 1666 \r\nQ 3294 1616 3291 1516 \r\nL 816 1516 \r\nQ 847 969 1125 678 \r\nQ 1403 388 1819 388 \r\nQ 2128 388 2347 550 \r\nQ 2566 713 2694 1069 \r\nz\r\nM 847 1978 \r\nL 2700 1978 \r\nQ 2663 2397 2488 2606 \r\nQ 2219 2931 1791 2931 \r\nQ 1403 2931 1139 2672 \r\nQ 875 2413 847 1978 \r\nz\r\n\" id=\"ArialMT-65\" transform=\"scale(0.015625)\"/>\r\n      <path d=\"M 1650 503 \r\nL 1731 6 \r\nQ 1494 -44 1306 -44 \r\nQ 1000 -44 831 53 \r\nQ 663 150 594 308 \r\nQ 525 466 525 972 \r\nL 525 2881 \r\nL 113 2881 \r\nL 113 3319 \r\nL 525 3319 \r\nL 525 4141 \r\nL 1084 4478 \r\nL 1084 3319 \r\nL 1650 3319 \r\nL 1650 2881 \r\nL 1084 2881 \r\nL 1084 941 \r\nQ 1084 700 1114 631 \r\nQ 1144 563 1211 522 \r\nQ 1278 481 1403 481 \r\nQ 1497 481 1650 503 \r\nz\r\n\" id=\"ArialMT-74\" transform=\"scale(0.015625)\"/>\r\n      <path d=\"M 1034 0 \r\nL 19 3319 \r\nL 600 3319 \r\nL 1128 1403 \r\nL 1325 691 \r\nQ 1338 744 1497 1375 \r\nL 2025 3319 \r\nL 2603 3319 \r\nL 3100 1394 \r\nL 3266 759 \r\nL 3456 1400 \r\nL 4025 3319 \r\nL 4572 3319 \r\nL 3534 0 \r\nL 2950 0 \r\nL 2422 1988 \r\nL 2294 2553 \r\nL 1622 0 \r\nL 1034 0 \r\nz\r\n\" id=\"ArialMT-77\" transform=\"scale(0.015625)\"/>\r\n      <path d=\"M 213 1659 \r\nQ 213 2581 725 3025 \r\nQ 1153 3394 1769 3394 \r\nQ 2453 3394 2887 2945 \r\nQ 3322 2497 3322 1706 \r\nQ 3322 1066 3130 698 \r\nQ 2938 331 2570 128 \r\nQ 2203 -75 1769 -75 \r\nQ 1072 -75 642 372 \r\nQ 213 819 213 1659 \r\nz\r\nM 791 1659 \r\nQ 791 1022 1069 705 \r\nQ 1347 388 1769 388 \r\nQ 2188 388 2466 706 \r\nQ 2744 1025 2744 1678 \r\nQ 2744 2294 2464 2611 \r\nQ 2184 2928 1769 2928 \r\nQ 1347 2928 1069 2612 \r\nQ 791 2297 791 1659 \r\nz\r\n\" id=\"ArialMT-6f\" transform=\"scale(0.015625)\"/>\r\n      <path d=\"M 416 0 \r\nL 416 3319 \r\nL 922 3319 \r\nL 922 2816 \r\nQ 1116 3169 1280 3281 \r\nQ 1444 3394 1641 3394 \r\nQ 1925 3394 2219 3213 \r\nL 2025 2691 \r\nQ 1819 2813 1613 2813 \r\nQ 1428 2813 1281 2702 \r\nQ 1134 2591 1072 2394 \r\nQ 978 2094 978 1738 \r\nL 978 0 \r\nL 416 0 \r\nz\r\n\" id=\"ArialMT-72\" transform=\"scale(0.015625)\"/>\r\n      <path d=\"M 425 0 \r\nL 425 4581 \r\nL 988 4581 \r\nL 988 1969 \r\nL 2319 3319 \r\nL 3047 3319 \r\nL 1778 2088 \r\nL 3175 0 \r\nL 2481 0 \r\nL 1384 1697 \r\nL 988 1316 \r\nL 988 0 \r\nL 425 0 \r\nz\r\n\" id=\"ArialMT-6b\" transform=\"scale(0.015625)\"/>\r\n      <path d=\"M 203 1375 \r\nL 203 1941 \r\nL 1931 1941 \r\nL 1931 1375 \r\nL 203 1375 \r\nz\r\n\" id=\"ArialMT-2d\" transform=\"scale(0.015625)\"/>\r\n      <path d=\"M 941 0 \r\nL 419 0 \r\nL 419 4581 \r\nL 981 4581 \r\nL 981 2947 \r\nQ 1338 3394 1891 3394 \r\nQ 2197 3394 2470 3270 \r\nQ 2744 3147 2920 2923 \r\nQ 3097 2700 3197 2384 \r\nQ 3297 2069 3297 1709 \r\nQ 3297 856 2875 390 \r\nQ 2453 -75 1863 -75 \r\nQ 1275 -75 941 416 \r\nL 941 0 \r\nz\r\nM 934 1684 \r\nQ 934 1088 1097 822 \r\nQ 1363 388 1816 388 \r\nQ 2184 388 2453 708 \r\nQ 2722 1028 2722 1663 \r\nQ 2722 2313 2464 2622 \r\nQ 2206 2931 1841 2931 \r\nQ 1472 2931 1203 2611 \r\nQ 934 2291 934 1684 \r\nz\r\n\" id=\"ArialMT-62\" transform=\"scale(0.015625)\"/>\r\n      <path d=\"M 2588 409 \r\nQ 2275 144 1986 34 \r\nQ 1697 -75 1366 -75 \r\nQ 819 -75 525 192 \r\nQ 231 459 231 875 \r\nQ 231 1119 342 1320 \r\nQ 453 1522 633 1644 \r\nQ 813 1766 1038 1828 \r\nQ 1203 1872 1538 1913 \r\nQ 2219 1994 2541 2106 \r\nQ 2544 2222 2544 2253 \r\nQ 2544 2597 2384 2738 \r\nQ 2169 2928 1744 2928 \r\nQ 1347 2928 1158 2789 \r\nQ 969 2650 878 2297 \r\nL 328 2372 \r\nQ 403 2725 575 2942 \r\nQ 747 3159 1072 3276 \r\nQ 1397 3394 1825 3394 \r\nQ 2250 3394 2515 3294 \r\nQ 2781 3194 2906 3042 \r\nQ 3031 2891 3081 2659 \r\nQ 3109 2516 3109 2141 \r\nL 3109 1391 \r\nQ 3109 606 3145 398 \r\nQ 3181 191 3288 0 \r\nL 2700 0 \r\nQ 2613 175 2588 409 \r\nz\r\nM 2541 1666 \r\nQ 2234 1541 1622 1453 \r\nQ 1275 1403 1131 1340 \r\nQ 988 1278 909 1158 \r\nQ 831 1038 831 891 \r\nQ 831 666 1001 516 \r\nQ 1172 366 1500 366 \r\nQ 1825 366 2078 508 \r\nQ 2331 650 2450 897 \r\nQ 2541 1088 2541 1459 \r\nL 2541 1666 \r\nz\r\n\" id=\"ArialMT-61\" transform=\"scale(0.015625)\"/>\r\n      <path d=\"M 197 991 \r\nL 753 1078 \r\nQ 800 744 1014 566 \r\nQ 1228 388 1613 388 \r\nQ 2000 388 2187 545 \r\nQ 2375 703 2375 916 \r\nQ 2375 1106 2209 1216 \r\nQ 2094 1291 1634 1406 \r\nQ 1016 1563 777 1677 \r\nQ 538 1791 414 1992 \r\nQ 291 2194 291 2438 \r\nQ 291 2659 392 2848 \r\nQ 494 3038 669 3163 \r\nQ 800 3259 1026 3326 \r\nQ 1253 3394 1513 3394 \r\nQ 1903 3394 2198 3281 \r\nQ 2494 3169 2634 2976 \r\nQ 2775 2784 2828 2463 \r\nL 2278 2388 \r\nQ 2241 2644 2061 2787 \r\nQ 1881 2931 1553 2931 \r\nQ 1166 2931 1000 2803 \r\nQ 834 2675 834 2503 \r\nQ 834 2394 903 2306 \r\nQ 972 2216 1119 2156 \r\nQ 1203 2125 1616 2013 \r\nQ 2213 1853 2448 1751 \r\nQ 2684 1650 2818 1456 \r\nQ 2953 1263 2953 975 \r\nQ 2953 694 2789 445 \r\nQ 2625 197 2315 61 \r\nQ 2006 -75 1616 -75 \r\nQ 969 -75 630 194 \r\nQ 291 463 197 991 \r\nz\r\n\" id=\"ArialMT-73\" transform=\"scale(0.015625)\"/>\r\n      <path d=\"M 2575 0 \r\nL 2575 419 \r\nQ 2259 -75 1647 -75 \r\nQ 1250 -75 917 144 \r\nQ 584 363 401 755 \r\nQ 219 1147 219 1656 \r\nQ 219 2153 384 2558 \r\nQ 550 2963 881 3178 \r\nQ 1213 3394 1622 3394 \r\nQ 1922 3394 2156 3267 \r\nQ 2391 3141 2538 2938 \r\nL 2538 4581 \r\nL 3097 4581 \r\nL 3097 0 \r\nL 2575 0 \r\nz\r\nM 797 1656 \r\nQ 797 1019 1065 703 \r\nQ 1334 388 1700 388 \r\nQ 2069 388 2326 689 \r\nQ 2584 991 2584 1609 \r\nQ 2584 2291 2321 2609 \r\nQ 2059 2928 1675 2928 \r\nQ 1300 2928 1048 2622 \r\nQ 797 2316 797 1656 \r\nz\r\n\" id=\"ArialMT-64\" transform=\"scale(0.015625)\"/>\r\n      <path id=\"ArialMT-20\" transform=\"scale(0.015625)\"/>\r\n      <path d=\"M -9 0 \r\nL 1750 4581 \r\nL 2403 4581 \r\nL 4278 0 \r\nL 3588 0 \r\nL 3053 1388 \r\nL 1138 1388 \r\nL 634 0 \r\nL -9 0 \r\nz\r\nM 1313 1881 \r\nL 2866 1881 \r\nL 2388 3150 \r\nQ 2169 3728 2063 4100 \r\nQ 1975 3659 1816 3225 \r\nL 1313 1881 \r\nz\r\n\" id=\"ArialMT-41\" transform=\"scale(0.015625)\"/>\r\n      <path d=\"M 3500 4581 \r\nL 4106 4581 \r\nL 4106 1934 \r\nQ 4106 1244 3950 837 \r\nQ 3794 431 3386 176 \r\nQ 2978 -78 2316 -78 \r\nQ 1672 -78 1262 144 \r\nQ 853 366 678 786 \r\nQ 503 1206 503 1934 \r\nL 503 4581 \r\nL 1109 4581 \r\nL 1109 1938 \r\nQ 1109 1341 1220 1058 \r\nQ 1331 775 1601 622 \r\nQ 1872 469 2263 469 \r\nQ 2931 469 3215 772 \r\nQ 3500 1075 3500 1938 \r\nL 3500 4581 \r\nz\r\n\" id=\"ArialMT-55\" transform=\"scale(0.015625)\"/>\r\n      <path d=\"M 3763 1606 \r\nL 4369 1453 \r\nQ 4178 706 3683 314 \r\nQ 3188 -78 2472 -78 \r\nQ 1731 -78 1267 223 \r\nQ 803 525 561 1097 \r\nQ 319 1669 319 2325 \r\nQ 319 3041 592 3573 \r\nQ 866 4106 1370 4382 \r\nQ 1875 4659 2481 4659 \r\nQ 3169 4659 3637 4309 \r\nQ 4106 3959 4291 3325 \r\nL 3694 3184 \r\nQ 3534 3684 3231 3912 \r\nQ 2928 4141 2469 4141 \r\nQ 1941 4141 1586 3887 \r\nQ 1231 3634 1087 3207 \r\nQ 944 2781 944 2328 \r\nQ 944 1744 1114 1308 \r\nQ 1284 872 1643 656 \r\nQ 2003 441 2422 441 \r\nQ 2931 441 3284 734 \r\nQ 3638 1028 3763 1606 \r\nz\r\n\" id=\"ArialMT-43\" transform=\"scale(0.015625)\"/>\r\n      <path d=\"M 3381 2694 \r\nL 356 2694 \r\nL 356 3219 \r\nL 3381 3219 \r\nL 3381 2694 \r\nz\r\nM 3381 1303 \r\nL 356 1303 \r\nL 356 1828 \r\nL 3381 1828 \r\nL 3381 1303 \r\nz\r\n\" id=\"ArialMT-3d\" transform=\"scale(0.015625)\"/>\r\n      <path d=\"M 350 1059 \r\nL 891 1109 \r\nQ 959 728 1153 556 \r\nQ 1347 384 1650 384 \r\nQ 1909 384 2104 503 \r\nQ 2300 622 2425 820 \r\nQ 2550 1019 2634 1356 \r\nQ 2719 1694 2719 2044 \r\nQ 2719 2081 2716 2156 \r\nQ 2547 1888 2255 1720 \r\nQ 1963 1553 1622 1553 \r\nQ 1053 1553 659 1965 \r\nQ 266 2378 266 3053 \r\nQ 266 3750 677 4175 \r\nQ 1088 4600 1706 4600 \r\nQ 2153 4600 2523 4359 \r\nQ 2894 4119 3086 3673 \r\nQ 3278 3228 3278 2384 \r\nQ 3278 1506 3087 986 \r\nQ 2897 466 2520 194 \r\nQ 2144 -78 1638 -78 \r\nQ 1100 -78 759 220 \r\nQ 419 519 350 1059 \r\nz\r\nM 2653 3081 \r\nQ 2653 3566 2395 3850 \r\nQ 2138 4134 1775 4134 \r\nQ 1400 4134 1122 3828 \r\nQ 844 3522 844 3034 \r\nQ 844 2597 1108 2323 \r\nQ 1372 2050 1759 2050 \r\nQ 2150 2050 2401 2323 \r\nQ 2653 2597 2653 3081 \r\nz\r\n\" id=\"ArialMT-39\" transform=\"scale(0.015625)\"/>\r\n      <path d=\"M 269 1209 \r\nL 831 1284 \r\nQ 928 806 1161 595 \r\nQ 1394 384 1728 384 \r\nQ 2125 384 2398 659 \r\nQ 2672 934 2672 1341 \r\nQ 2672 1728 2419 1979 \r\nQ 2166 2231 1775 2231 \r\nQ 1616 2231 1378 2169 \r\nL 1441 2663 \r\nQ 1497 2656 1531 2656 \r\nQ 1891 2656 2178 2843 \r\nQ 2466 3031 2466 3422 \r\nQ 2466 3731 2256 3934 \r\nQ 2047 4138 1716 4138 \r\nQ 1388 4138 1169 3931 \r\nQ 950 3725 888 3313 \r\nL 325 3413 \r\nQ 428 3978 793 4289 \r\nQ 1159 4600 1703 4600 \r\nQ 2078 4600 2393 4439 \r\nQ 2709 4278 2876 4000 \r\nQ 3044 3722 3044 3409 \r\nQ 3044 3113 2884 2869 \r\nQ 2725 2625 2413 2481 \r\nQ 2819 2388 3044 2092 \r\nQ 3269 1797 3269 1353 \r\nQ 3269 753 2831 336 \r\nQ 2394 -81 1725 -81 \r\nQ 1122 -81 723 278 \r\nQ 325 638 269 1209 \r\nz\r\n\" id=\"ArialMT-33\" transform=\"scale(0.015625)\"/>\r\n     </defs>\r\n     <use xlink:href=\"#ArialMT-4e\"/>\r\n     <use x=\"72.216797\" xlink:href=\"#ArialMT-65\"/>\r\n     <use x=\"127.832031\" xlink:href=\"#ArialMT-74\"/>\r\n     <use x=\"155.615234\" xlink:href=\"#ArialMT-77\"/>\r\n     <use x=\"227.832031\" xlink:href=\"#ArialMT-6f\"/>\r\n     <use x=\"283.447266\" xlink:href=\"#ArialMT-72\"/>\r\n     <use x=\"316.748047\" xlink:href=\"#ArialMT-6b\"/>\r\n     <use x=\"366.748047\" xlink:href=\"#ArialMT-2d\"/>\r\n     <use x=\"400.048828\" xlink:href=\"#ArialMT-62\"/>\r\n     <use x=\"455.664062\" xlink:href=\"#ArialMT-61\"/>\r\n     <use x=\"511.279297\" xlink:href=\"#ArialMT-73\"/>\r\n     <use x=\"561.279297\" xlink:href=\"#ArialMT-65\"/>\r\n     <use x=\"616.894531\" xlink:href=\"#ArialMT-64\"/>\r\n     <use x=\"672.509766\" xlink:href=\"#ArialMT-20\"/>\r\n     <use x=\"694.792969\" xlink:href=\"#ArialMT-41\"/>\r\n     <use x=\"761.492188\" xlink:href=\"#ArialMT-55\"/>\r\n     <use x=\"833.708984\" xlink:href=\"#ArialMT-43\"/>\r\n     <use x=\"905.925781\" xlink:href=\"#ArialMT-3d\"/>\r\n     <use x=\"964.324219\" xlink:href=\"#ArialMT-30\"/>\r\n     <use x=\"1019.939453\" xlink:href=\"#ArialMT-2e\"/>\r\n     <use x=\"1047.722656\" xlink:href=\"#ArialMT-39\"/>\r\n     <use x=\"1103.337891\" xlink:href=\"#ArialMT-33\"/>\r\n    </g>\r\n   </g>\r\n  </g>\r\n </g>\r\n <defs>\r\n  <clipPath id=\"p97476ba375\">\r\n   <rect height=\"217.44\" width=\"334.8\" x=\"31.99\" y=\"21.789375\"/>\r\n  </clipPath>\r\n </defs>\r\n</svg>\r\n",
      "image/png": "[encoded data removed]"
     },
     "metadata": {}
    }
   ],
   "metadata": {}
  },
  {
   "cell_type": "code",
   "execution_count": 228,
   "source": [
    "from pandas import DataFrame\r\n",
    "\r\n",
    "y_pre_cv1_sspd = DataFrame(y_pre_cv1_ss,index=test_index_list[0])\r\n",
    "\r\n",
    "y_pre_cv2_sspd = DataFrame(y_pre_cv2_ss,index=test_index_list[1])\r\n",
    "\r\n",
    "y_pre_cv3_sspd = DataFrame(y_pre_cv3_ss,index=test_index_list[2])\r\n",
    "\r\n",
    "y_pre_cv4_sspd = DataFrame(y_pre_cv4_ss,index=test_index_list[3])\r\n",
    "\r\n",
    "y_pre_cv5_sspd = DataFrame(y_pre_cv5_ss,index=test_index_list[4])\r\n",
    "\r\n",
    "Ridge_predss = pd.concat([y_pre_cv1_sspd, y_pre_cv2_sspd, y_pre_cv3_sspd, y_pre_cv4_sspd, y_pre_cv5_sspd],axis=0).sort_index().values.reshape(1,-1)[0]\r\n",
    "print(Ridge_predss)"
   ],
   "outputs": [
    {
     "output_type": "stream",
     "name": "stdout",
     "text": [
      "[ 0.1770716  -1.03511361 -1.63226317  0.07061592  0.14575701  0.16194609\n",
      " -0.38634328 -0.36834098 -0.60593294 -0.10284833 -0.04388406 -0.20978857\n",
      "  1.42221746  0.18836308 -0.92217681  0.45881803  0.32653871  0.73081917\n",
      " -0.67557677 -0.12602337  0.33857186  1.65115202 -2.27626207  1.86435079\n",
      "  1.54997925  0.07686668 -0.32473489 -0.18987454 -0.73590723  0.3818716\n",
      "  0.17155387 -0.37448029 -1.20113517 -0.42511701 -0.66523587 -0.4304423\n",
      "  2.11184177  0.59054953 -0.36595032  0.77208842  0.03093084 -0.31601414\n",
      " -0.47091754  0.05817863  1.75751581  1.72508999 -3.7176193   1.12678165]\n"
     ]
    }
   ],
   "metadata": {}
  },
  {
   "cell_type": "code",
   "execution_count": 232,
   "source": [
    "from sklearn import metrics\r\n",
    "\r\n",
    "#auc = metrics.roc_auc_score(Y>-1, y_pre)\r\n",
    "#print(auc)\r\n",
    "auc_multi_path = metrics.roc_auc_score(Y>-1, Ridge_predss)\r\n",
    "print(auc_multi_path)\r\n",
    "fpr, tpr, thresholds = metrics.roc_curve(Y > -1, Ridge_predss)\r\n",
    "plt.plot(fpr,tpr)\r\n",
    "plt.title('Network-based AUC=%.2f'%(auc_multi_path))\r\n",
    "plt.show()\r\n",
    "\r\n"
   ],
   "outputs": [
    {
     "output_type": "stream",
     "name": "stdout",
     "text": [
      "0.5656249999999999\n"
     ]
    },
    {
     "output_type": "display_data",
     "data": {
      "text/plain": [
       "<Figure size 432x288 with 1 Axes>"
      ],
      "image/svg+xml": "<?xml version=\"1.0\" encoding=\"utf-8\" standalone=\"no\"?>\r\n<!DOCTYPE svg PUBLIC \"-//W3C//DTD SVG 1.1//EN\"\r\n  \"http://www.w3.org/Graphics/SVG/1.1/DTD/svg11.dtd\">\r\n<svg height=\"265.989219pt\" version=\"1.1\" viewBox=\"0 0 373.99 265.989219\" width=\"373.99pt\" xmlns=\"http://www.w3.org/2000/svg\" xmlns:xlink=\"http://www.w3.org/1999/xlink\">\r\n <metadata>\r\n  <rdf:RDF xmlns:cc=\"http://creativecommons.org/ns#\" xmlns:dc=\"http://purl.org/dc/elements/1.1/\" xmlns:rdf=\"http://www.w3.org/1999/02/22-rdf-syntax-ns#\">\r\n   <cc:Work>\r\n    <dc:type rdf:resource=\"http://purl.org/dc/dcmitype/StillImage\"/>\r\n    <dc:date>2021-08-24T21:48:58.992503</dc:date>\r\n    <dc:format>image/svg+xml</dc:format>\r\n    <dc:creator>\r\n     <cc:Agent>\r\n      <dc:title>Matplotlib v3.4.3, https://matplotlib.org/</dc:title>\r\n     </cc:Agent>\r\n    </dc:creator>\r\n   </cc:Work>\r\n  </rdf:RDF>\r\n </metadata>\r\n <defs>\r\n  <style type=\"text/css\">*{stroke-linecap:butt;stroke-linejoin:round;}</style>\r\n </defs>\r\n <g id=\"figure_1\">\r\n  <g id=\"patch_1\">\r\n   <path d=\"M 0 265.989219 \r\nL 373.99 265.989219 \r\nL 373.99 0 \r\nL 0 0 \r\nz\r\n\" style=\"fill:#ffffff;\"/>\r\n  </g>\r\n  <g id=\"axes_1\">\r\n   <g id=\"patch_2\">\r\n    <path d=\"M 31.99 239.229375 \r\nL 366.79 239.229375 \r\nL 366.79 21.789375 \r\nL 31.99 21.789375 \r\nz\r\n\" style=\"fill:#eaeaf2;\"/>\r\n   </g>\r\n   <g id=\"matplotlib.axis_1\">\r\n    <g id=\"xtick_1\">\r\n     <g id=\"line2d_1\">\r\n      <path clip-path=\"url(#paca4119f5d)\" d=\"M 47.208182 239.229375 \r\nL 47.208182 21.789375 \r\n\" style=\"fill:none;stroke:#ffffff;stroke-linecap:round;\"/>\r\n     </g>\r\n     <g id=\"text_1\">\r\n      <!-- 0.0 -->\r\n      <g style=\"fill:#262626;\" transform=\"translate(39.563182 256.602969)scale(0.11 -0.11)\">\r\n       <defs>\r\n        <path d=\"M 266 2259 \r\nQ 266 3072 433 3567 \r\nQ 600 4063 929 4331 \r\nQ 1259 4600 1759 4600 \r\nQ 2128 4600 2406 4451 \r\nQ 2684 4303 2865 4023 \r\nQ 3047 3744 3150 3342 \r\nQ 3253 2941 3253 2259 \r\nQ 3253 1453 3087 958 \r\nQ 2922 463 2592 192 \r\nQ 2263 -78 1759 -78 \r\nQ 1097 -78 719 397 \r\nQ 266 969 266 2259 \r\nz\r\nM 844 2259 \r\nQ 844 1131 1108 757 \r\nQ 1372 384 1759 384 \r\nQ 2147 384 2411 759 \r\nQ 2675 1134 2675 2259 \r\nQ 2675 3391 2411 3762 \r\nQ 2147 4134 1753 4134 \r\nQ 1366 4134 1134 3806 \r\nQ 844 3388 844 2259 \r\nz\r\n\" id=\"ArialMT-30\" transform=\"scale(0.015625)\"/>\r\n        <path d=\"M 581 0 \r\nL 581 641 \r\nL 1222 641 \r\nL 1222 0 \r\nL 581 0 \r\nz\r\n\" id=\"ArialMT-2e\" transform=\"scale(0.015625)\"/>\r\n       </defs>\r\n       <use xlink:href=\"#ArialMT-30\"/>\r\n       <use x=\"55.615234\" xlink:href=\"#ArialMT-2e\"/>\r\n       <use x=\"83.398438\" xlink:href=\"#ArialMT-30\"/>\r\n      </g>\r\n     </g>\r\n    </g>\r\n    <g id=\"xtick_2\">\r\n     <g id=\"line2d_2\">\r\n      <path clip-path=\"url(#paca4119f5d)\" d=\"M 108.080909 239.229375 \r\nL 108.080909 21.789375 \r\n\" style=\"fill:none;stroke:#ffffff;stroke-linecap:round;\"/>\r\n     </g>\r\n     <g id=\"text_2\">\r\n      <!-- 0.2 -->\r\n      <g style=\"fill:#262626;\" transform=\"translate(100.435909 256.602969)scale(0.11 -0.11)\">\r\n       <defs>\r\n        <path d=\"M 3222 541 \r\nL 3222 0 \r\nL 194 0 \r\nQ 188 203 259 391 \r\nQ 375 700 629 1000 \r\nQ 884 1300 1366 1694 \r\nQ 2113 2306 2375 2664 \r\nQ 2638 3022 2638 3341 \r\nQ 2638 3675 2398 3904 \r\nQ 2159 4134 1775 4134 \r\nQ 1369 4134 1125 3890 \r\nQ 881 3647 878 3216 \r\nL 300 3275 \r\nQ 359 3922 746 4261 \r\nQ 1134 4600 1788 4600 \r\nQ 2447 4600 2831 4234 \r\nQ 3216 3869 3216 3328 \r\nQ 3216 3053 3103 2787 \r\nQ 2991 2522 2730 2228 \r\nQ 2469 1934 1863 1422 \r\nQ 1356 997 1212 845 \r\nQ 1069 694 975 541 \r\nL 3222 541 \r\nz\r\n\" id=\"ArialMT-32\" transform=\"scale(0.015625)\"/>\r\n       </defs>\r\n       <use xlink:href=\"#ArialMT-30\"/>\r\n       <use x=\"55.615234\" xlink:href=\"#ArialMT-2e\"/>\r\n       <use x=\"83.398438\" xlink:href=\"#ArialMT-32\"/>\r\n      </g>\r\n     </g>\r\n    </g>\r\n    <g id=\"xtick_3\">\r\n     <g id=\"line2d_3\">\r\n      <path clip-path=\"url(#paca4119f5d)\" d=\"M 168.953636 239.229375 \r\nL 168.953636 21.789375 \r\n\" style=\"fill:none;stroke:#ffffff;stroke-linecap:round;\"/>\r\n     </g>\r\n     <g id=\"text_3\">\r\n      <!-- 0.4 -->\r\n      <g style=\"fill:#262626;\" transform=\"translate(161.308636 256.602969)scale(0.11 -0.11)\">\r\n       <defs>\r\n        <path d=\"M 2069 0 \r\nL 2069 1097 \r\nL 81 1097 \r\nL 81 1613 \r\nL 2172 4581 \r\nL 2631 4581 \r\nL 2631 1613 \r\nL 3250 1613 \r\nL 3250 1097 \r\nL 2631 1097 \r\nL 2631 0 \r\nL 2069 0 \r\nz\r\nM 2069 1613 \r\nL 2069 3678 \r\nL 634 1613 \r\nL 2069 1613 \r\nz\r\n\" id=\"ArialMT-34\" transform=\"scale(0.015625)\"/>\r\n       </defs>\r\n       <use xlink:href=\"#ArialMT-30\"/>\r\n       <use x=\"55.615234\" xlink:href=\"#ArialMT-2e\"/>\r\n       <use x=\"83.398438\" xlink:href=\"#ArialMT-34\"/>\r\n      </g>\r\n     </g>\r\n    </g>\r\n    <g id=\"xtick_4\">\r\n     <g id=\"line2d_4\">\r\n      <path clip-path=\"url(#paca4119f5d)\" d=\"M 229.826364 239.229375 \r\nL 229.826364 21.789375 \r\n\" style=\"fill:none;stroke:#ffffff;stroke-linecap:round;\"/>\r\n     </g>\r\n     <g id=\"text_4\">\r\n      <!-- 0.6 -->\r\n      <g style=\"fill:#262626;\" transform=\"translate(222.181364 256.602969)scale(0.11 -0.11)\">\r\n       <defs>\r\n        <path d=\"M 3184 3459 \r\nL 2625 3416 \r\nQ 2550 3747 2413 3897 \r\nQ 2184 4138 1850 4138 \r\nQ 1581 4138 1378 3988 \r\nQ 1113 3794 959 3422 \r\nQ 806 3050 800 2363 \r\nQ 1003 2672 1297 2822 \r\nQ 1591 2972 1913 2972 \r\nQ 2475 2972 2870 2558 \r\nQ 3266 2144 3266 1488 \r\nQ 3266 1056 3080 686 \r\nQ 2894 316 2569 119 \r\nQ 2244 -78 1831 -78 \r\nQ 1128 -78 684 439 \r\nQ 241 956 241 2144 \r\nQ 241 3472 731 4075 \r\nQ 1159 4600 1884 4600 \r\nQ 2425 4600 2770 4297 \r\nQ 3116 3994 3184 3459 \r\nz\r\nM 888 1484 \r\nQ 888 1194 1011 928 \r\nQ 1134 663 1356 523 \r\nQ 1578 384 1822 384 \r\nQ 2178 384 2434 671 \r\nQ 2691 959 2691 1453 \r\nQ 2691 1928 2437 2201 \r\nQ 2184 2475 1800 2475 \r\nQ 1419 2475 1153 2201 \r\nQ 888 1928 888 1484 \r\nz\r\n\" id=\"ArialMT-36\" transform=\"scale(0.015625)\"/>\r\n       </defs>\r\n       <use xlink:href=\"#ArialMT-30\"/>\r\n       <use x=\"55.615234\" xlink:href=\"#ArialMT-2e\"/>\r\n       <use x=\"83.398438\" xlink:href=\"#ArialMT-36\"/>\r\n      </g>\r\n     </g>\r\n    </g>\r\n    <g id=\"xtick_5\">\r\n     <g id=\"line2d_5\">\r\n      <path clip-path=\"url(#paca4119f5d)\" d=\"M 290.699091 239.229375 \r\nL 290.699091 21.789375 \r\n\" style=\"fill:none;stroke:#ffffff;stroke-linecap:round;\"/>\r\n     </g>\r\n     <g id=\"text_5\">\r\n      <!-- 0.8 -->\r\n      <g style=\"fill:#262626;\" transform=\"translate(283.054091 256.602969)scale(0.11 -0.11)\">\r\n       <defs>\r\n        <path d=\"M 1131 2484 \r\nQ 781 2613 612 2850 \r\nQ 444 3088 444 3419 \r\nQ 444 3919 803 4259 \r\nQ 1163 4600 1759 4600 \r\nQ 2359 4600 2725 4251 \r\nQ 3091 3903 3091 3403 \r\nQ 3091 3084 2923 2848 \r\nQ 2756 2613 2416 2484 \r\nQ 2838 2347 3058 2040 \r\nQ 3278 1734 3278 1309 \r\nQ 3278 722 2862 322 \r\nQ 2447 -78 1769 -78 \r\nQ 1091 -78 675 323 \r\nQ 259 725 259 1325 \r\nQ 259 1772 486 2073 \r\nQ 713 2375 1131 2484 \r\nz\r\nM 1019 3438 \r\nQ 1019 3113 1228 2906 \r\nQ 1438 2700 1772 2700 \r\nQ 2097 2700 2305 2904 \r\nQ 2513 3109 2513 3406 \r\nQ 2513 3716 2298 3927 \r\nQ 2084 4138 1766 4138 \r\nQ 1444 4138 1231 3931 \r\nQ 1019 3725 1019 3438 \r\nz\r\nM 838 1322 \r\nQ 838 1081 952 856 \r\nQ 1066 631 1291 507 \r\nQ 1516 384 1775 384 \r\nQ 2178 384 2440 643 \r\nQ 2703 903 2703 1303 \r\nQ 2703 1709 2433 1975 \r\nQ 2163 2241 1756 2241 \r\nQ 1359 2241 1098 1978 \r\nQ 838 1716 838 1322 \r\nz\r\n\" id=\"ArialMT-38\" transform=\"scale(0.015625)\"/>\r\n       </defs>\r\n       <use xlink:href=\"#ArialMT-30\"/>\r\n       <use x=\"55.615234\" xlink:href=\"#ArialMT-2e\"/>\r\n       <use x=\"83.398438\" xlink:href=\"#ArialMT-38\"/>\r\n      </g>\r\n     </g>\r\n    </g>\r\n    <g id=\"xtick_6\">\r\n     <g id=\"line2d_6\">\r\n      <path clip-path=\"url(#paca4119f5d)\" d=\"M 351.571818 239.229375 \r\nL 351.571818 21.789375 \r\n\" style=\"fill:none;stroke:#ffffff;stroke-linecap:round;\"/>\r\n     </g>\r\n     <g id=\"text_6\">\r\n      <!-- 1.0 -->\r\n      <g style=\"fill:#262626;\" transform=\"translate(343.926818 256.602969)scale(0.11 -0.11)\">\r\n       <defs>\r\n        <path d=\"M 2384 0 \r\nL 1822 0 \r\nL 1822 3584 \r\nQ 1619 3391 1289 3197 \r\nQ 959 3003 697 2906 \r\nL 697 3450 \r\nQ 1169 3672 1522 3987 \r\nQ 1875 4303 2022 4600 \r\nL 2384 4600 \r\nL 2384 0 \r\nz\r\n\" id=\"ArialMT-31\" transform=\"scale(0.015625)\"/>\r\n       </defs>\r\n       <use xlink:href=\"#ArialMT-31\"/>\r\n       <use x=\"55.615234\" xlink:href=\"#ArialMT-2e\"/>\r\n       <use x=\"83.398438\" xlink:href=\"#ArialMT-30\"/>\r\n      </g>\r\n     </g>\r\n    </g>\r\n   </g>\r\n   <g id=\"matplotlib.axis_2\">\r\n    <g id=\"ytick_1\">\r\n     <g id=\"line2d_7\">\r\n      <path clip-path=\"url(#paca4119f5d)\" d=\"M 31.99 229.345739 \r\nL 366.79 229.345739 \r\n\" style=\"fill:none;stroke:#ffffff;stroke-linecap:round;\"/>\r\n     </g>\r\n     <g id=\"text_7\">\r\n      <!-- 0.0 -->\r\n      <g style=\"fill:#262626;\" transform=\"translate(7.2 233.282536)scale(0.11 -0.11)\">\r\n       <use xlink:href=\"#ArialMT-30\"/>\r\n       <use x=\"55.615234\" xlink:href=\"#ArialMT-2e\"/>\r\n       <use x=\"83.398438\" xlink:href=\"#ArialMT-30\"/>\r\n      </g>\r\n     </g>\r\n    </g>\r\n    <g id=\"ytick_2\">\r\n     <g id=\"line2d_8\">\r\n      <path clip-path=\"url(#paca4119f5d)\" d=\"M 31.99 189.811193 \r\nL 366.79 189.811193 \r\n\" style=\"fill:none;stroke:#ffffff;stroke-linecap:round;\"/>\r\n     </g>\r\n     <g id=\"text_8\">\r\n      <!-- 0.2 -->\r\n      <g style=\"fill:#262626;\" transform=\"translate(7.2 193.74799)scale(0.11 -0.11)\">\r\n       <use xlink:href=\"#ArialMT-30\"/>\r\n       <use x=\"55.615234\" xlink:href=\"#ArialMT-2e\"/>\r\n       <use x=\"83.398438\" xlink:href=\"#ArialMT-32\"/>\r\n      </g>\r\n     </g>\r\n    </g>\r\n    <g id=\"ytick_3\">\r\n     <g id=\"line2d_9\">\r\n      <path clip-path=\"url(#paca4119f5d)\" d=\"M 31.99 150.276648 \r\nL 366.79 150.276648 \r\n\" style=\"fill:none;stroke:#ffffff;stroke-linecap:round;\"/>\r\n     </g>\r\n     <g id=\"text_9\">\r\n      <!-- 0.4 -->\r\n      <g style=\"fill:#262626;\" transform=\"translate(7.2 154.213445)scale(0.11 -0.11)\">\r\n       <use xlink:href=\"#ArialMT-30\"/>\r\n       <use x=\"55.615234\" xlink:href=\"#ArialMT-2e\"/>\r\n       <use x=\"83.398438\" xlink:href=\"#ArialMT-34\"/>\r\n      </g>\r\n     </g>\r\n    </g>\r\n    <g id=\"ytick_4\">\r\n     <g id=\"line2d_10\">\r\n      <path clip-path=\"url(#paca4119f5d)\" d=\"M 31.99 110.742102 \r\nL 366.79 110.742102 \r\n\" style=\"fill:none;stroke:#ffffff;stroke-linecap:round;\"/>\r\n     </g>\r\n     <g id=\"text_10\">\r\n      <!-- 0.6 -->\r\n      <g style=\"fill:#262626;\" transform=\"translate(7.2 114.678899)scale(0.11 -0.11)\">\r\n       <use xlink:href=\"#ArialMT-30\"/>\r\n       <use x=\"55.615234\" xlink:href=\"#ArialMT-2e\"/>\r\n       <use x=\"83.398438\" xlink:href=\"#ArialMT-36\"/>\r\n      </g>\r\n     </g>\r\n    </g>\r\n    <g id=\"ytick_5\">\r\n     <g id=\"line2d_11\">\r\n      <path clip-path=\"url(#paca4119f5d)\" d=\"M 31.99 71.207557 \r\nL 366.79 71.207557 \r\n\" style=\"fill:none;stroke:#ffffff;stroke-linecap:round;\"/>\r\n     </g>\r\n     <g id=\"text_11\">\r\n      <!-- 0.8 -->\r\n      <g style=\"fill:#262626;\" transform=\"translate(7.2 75.144354)scale(0.11 -0.11)\">\r\n       <use xlink:href=\"#ArialMT-30\"/>\r\n       <use x=\"55.615234\" xlink:href=\"#ArialMT-2e\"/>\r\n       <use x=\"83.398438\" xlink:href=\"#ArialMT-38\"/>\r\n      </g>\r\n     </g>\r\n    </g>\r\n    <g id=\"ytick_6\">\r\n     <g id=\"line2d_12\">\r\n      <path clip-path=\"url(#paca4119f5d)\" d=\"M 31.99 31.673011 \r\nL 366.79 31.673011 \r\n\" style=\"fill:none;stroke:#ffffff;stroke-linecap:round;\"/>\r\n     </g>\r\n     <g id=\"text_12\">\r\n      <!-- 1.0 -->\r\n      <g style=\"fill:#262626;\" transform=\"translate(7.2 35.609808)scale(0.11 -0.11)\">\r\n       <use xlink:href=\"#ArialMT-31\"/>\r\n       <use x=\"55.615234\" xlink:href=\"#ArialMT-2e\"/>\r\n       <use x=\"83.398438\" xlink:href=\"#ArialMT-30\"/>\r\n      </g>\r\n     </g>\r\n    </g>\r\n   </g>\r\n   <g id=\"line2d_13\">\r\n    <path clip-path=\"url(#paca4119f5d)\" d=\"M 47.208182 229.345739 \r\nL 85.253636 229.345739 \r\nL 85.253636 150.276648 \r\nL 123.299091 150.276648 \r\nL 123.299091 130.509375 \r\nL 161.344545 130.509375 \r\nL 161.344545 115.68392 \r\nL 275.480909 115.68392 \r\nL 275.480909 46.498466 \r\nL 313.526364 46.498466 \r\nL 313.526364 36.61483 \r\nL 351.571818 36.61483 \r\nL 351.571818 31.673011 \r\n\" style=\"fill:none;stroke:#4c72b0;stroke-linecap:round;stroke-width:1.5;\"/>\r\n   </g>\r\n   <g id=\"patch_3\">\r\n    <path d=\"M 31.99 239.229375 \r\nL 31.99 21.789375 \r\n\" style=\"fill:none;stroke:#ffffff;stroke-linecap:square;stroke-linejoin:miter;stroke-width:1.25;\"/>\r\n   </g>\r\n   <g id=\"patch_4\">\r\n    <path d=\"M 366.79 239.229375 \r\nL 366.79 21.789375 \r\n\" style=\"fill:none;stroke:#ffffff;stroke-linecap:square;stroke-linejoin:miter;stroke-width:1.25;\"/>\r\n   </g>\r\n   <g id=\"patch_5\">\r\n    <path d=\"M 31.99 239.229375 \r\nL 366.79 239.229375 \r\n\" style=\"fill:none;stroke:#ffffff;stroke-linecap:square;stroke-linejoin:miter;stroke-width:1.25;\"/>\r\n   </g>\r\n   <g id=\"patch_6\">\r\n    <path d=\"M 31.99 21.789375 \r\nL 366.79 21.789375 \r\n\" style=\"fill:none;stroke:#ffffff;stroke-linecap:square;stroke-linejoin:miter;stroke-width:1.25;\"/>\r\n   </g>\r\n   <g id=\"text_13\">\r\n    <!-- Network-based AUC=0.57 -->\r\n    <g style=\"fill:#262626;\" transform=\"translate(129.855625 15.789375)scale(0.12 -0.12)\">\r\n     <defs>\r\n      <path d=\"M 488 0 \r\nL 488 4581 \r\nL 1109 4581 \r\nL 3516 984 \r\nL 3516 4581 \r\nL 4097 4581 \r\nL 4097 0 \r\nL 3475 0 \r\nL 1069 3600 \r\nL 1069 0 \r\nL 488 0 \r\nz\r\n\" id=\"ArialMT-4e\" transform=\"scale(0.015625)\"/>\r\n      <path d=\"M 2694 1069 \r\nL 3275 997 \r\nQ 3138 488 2766 206 \r\nQ 2394 -75 1816 -75 \r\nQ 1088 -75 661 373 \r\nQ 234 822 234 1631 \r\nQ 234 2469 665 2931 \r\nQ 1097 3394 1784 3394 \r\nQ 2450 3394 2872 2941 \r\nQ 3294 2488 3294 1666 \r\nQ 3294 1616 3291 1516 \r\nL 816 1516 \r\nQ 847 969 1125 678 \r\nQ 1403 388 1819 388 \r\nQ 2128 388 2347 550 \r\nQ 2566 713 2694 1069 \r\nz\r\nM 847 1978 \r\nL 2700 1978 \r\nQ 2663 2397 2488 2606 \r\nQ 2219 2931 1791 2931 \r\nQ 1403 2931 1139 2672 \r\nQ 875 2413 847 1978 \r\nz\r\n\" id=\"ArialMT-65\" transform=\"scale(0.015625)\"/>\r\n      <path d=\"M 1650 503 \r\nL 1731 6 \r\nQ 1494 -44 1306 -44 \r\nQ 1000 -44 831 53 \r\nQ 663 150 594 308 \r\nQ 525 466 525 972 \r\nL 525 2881 \r\nL 113 2881 \r\nL 113 3319 \r\nL 525 3319 \r\nL 525 4141 \r\nL 1084 4478 \r\nL 1084 3319 \r\nL 1650 3319 \r\nL 1650 2881 \r\nL 1084 2881 \r\nL 1084 941 \r\nQ 1084 700 1114 631 \r\nQ 1144 563 1211 522 \r\nQ 1278 481 1403 481 \r\nQ 1497 481 1650 503 \r\nz\r\n\" id=\"ArialMT-74\" transform=\"scale(0.015625)\"/>\r\n      <path d=\"M 1034 0 \r\nL 19 3319 \r\nL 600 3319 \r\nL 1128 1403 \r\nL 1325 691 \r\nQ 1338 744 1497 1375 \r\nL 2025 3319 \r\nL 2603 3319 \r\nL 3100 1394 \r\nL 3266 759 \r\nL 3456 1400 \r\nL 4025 3319 \r\nL 4572 3319 \r\nL 3534 0 \r\nL 2950 0 \r\nL 2422 1988 \r\nL 2294 2553 \r\nL 1622 0 \r\nL 1034 0 \r\nz\r\n\" id=\"ArialMT-77\" transform=\"scale(0.015625)\"/>\r\n      <path d=\"M 213 1659 \r\nQ 213 2581 725 3025 \r\nQ 1153 3394 1769 3394 \r\nQ 2453 3394 2887 2945 \r\nQ 3322 2497 3322 1706 \r\nQ 3322 1066 3130 698 \r\nQ 2938 331 2570 128 \r\nQ 2203 -75 1769 -75 \r\nQ 1072 -75 642 372 \r\nQ 213 819 213 1659 \r\nz\r\nM 791 1659 \r\nQ 791 1022 1069 705 \r\nQ 1347 388 1769 388 \r\nQ 2188 388 2466 706 \r\nQ 2744 1025 2744 1678 \r\nQ 2744 2294 2464 2611 \r\nQ 2184 2928 1769 2928 \r\nQ 1347 2928 1069 2612 \r\nQ 791 2297 791 1659 \r\nz\r\n\" id=\"ArialMT-6f\" transform=\"scale(0.015625)\"/>\r\n      <path d=\"M 416 0 \r\nL 416 3319 \r\nL 922 3319 \r\nL 922 2816 \r\nQ 1116 3169 1280 3281 \r\nQ 1444 3394 1641 3394 \r\nQ 1925 3394 2219 3213 \r\nL 2025 2691 \r\nQ 1819 2813 1613 2813 \r\nQ 1428 2813 1281 2702 \r\nQ 1134 2591 1072 2394 \r\nQ 978 2094 978 1738 \r\nL 978 0 \r\nL 416 0 \r\nz\r\n\" id=\"ArialMT-72\" transform=\"scale(0.015625)\"/>\r\n      <path d=\"M 425 0 \r\nL 425 4581 \r\nL 988 4581 \r\nL 988 1969 \r\nL 2319 3319 \r\nL 3047 3319 \r\nL 1778 2088 \r\nL 3175 0 \r\nL 2481 0 \r\nL 1384 1697 \r\nL 988 1316 \r\nL 988 0 \r\nL 425 0 \r\nz\r\n\" id=\"ArialMT-6b\" transform=\"scale(0.015625)\"/>\r\n      <path d=\"M 203 1375 \r\nL 203 1941 \r\nL 1931 1941 \r\nL 1931 1375 \r\nL 203 1375 \r\nz\r\n\" id=\"ArialMT-2d\" transform=\"scale(0.015625)\"/>\r\n      <path d=\"M 941 0 \r\nL 419 0 \r\nL 419 4581 \r\nL 981 4581 \r\nL 981 2947 \r\nQ 1338 3394 1891 3394 \r\nQ 2197 3394 2470 3270 \r\nQ 2744 3147 2920 2923 \r\nQ 3097 2700 3197 2384 \r\nQ 3297 2069 3297 1709 \r\nQ 3297 856 2875 390 \r\nQ 2453 -75 1863 -75 \r\nQ 1275 -75 941 416 \r\nL 941 0 \r\nz\r\nM 934 1684 \r\nQ 934 1088 1097 822 \r\nQ 1363 388 1816 388 \r\nQ 2184 388 2453 708 \r\nQ 2722 1028 2722 1663 \r\nQ 2722 2313 2464 2622 \r\nQ 2206 2931 1841 2931 \r\nQ 1472 2931 1203 2611 \r\nQ 934 2291 934 1684 \r\nz\r\n\" id=\"ArialMT-62\" transform=\"scale(0.015625)\"/>\r\n      <path d=\"M 2588 409 \r\nQ 2275 144 1986 34 \r\nQ 1697 -75 1366 -75 \r\nQ 819 -75 525 192 \r\nQ 231 459 231 875 \r\nQ 231 1119 342 1320 \r\nQ 453 1522 633 1644 \r\nQ 813 1766 1038 1828 \r\nQ 1203 1872 1538 1913 \r\nQ 2219 1994 2541 2106 \r\nQ 2544 2222 2544 2253 \r\nQ 2544 2597 2384 2738 \r\nQ 2169 2928 1744 2928 \r\nQ 1347 2928 1158 2789 \r\nQ 969 2650 878 2297 \r\nL 328 2372 \r\nQ 403 2725 575 2942 \r\nQ 747 3159 1072 3276 \r\nQ 1397 3394 1825 3394 \r\nQ 2250 3394 2515 3294 \r\nQ 2781 3194 2906 3042 \r\nQ 3031 2891 3081 2659 \r\nQ 3109 2516 3109 2141 \r\nL 3109 1391 \r\nQ 3109 606 3145 398 \r\nQ 3181 191 3288 0 \r\nL 2700 0 \r\nQ 2613 175 2588 409 \r\nz\r\nM 2541 1666 \r\nQ 2234 1541 1622 1453 \r\nQ 1275 1403 1131 1340 \r\nQ 988 1278 909 1158 \r\nQ 831 1038 831 891 \r\nQ 831 666 1001 516 \r\nQ 1172 366 1500 366 \r\nQ 1825 366 2078 508 \r\nQ 2331 650 2450 897 \r\nQ 2541 1088 2541 1459 \r\nL 2541 1666 \r\nz\r\n\" id=\"ArialMT-61\" transform=\"scale(0.015625)\"/>\r\n      <path d=\"M 197 991 \r\nL 753 1078 \r\nQ 800 744 1014 566 \r\nQ 1228 388 1613 388 \r\nQ 2000 388 2187 545 \r\nQ 2375 703 2375 916 \r\nQ 2375 1106 2209 1216 \r\nQ 2094 1291 1634 1406 \r\nQ 1016 1563 777 1677 \r\nQ 538 1791 414 1992 \r\nQ 291 2194 291 2438 \r\nQ 291 2659 392 2848 \r\nQ 494 3038 669 3163 \r\nQ 800 3259 1026 3326 \r\nQ 1253 3394 1513 3394 \r\nQ 1903 3394 2198 3281 \r\nQ 2494 3169 2634 2976 \r\nQ 2775 2784 2828 2463 \r\nL 2278 2388 \r\nQ 2241 2644 2061 2787 \r\nQ 1881 2931 1553 2931 \r\nQ 1166 2931 1000 2803 \r\nQ 834 2675 834 2503 \r\nQ 834 2394 903 2306 \r\nQ 972 2216 1119 2156 \r\nQ 1203 2125 1616 2013 \r\nQ 2213 1853 2448 1751 \r\nQ 2684 1650 2818 1456 \r\nQ 2953 1263 2953 975 \r\nQ 2953 694 2789 445 \r\nQ 2625 197 2315 61 \r\nQ 2006 -75 1616 -75 \r\nQ 969 -75 630 194 \r\nQ 291 463 197 991 \r\nz\r\n\" id=\"ArialMT-73\" transform=\"scale(0.015625)\"/>\r\n      <path d=\"M 2575 0 \r\nL 2575 419 \r\nQ 2259 -75 1647 -75 \r\nQ 1250 -75 917 144 \r\nQ 584 363 401 755 \r\nQ 219 1147 219 1656 \r\nQ 219 2153 384 2558 \r\nQ 550 2963 881 3178 \r\nQ 1213 3394 1622 3394 \r\nQ 1922 3394 2156 3267 \r\nQ 2391 3141 2538 2938 \r\nL 2538 4581 \r\nL 3097 4581 \r\nL 3097 0 \r\nL 2575 0 \r\nz\r\nM 797 1656 \r\nQ 797 1019 1065 703 \r\nQ 1334 388 1700 388 \r\nQ 2069 388 2326 689 \r\nQ 2584 991 2584 1609 \r\nQ 2584 2291 2321 2609 \r\nQ 2059 2928 1675 2928 \r\nQ 1300 2928 1048 2622 \r\nQ 797 2316 797 1656 \r\nz\r\n\" id=\"ArialMT-64\" transform=\"scale(0.015625)\"/>\r\n      <path id=\"ArialMT-20\" transform=\"scale(0.015625)\"/>\r\n      <path d=\"M -9 0 \r\nL 1750 4581 \r\nL 2403 4581 \r\nL 4278 0 \r\nL 3588 0 \r\nL 3053 1388 \r\nL 1138 1388 \r\nL 634 0 \r\nL -9 0 \r\nz\r\nM 1313 1881 \r\nL 2866 1881 \r\nL 2388 3150 \r\nQ 2169 3728 2063 4100 \r\nQ 1975 3659 1816 3225 \r\nL 1313 1881 \r\nz\r\n\" id=\"ArialMT-41\" transform=\"scale(0.015625)\"/>\r\n      <path d=\"M 3500 4581 \r\nL 4106 4581 \r\nL 4106 1934 \r\nQ 4106 1244 3950 837 \r\nQ 3794 431 3386 176 \r\nQ 2978 -78 2316 -78 \r\nQ 1672 -78 1262 144 \r\nQ 853 366 678 786 \r\nQ 503 1206 503 1934 \r\nL 503 4581 \r\nL 1109 4581 \r\nL 1109 1938 \r\nQ 1109 1341 1220 1058 \r\nQ 1331 775 1601 622 \r\nQ 1872 469 2263 469 \r\nQ 2931 469 3215 772 \r\nQ 3500 1075 3500 1938 \r\nL 3500 4581 \r\nz\r\n\" id=\"ArialMT-55\" transform=\"scale(0.015625)\"/>\r\n      <path d=\"M 3763 1606 \r\nL 4369 1453 \r\nQ 4178 706 3683 314 \r\nQ 3188 -78 2472 -78 \r\nQ 1731 -78 1267 223 \r\nQ 803 525 561 1097 \r\nQ 319 1669 319 2325 \r\nQ 319 3041 592 3573 \r\nQ 866 4106 1370 4382 \r\nQ 1875 4659 2481 4659 \r\nQ 3169 4659 3637 4309 \r\nQ 4106 3959 4291 3325 \r\nL 3694 3184 \r\nQ 3534 3684 3231 3912 \r\nQ 2928 4141 2469 4141 \r\nQ 1941 4141 1586 3887 \r\nQ 1231 3634 1087 3207 \r\nQ 944 2781 944 2328 \r\nQ 944 1744 1114 1308 \r\nQ 1284 872 1643 656 \r\nQ 2003 441 2422 441 \r\nQ 2931 441 3284 734 \r\nQ 3638 1028 3763 1606 \r\nz\r\n\" id=\"ArialMT-43\" transform=\"scale(0.015625)\"/>\r\n      <path d=\"M 3381 2694 \r\nL 356 2694 \r\nL 356 3219 \r\nL 3381 3219 \r\nL 3381 2694 \r\nz\r\nM 3381 1303 \r\nL 356 1303 \r\nL 356 1828 \r\nL 3381 1828 \r\nL 3381 1303 \r\nz\r\n\" id=\"ArialMT-3d\" transform=\"scale(0.015625)\"/>\r\n      <path d=\"M 266 1200 \r\nL 856 1250 \r\nQ 922 819 1161 601 \r\nQ 1400 384 1738 384 \r\nQ 2144 384 2425 690 \r\nQ 2706 997 2706 1503 \r\nQ 2706 1984 2436 2262 \r\nQ 2166 2541 1728 2541 \r\nQ 1456 2541 1237 2417 \r\nQ 1019 2294 894 2097 \r\nL 366 2166 \r\nL 809 4519 \r\nL 3088 4519 \r\nL 3088 3981 \r\nL 1259 3981 \r\nL 1013 2750 \r\nQ 1425 3038 1878 3038 \r\nQ 2478 3038 2890 2622 \r\nQ 3303 2206 3303 1553 \r\nQ 3303 931 2941 478 \r\nQ 2500 -78 1738 -78 \r\nQ 1113 -78 717 272 \r\nQ 322 622 266 1200 \r\nz\r\n\" id=\"ArialMT-35\" transform=\"scale(0.015625)\"/>\r\n      <path d=\"M 303 3981 \r\nL 303 4522 \r\nL 3269 4522 \r\nL 3269 4084 \r\nQ 2831 3619 2401 2847 \r\nQ 1972 2075 1738 1259 \r\nQ 1569 684 1522 0 \r\nL 944 0 \r\nQ 953 541 1156 1306 \r\nQ 1359 2072 1739 2783 \r\nQ 2119 3494 2547 3981 \r\nL 303 3981 \r\nz\r\n\" id=\"ArialMT-37\" transform=\"scale(0.015625)\"/>\r\n     </defs>\r\n     <use xlink:href=\"#ArialMT-4e\"/>\r\n     <use x=\"72.216797\" xlink:href=\"#ArialMT-65\"/>\r\n     <use x=\"127.832031\" xlink:href=\"#ArialMT-74\"/>\r\n     <use x=\"155.615234\" xlink:href=\"#ArialMT-77\"/>\r\n     <use x=\"227.832031\" xlink:href=\"#ArialMT-6f\"/>\r\n     <use x=\"283.447266\" xlink:href=\"#ArialMT-72\"/>\r\n     <use x=\"316.748047\" xlink:href=\"#ArialMT-6b\"/>\r\n     <use x=\"366.748047\" xlink:href=\"#ArialMT-2d\"/>\r\n     <use x=\"400.048828\" xlink:href=\"#ArialMT-62\"/>\r\n     <use x=\"455.664062\" xlink:href=\"#ArialMT-61\"/>\r\n     <use x=\"511.279297\" xlink:href=\"#ArialMT-73\"/>\r\n     <use x=\"561.279297\" xlink:href=\"#ArialMT-65\"/>\r\n     <use x=\"616.894531\" xlink:href=\"#ArialMT-64\"/>\r\n     <use x=\"672.509766\" xlink:href=\"#ArialMT-20\"/>\r\n     <use x=\"694.792969\" xlink:href=\"#ArialMT-41\"/>\r\n     <use x=\"761.492188\" xlink:href=\"#ArialMT-55\"/>\r\n     <use x=\"833.708984\" xlink:href=\"#ArialMT-43\"/>\r\n     <use x=\"905.925781\" xlink:href=\"#ArialMT-3d\"/>\r\n     <use x=\"964.324219\" xlink:href=\"#ArialMT-30\"/>\r\n     <use x=\"1019.939453\" xlink:href=\"#ArialMT-2e\"/>\r\n     <use x=\"1047.722656\" xlink:href=\"#ArialMT-35\"/>\r\n     <use x=\"1103.337891\" xlink:href=\"#ArialMT-37\"/>\r\n    </g>\r\n   </g>\r\n  </g>\r\n </g>\r\n <defs>\r\n  <clipPath id=\"paca4119f5d\">\r\n   <rect height=\"217.44\" width=\"334.8\" x=\"31.99\" y=\"21.789375\"/>\r\n  </clipPath>\r\n </defs>\r\n</svg>\r\n",
      "image/png": "[encoded data removed]"
     },
     "metadata": {}
    }
   ],
   "metadata": {}
  }
 ],
 "metadata": {
  "orig_nbformat": 4,
  "language_info": {
   "name": "python",
   "version": "3.7.10",
   "mimetype": "text/x-python",
   "codemirror_mode": {
    "name": "ipython",
    "version": 3
   },
   "pygments_lexer": "ipython3",
   "nbconvert_exporter": "python",
   "file_extension": ".py"
  },
  "kernelspec": {
   "name": "python3",
   "display_name": "Python 3.7.10 64-bit ('torch_1.9': conda)"
  },
  "interpreter": {
   "hash": "98208e0c1cfb6947900b95b142b62d9cd159f32fe9f5d86073bdb8a60fa75d1d"
  }
 },
 "nbformat": 4,
 "nbformat_minor": 2
}