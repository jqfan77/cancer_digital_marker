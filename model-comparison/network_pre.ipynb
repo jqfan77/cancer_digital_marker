{
 "cells": [
  {
   "cell_type": "code",
   "execution_count": 309,
   "source": [
    "import math\r\n",
    "import numpy as np\r\n",
    "import matplotlib.pyplot as plt\r\n",
    "import seaborn as sns\r\n",
    "import csv\r\n",
    "\r\n",
    "\r\n",
    "from read_csv_data import *\r\n",
    "from my_filter import *\r\n",
    "from my_load_data import * \r\n",
    "from my_predict import *\r\n",
    "from my_util import *\r\n",
    "\r\n"
   ],
   "outputs": [],
   "metadata": {}
  },
  {
   "cell_type": "code",
   "execution_count": 310,
   "source": [
    "path_root = './data/'\r\n",
    "sns.set()\r\n",
    "# load data\r\n",
    "Y_raw, Y_drug_id, Y_drug_name, tissue_id_list, tissue_name_list, dataset_id, X_gene_symbol_list, X_oncogene_idx = my_load_data(path_root)\r\n",
    "X_gene_ENSG_list = my_load_ENSG(path_root)"
   ],
   "outputs": [],
   "metadata": {}
  },
  {
   "cell_type": "code",
   "execution_count": 311,
   "source": [
    "# load X_raw (gene expression of cell lines)\r\n",
    "\r\n",
    "X_raw = my_load_data_X_tpm(path_root)\r\n",
    "\r\n",
    "print( 'X_raw.shape = ', X_raw.shape )"
   ],
   "outputs": [
    {
     "output_type": "stream",
     "name": "stdout",
     "text": [
      "X_raw.shape =  (1047, 37279)\n"
     ]
    }
   ],
   "metadata": {}
  },
  {
   "cell_type": "code",
   "execution_count": 312,
   "source": [
    "#####################################\r\n",
    "select_dataset = 0\r\n",
    "dataset_train_ids = [0]\r\n",
    "dataset_test_ids = [0]    # 1 = CCLE, 2 = GDSC; 0 = mixing CCLE and GDSC\r\n",
    "\r\n",
    "########################################\r\n",
    "# Selected the tissue to analyze\r\n",
    "tissue_selected_id_list_list = [[14]]  # 5 = Breast\r\n",
    "# tissue_selected_id_list_list = [[14]]  # 14 = Colorectal \r\n",
    "# tissue_selected_id_list_list = [[16]]  # 16 = Lung\r\n",
    "\r\n",
    "# drug list (GDSC id)\r\n",
    "# drug_id_list_list =  [1003, 1004, 1005, 1006, 1007, 1010, 1011, 1012, 1013, 1017, \r\n",
    "# 1021, 1022, 1025, 1030, 1032, 1034, 1036, 1038, 1042, 1046, \r\n",
    "# 1047, 1048, 1049, 1050, 1051, 1052, 1053, 1054, 1057, 1058, \r\n",
    "# 1059, 1060, 1068, 1073, 1079, 1080, 1083, 1084, 1085, 1086, \r\n",
    "# 1088, 1089, 1091, 1093, 1096, 1129, 1131, 1168, 1177, 1179, \r\n",
    "# 1180, 1190, 1191, 1192, 1194, 1199, 1200, 1237, 1239, 1248, \r\n",
    "# 1249, 1250, 1259, 1268, 1372, 1373, 1375, 1401, 1428, 1441, \r\n",
    "# 1449, 1463, 1507, 1510, 1511, 1512, 1529, 1549, 1553, 1557, \r\n",
    "# 1558, 1559, 1560, 1561, 1563, 1564, 1576, 1578, 1593, 1594, \r\n",
    "# 1598, 1613, 1614, 1615, 1617, 1618, 1620, 1621, 1622, 1624, \r\n",
    "# 1625, 1626, 1627, 1629, 1630, 1631, 1632, 1634, 1635, 1706, \r\n",
    "# 1708, 1709, 1712, 1713, 1714, 1716, 1718, 1720, 1730, 1732, \r\n",
    "# 1733, 1734, 1736, 1738, 1739, 1786, 1799, 1802, 1804, 1806, \r\n",
    "# 1807, 1808, 1809, 1810, 1811, 1813, 1814, 1816, 1818, 1819, \r\n",
    "# 1825, 1827, 1830, 1835, 1838, 1849, 1852, 1853, 1854, 1855, \r\n",
    "# 1862, 1866, 1873, 1908, 1909, 1910, 1911, 1912, 1913, 1915, \r\n",
    "# 1916, 1917, 1918, 1919, 1922, 1924, 1925, 1926, 1927, 1928, \r\n",
    "# 1930, 1931, 1932, 1933, 1936, 1939, 1940, 1941, 1996, 1997, \r\n",
    "# 1998, 2040, 2043, 2044, 2045, 2046, 2047, 2048, 2096, 2106, \r\n",
    "# 2107, 2109, 2110, 2111, 2169, 2170, 2171, 2172]  # all 198 drugs in GDSC\r\n",
    "# drug_id_list_list = [1005, 1073, 1080, 1512]  # 1005=Cisplatin, 1073=5FU, 1080=Paclitaxel, 1512=Cyclophosphamide\r\n",
    "drug_id_list_list = [1073]  # 1004=Vinblastine, 1007=Docetaxel, 1088=Irinotecan, 1089=Oxaliplatin\r\n",
    "\r\n",
    "\r\n",
    "\r\n",
    "# parameters for training\r\n",
    "C_cv_fold = 5     # N-fold cross valiadation\r\n",
    "C_drug_sens_threshold = -1   # threshold of z-score to distinguish drug-sensitive and drug-resistant\r\n",
    "\r\n",
    "flag_oncogene = False      # if True, select genes in 723 oncogenes \r\n",
    "flag_tpm_normalize = True  # if True, TPM normalize the gene expression before prediction\r\n"
   ],
   "outputs": [],
   "metadata": {}
  },
  {
   "cell_type": "code",
   "execution_count": 313,
   "source": [
    "for iii_ in range(len(drug_id_list_list)):\r\n",
    "    \r\n",
    "    # drug information\r\n",
    "    if type(drug_id_list_list[iii_]) is list:\r\n",
    "        drug_id_list = drug_id_list_list[iii_]\r\n",
    "    else:\r\n",
    "        drug_id_list = [drug_id_list_list[iii_]]\r\n",
    "    Y_drug_idx = [ 0 for i in range(len(drug_id_list))]\r\n",
    "    for i in range(len(drug_id_list)):\r\n",
    "        drug_id = drug_id_list[i]\r\n",
    "        Y_drug_idx[i] = np.argwhere(Y_drug_id==drug_id)[0][0]\r\n",
    "        print('drug name:',Y_drug_name[Y_drug_idx[i]],'; drug id:',drug_id)\r\n",
    "\r\n",
    "    ###########################################\r\n",
    "    X_idx_all_list = []        # screened gene idx\r\n",
    "    X_idx_score_all_list = []  # score of these screened genes\r\n",
    "\r\n",
    "    for select_dataset in dataset_train_ids:  # Specify the database\r\n",
    "        for tissue_selected_id_list in tissue_selected_id_list_list: # Specify the tissue\r\n",
    "\r\n",
    "            X_idx_all = np.array([])        # screened gene idx\r\n",
    "            X_idx_score_all = np.array([])  # score of these screened genes\r\n",
    "\r\n",
    "            for i in range(len(Y_drug_idx)):  # Specify the drug\r\n",
    "                drug_idx = Y_drug_idx[i]\r\n",
    "                drug_id = Y_drug_id[drug_idx]\r\n",
    "                drug_name = Y_drug_name[drug_idx]\r\n",
    "\r\n",
    "                print()\r\n",
    "                print('drug_id =', drug_id, ' drug_name =', drug_name)\r\n",
    "\r\n",
    "                X = X_raw.copy()\r\n",
    "                X = np.log(1+X)     \r\n",
    "                X_idx = np.array([i for i in range(X.shape[1])])\r\n",
    "                Y = Y_raw[drug_idx, :]\r\n",
    "                    \r\n",
    "                # specified database, and tissue\r\n",
    "                X_cell_idx = my_data_selection_2(dataset_id, select_dataset, tissue_id_list, tissue_selected_id_list)\r\n",
    "                # remove cell lines without drug info\r\n",
    "                X_cell_idx = X_cell_idx[~np.isnan(Y[X_cell_idx])]\r\n",
    "                \r\n",
    "                # Cell lines with specified database, and tissue\r\n",
    "                X = X[X_cell_idx, :]\r\n",
    "                Y = Y[X_cell_idx]\r\n",
    "\r\n",
    "\r\n",
    "                if Y.shape[0]<5:\r\n",
    "                    print('[Warning] not enough data points (%d)'%(Y.shape[0]))\r\n",
    "                    continue\r\n",
    "\r\n",
    "                # re-normalize Y (z-score) to ensure mean=0 and std=1\r\n",
    "                Y = my_normalize(Y)\r\n",
    "                Y[Y<-2] = -2\r\n",
    "                Y[Y>2] = 2\r\n",
    "                \r\n",
    "                print('len(X):',len(X))\r\n",
    "                print('len(Y):',len(Y))\r\n",
    "                ########################################### Filters\r\n",
    "                # chose top genes based on MAD\r\n",
    "              "
   ],
   "outputs": [
    {
     "output_type": "stream",
     "name": "stdout",
     "text": [
      "drug name: 5-Fluorouracil ; drug id: 1073\n",
      "\n",
      "drug_id = 1073  drug_name = 5-Fluorouracil\n",
      "selecting tissue;   X_cell_idx: (57,)\n",
      "len(X): 48\n",
      "len(Y): 48\n"
     ]
    }
   ],
   "metadata": {}
  },
  {
   "cell_type": "code",
   "execution_count": null,
   "source": [
    "#######################\r\n",
    "#Net-based Method\r\n",
    "#get the feature reactome provided in the paper\r\n",
    "import pandas as pd\r\n",
    "\r\n",
    "reactome = pd.read_csv('reactome.csv',header=None)\r\n",
    "#print(reactome.values)\r\n",
    "reactome = reactome.values[:,0].tolist()\r\n",
    "for i in range(len(reactome)):\r\n",
    "    reactome[i] = reactome[i].split('\\t')\r\n",
    "print(reactome)\r\n",
    "feature_list = pd.read_csv('F:/drug prediction/organoid_biomarker_detection-master/feature_list.csv')\r\n",
    "feature_list = feature_list.values[:,0]\r\n",
    "\r\n",
    "\r\n",
    "########################\r\n",
    "# use the reactome.gmt as gene set, X as gene expression profile\r\n",
    "# use gsea provided in the paper and get the gsea nes score file.\r\n"
   ],
   "outputs": [],
   "metadata": {}
  },
  {
   "cell_type": "code",
   "execution_count": null,
   "source": [
    "#get the gsea score , the csv file was derived the code provided in the paper\r\n",
    "X_gsea_nes = pd.read_csv('F:/drug prediction/organoid_biomarker_detection-master/to cyf/final version codes ver1/20210330-ALL CODES CELL LINES/gseapy.samples.normalized.es.txt',sep='\\t',index_col='Term|NES')\r\n",
    "print(X_gsea_nes)"
   ],
   "outputs": [],
   "metadata": {}
  },
  {
   "cell_type": "code",
   "execution_count": 371,
   "source": [
    "#print(feature_list)\r\n",
    "X_gsea_nes_pd = X_gsea_nes\r\n",
    "feature_gsea_nes = []\r\n",
    "for fea in feature_list:\r\n",
    "    #print(fea)\r\n",
    "    for i in range(len(X_gsea_nes_pd.index)):\r\n",
    "        if fea == X_gsea_nes_pd.index[i]:\r\n",
    "            \r\n",
    "            feature_gsea_nes.append(X_gsea_nes_pd.values[i])\r\n",
    "feature_gsea_nes = np.array(feature_gsea_nes).T\r\n",
    "print(feature_gsea_nes.shape)"
   ],
   "outputs": [
    {
     "output_type": "stream",
     "name": "stdout",
     "text": [
      "(48, 36)\n"
     ]
    }
   ],
   "metadata": {}
  },
  {
   "cell_type": "code",
   "execution_count": 372,
   "source": [
    "#scaled the x\r\n",
    "from sklearn.preprocessing import StandardScaler\r\n",
    "\r\n",
    "scaler = StandardScaler()\r\n",
    "scaler.fit(feature_gsea_nes)\r\n",
    "scaled_x = scaler.transform(feature_gsea_nes)\r\n",
    "print(scaled_x.shape)"
   ],
   "outputs": [
    {
     "output_type": "stream",
     "name": "stdout",
     "text": [
      "(48, 36)\n"
     ]
    }
   ],
   "metadata": {}
  },
  {
   "cell_type": "code",
   "execution_count": 360,
   "source": [
    "######split the data set to 5 fold\r\n",
    "from sklearn.model_selection import KFold\r\n",
    "\r\n",
    "train_index_list = []\r\n",
    "test_index_list=[]\r\n",
    "kf = KFold(n_splits=5, random_state=62,shuffle=True)\r\n",
    "for train_index, test_index in kf.split(scaled_x, Y):\r\n",
    "    print(\"TRAIN:\", train_index, \"TEST:\", test_index)\r\n",
    "    train_index_list.append(train_index)\r\n",
    "    test_index_list.append(test_index)"
   ],
   "outputs": [
    {
     "output_type": "stream",
     "name": "stdout",
     "text": [
      "TRAIN: [ 0  1  3  5  6  7  8  9 10 11 12 13 14 17 18 19 20 21 22 24 26 28 29 30\n",
      " 32 33 34 35 36 37 38 40 41 42 43 44 45 46] TEST: [ 2  4 15 16 23 25 27 31 39 47]\n",
      "TRAIN: [ 0  1  2  3  4  8  9 10 11 12 13 14 15 16 17 18 19 21 23 24 25 27 29 30\n",
      " 31 33 34 35 36 37 38 39 40 42 44 45 46 47] TEST: [ 5  6  7 20 22 26 28 32 41 43]\n",
      "TRAIN: [ 0  1  2  4  5  6  7  9 10 11 15 16 17 18 19 20 21 22 23 24 25 26 27 28\n",
      " 29 30 31 32 33 36 37 39 40 41 43 44 45 47] TEST: [ 3  8 12 13 14 34 35 38 42 46]\n",
      "TRAIN: [ 2  3  4  5  6  7  8  9 11 12 13 14 15 16 17 18 20 22 23 24 25 26 27 28\n",
      " 30 31 32 34 35 36 37 38 39 41 42 43 45 46 47] TEST: [ 0  1 10 19 21 29 33 40 44]\n",
      "TRAIN: [ 0  1  2  3  4  5  6  7  8 10 12 13 14 15 16 19 20 21 22 23 25 26 27 28\n",
      " 29 31 32 33 34 35 38 39 40 41 42 43 44 46 47] TEST: [ 9 11 17 18 24 30 36 37 45]\n"
     ]
    }
   ],
   "metadata": {}
  },
  {
   "cell_type": "code",
   "execution_count": 361,
   "source": [
    "cv1_x_train = scaled_x[train_index_list[0]]\r\n",
    "cv1_y_train = Y[train_index_list[0]]\r\n",
    "cv1_x_test = scaled_x[test_index_list[0]]\r\n",
    "cv1_y_test = Y[test_index_list[0]]\r\n",
    "\r\n",
    "cv2_x_train = scaled_x[train_index_list[1]]\r\n",
    "cv2_y_train = Y[train_index_list[1]]\r\n",
    "cv2_x_test = scaled_x[test_index_list[1]]\r\n",
    "cv2_y_test = Y[test_index_list[1]]\r\n",
    "\r\n",
    "cv3_x_train = scaled_x[train_index_list[2]]\r\n",
    "cv3_y_train = Y[train_index_list[2]]\r\n",
    "cv3_x_test = scaled_x[test_index_list[2]]\r\n",
    "cv3_y_test = Y[test_index_list[2]]\r\n",
    "\r\n",
    "cv4_x_train = scaled_x[train_index_list[3]]\r\n",
    "cv4_y_train = Y[train_index_list[3]]\r\n",
    "cv4_x_test = scaled_x[test_index_list[3]]\r\n",
    "cv4_y_test = Y[test_index_list[3]]\r\n",
    "\r\n",
    "cv5_x_train = scaled_x[train_index_list[4]]\r\n",
    "cv5_y_train = Y[train_index_list[4]]\r\n",
    "cv5_x_test = scaled_x[test_index_list[4]]\r\n",
    "cv5_y_test = Y[test_index_list[4]]"
   ],
   "outputs": [],
   "metadata": {}
  },
  {
   "cell_type": "code",
   "execution_count": 362,
   "source": [
    "############\r\n",
    "#cross validation\r\n",
    "from sklearn.svm import LinearSVR\r\n",
    "from sklearn import metrics\r\n",
    "from sklearn.model_selection import cross_val_predict\r\n",
    "from sklearn.linear_model import Ridge, RidgeCV,LinearRegression\r\n",
    "from sklearn import  svm\r\n",
    "  \r\n",
    "#select best alpha\r\n",
    "model_Ridge = RidgeCV(cv=5,alphas=np.arange(0.1,1,0.1)).fit(scaled_x,Y)\r\n",
    "print(model_Ridge.coef_)\r\n",
    "print(model_Ridge.alpha_)\r\n",
    "\r\n"
   ],
   "outputs": [
    {
     "output_type": "stream",
     "name": "stdout",
     "text": [
      "[-0.21840079  0.12425743  0.03900423 -0.72269124 -0.01150115  0.34882098\n",
      "  0.55202103 -0.12913326 -0.24126151  0.25566562  0.09504125  0.20736554\n",
      " -0.04093797  0.13335319 -0.08153441 -0.34322022 -0.07802289 -0.36174919\n",
      " -0.03348657  0.16766751 -0.14604693 -0.25675693  0.1266466   0.35853783\n",
      "  0.19607391  0.15748698  0.44303845  0.03274492 -0.31589488 -0.11391612\n",
      " -0.12011446  0.13655141  0.08585933 -0.26475213  0.05761366 -0.49766838]\n",
      "0.9\n"
     ]
    }
   ],
   "metadata": {}
  },
  {
   "cell_type": "code",
   "execution_count": 363,
   "source": [
    "num_pathways =5 #5  selet the number of pathways as feature to predict\r\n",
    "\r\n",
    "model_Ridge_cv1 = Ridge(alpha=0.9).fit(cv1_x_train, cv1_y_train)\r\n",
    "y_pre_cv1 = model_Ridge_cv1.predict(cv1_x_test)\r\n",
    "idd=np.argwhere(abs(model_Ridge_cv1.coef_) >= np.sort(abs(model_Ridge_cv1.coef_))[-num_pathways])\r\n",
    "y_pre_cv1_ss = np.dot(cv1_x_test[:,idd.reshape(1,-1)].reshape(-1,num_pathways), model_Ridge_cv1.coef_[idd]).reshape(1,-1)[0]\r\n",
    "print(y_pre_cv1_ss)\r\n",
    "\r\n",
    "model_Ridge_cv2 = Ridge(alpha=0.9).fit(cv2_x_train, cv2_y_train)\r\n",
    "y_pre_cv2 = model_Ridge_cv2.predict(cv2_x_test)\r\n",
    "idd=np.argwhere(abs(model_Ridge_cv2.coef_) >= np.sort(abs(model_Ridge_cv2.coef_))[-num_pathways])\r\n",
    "y_pre_cv2_ss = np.dot(cv2_x_test[:,idd.reshape(1,-1)].reshape(-1,num_pathways), model_Ridge_cv2.coef_[idd]).reshape(1,-1)[0]\r\n",
    "print(y_pre_cv2_ss)\r\n",
    "\r\n",
    "model_Ridge_cv3 = Ridge(alpha=0.9).fit(cv3_x_train, cv3_y_train)\r\n",
    "y_pre_cv3 = model_Ridge_cv3.predict(cv3_x_test)\r\n",
    "idd=np.argwhere(abs(model_Ridge_cv3.coef_) >= np.sort(abs(model_Ridge_cv3.coef_))[-num_pathways])\r\n",
    "y_pre_cv3_ss = np.dot(cv3_x_test[:,idd.reshape(1,-1)].reshape(-1,num_pathways), model_Ridge_cv3.coef_[idd]).reshape(1,-1)[0]\r\n",
    "print(y_pre_cv3_ss)\r\n",
    "\r\n",
    "model_Ridge_cv4 = Ridge(alpha=0.9).fit(cv4_x_train, cv4_y_train)\r\n",
    "y_pre_cv4 = model_Ridge_cv4.predict(cv4_x_test)\r\n",
    "idd=np.argwhere(abs(model_Ridge_cv4.coef_) >= np.sort(abs(model_Ridge_cv4.coef_))[-num_pathways])\r\n",
    "y_pre_cv4_ss = np.dot(cv4_x_test[:,idd.reshape(1,-1)].reshape(-1,num_pathways), model_Ridge_cv4.coef_[idd]).reshape(1,-1)[0]\r\n",
    "print(y_pre_cv4_ss)\r\n",
    "\r\n",
    "model_Ridge_cv5 = Ridge(alpha=0.9).fit(cv5_x_train, cv5_y_train)\r\n",
    "y_pre_cv5 = model_Ridge_cv5.predict(cv5_x_test)\r\n",
    "idd=np.argwhere(abs(model_Ridge_cv5.coef_) >= np.sort(abs(model_Ridge_cv5.coef_))[-num_pathways])\r\n",
    "y_pre_cv5_ss = np.dot(cv5_x_test[:,idd.reshape(1,-1)].reshape(-1,num_pathways), model_Ridge_cv5.coef_[idd]).reshape(1,-1)[0]\r\n",
    "print(y_pre_cv5_ss)\r\n",
    "\r\n",
    "model_Ridge_cross = Ridge(alpha=0.9).fit(cv3_x_train, cv3_y_train)\r\n",
    "y_pre_cross = model_Ridge_cross.predict(cv3_x_train)"
   ],
   "outputs": [
    {
     "output_type": "stream",
     "name": "stdout",
     "text": [
      "[ 0.46675815 -0.26066383 -0.00358543  0.52978088  0.19541126  0.23039423\n",
      " -1.05558269 -0.12259405  0.19431152 -0.22907217]\n",
      "[ 0.1507033  -0.1944396  -1.01050916  0.62941867 -1.0044358   0.46645196\n",
      " -0.30635063  0.80860234  0.36753128 -0.02367748]\n",
      "[-1.40629193 -0.86270123  2.24987069  0.94737407  2.99501209  0.56434711\n",
      "  0.81807895 -0.98716318  1.39555858  2.21166659]\n",
      "[-0.41503459 -0.48544974  0.64119241  0.45566609 -0.19252259 -0.28400243\n",
      "  0.93288273  0.14337071 -0.49065103]\n",
      "[-0.68870172 -0.84922126  0.96796221 -1.88822753  0.27962162 -0.58884838\n",
      " -0.37044303 -0.23604782  1.24881904]\n"
     ]
    }
   ],
   "metadata": {}
  },
  {
   "cell_type": "code",
   "execution_count": 364,
   "source": [
    "auc_score_cross = metrics.roc_auc_score(cv3_y_train>-1, y_pre_cross)\r\n",
    "print(auc_score_cross)\r\n",
    "\r\n",
    "fpr_cross, tpr_cross, thresholds_cross = metrics.roc_curve(cv3_y_train > -1, y_pre_cross)\r\n",
    "plt.plot(fpr_cross,tpr_cross)\r\n",
    "plt.title('Network-based AUC=%.2f'%(auc_score_cross))\r\n",
    "plt.show()"
   ],
   "outputs": [
    {
     "output_type": "stream",
     "name": "stdout",
     "text": [
      "0.9666666666666667\n"
     ]
    },
    {
     "output_type": "display_data",
     "data": {
      "image/png": "[encoded data removed]",
      "text/plain": [
       "<Figure size 432x288 with 1 Axes>"
      ]
     },
     "metadata": {}
    }
   ],
   "metadata": {}
  },
  {
   "cell_type": "code",
   "execution_count": 365,
   "source": [
    "from pandas import DataFrame\r\n",
    "\r\n",
    "y_pre_cv1_sspd = DataFrame(y_pre_cv1_ss,index=test_index_list[0])\r\n",
    "\r\n",
    "y_pre_cv2_sspd = DataFrame(y_pre_cv2_ss,index=test_index_list[1])\r\n",
    "\r\n",
    "y_pre_cv3_sspd = DataFrame(y_pre_cv3_ss,index=test_index_list[2])\r\n",
    "\r\n",
    "y_pre_cv4_sspd = DataFrame(y_pre_cv4_ss,index=test_index_list[3])\r\n",
    "\r\n",
    "y_pre_cv5_sspd = DataFrame(y_pre_cv5_ss,index=test_index_list[4])\r\n",
    "\r\n",
    "Ridge_predss = pd.concat([y_pre_cv1_sspd, y_pre_cv2_sspd, y_pre_cv3_sspd, y_pre_cv4_sspd, y_pre_cv5_sspd],axis=0).sort_index().values.reshape(1,-1)[0]\r\n",
    "print(Ridge_predss)"
   ],
   "outputs": [
    {
     "output_type": "stream",
     "name": "stdout",
     "text": [
      "[-0.41503459 -0.48544974  0.46675815 -1.40629193 -0.26066383  0.1507033\n",
      " -0.1944396  -1.01050916 -0.86270123 -0.68870172  0.64119241 -0.84922126\n",
      "  2.24987069  0.94737407  2.99501209 -0.00358543  0.52978088  0.96796221\n",
      " -1.88822753  0.45566609  0.62941867 -0.19252259 -1.0044358   0.19541126\n",
      "  0.27962162  0.23039423  0.46645196 -1.05558269 -0.30635063 -0.28400243\n",
      " -0.58884838 -0.12259405  0.80860234  0.93288273  0.56434711  0.81807895\n",
      " -0.37044303 -0.23604782 -0.98716318  0.19431152  0.14337071  0.36753128\n",
      "  1.39555858 -0.02367748 -0.49065103  1.24881904  2.21166659 -0.22907217]\n"
     ]
    }
   ],
   "metadata": {}
  },
  {
   "cell_type": "code",
   "execution_count": 366,
   "source": [
    "from sklearn import metrics\r\n",
    "\r\n",
    "auc_multi_path = metrics.roc_auc_score(Y>-1, Ridge_predss)\r\n",
    "print(auc_multi_path)\r\n",
    "fpr, tpr, thresholds = metrics.roc_curve(Y>-1, Ridge_predss)\r\n",
    "plt.plot(fpr,tpr)\r\n",
    "plt.title('Network-based AUC=%.2f'%(auc_multi_path))\r\n",
    "plt.show()\r\n",
    "\r\n"
   ],
   "outputs": [
    {
     "output_type": "stream",
     "name": "stdout",
     "text": [
      "0.7781250000000001\n"
     ]
    },
    {
     "output_type": "display_data",
     "data": {
      "image/png": "[encoded data removed]",
      "text/plain": [
       "<Figure size 432x288 with 1 Axes>"
      ]
     },
     "metadata": {}
    }
   ],
   "metadata": {}
  }
 ],
 "metadata": {
  "orig_nbformat": 4,
  "language_info": {
   "name": "python",
   "version": "3.7.10",
   "mimetype": "text/x-python",
   "codemirror_mode": {
    "name": "ipython",
    "version": 3
   },
   "pygments_lexer": "ipython3",
   "nbconvert_exporter": "python",
   "file_extension": ".py"
  },
  "kernelspec": {
   "name": "python3",
   "display_name": "Python 3.7.10 64-bit ('torch_1.9': conda)"
  },
  "interpreter": {
   "hash": "98208e0c1cfb6947900b95b142b62d9cd159f32fe9f5d86073bdb8a60fa75d1d"
  }
 },
 "nbformat": 4,
 "nbformat_minor": 2
}