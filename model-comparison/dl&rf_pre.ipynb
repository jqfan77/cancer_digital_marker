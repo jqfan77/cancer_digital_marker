{
 "cells": [
  {
   "cell_type": "code",
   "execution_count": 1,
   "source": [
    "import math\r\n",
    "import numpy as np\r\n",
    "import matplotlib.pyplot as plt\r\n",
    "import seaborn as sns\r\n",
    "import csv\r\n",
    "\r\n",
    "from read_csv_data import *\r\n",
    "from my_filter import *\r\n",
    "from my_load_data import * \r\n",
    "from my_predict import *\r\n",
    "from my_util import *\r\n"
   ],
   "outputs": [],
   "metadata": {}
  },
  {
   "cell_type": "code",
   "execution_count": 2,
   "source": [
    "path_root = './data/'\r\n",
    "sns.set()\r\n",
    "# load data\r\n",
    "Y_raw, Y_drug_id, Y_drug_name, tissue_id_list, tissue_name_list, dataset_id, X_gene_symbol_list, X_oncogene_idx = my_load_data(path_root)\r\n",
    "X_gene_ENSG_list = my_load_ENSG(path_root)"
   ],
   "outputs": [],
   "metadata": {}
  },
  {
   "cell_type": "code",
   "execution_count": 14,
   "source": [
    "# load X_raw (gene expression of cell lines)\r\n",
    "\r\n",
    "X_raw = my_load_data_X_tpm(path_root)\r\n",
    "\r\n",
    "print( 'X_raw.shape = ', X_raw.shape )"
   ],
   "outputs": [
    {
     "output_type": "stream",
     "name": "stdout",
     "text": [
      "X_raw.shape =  (1047, 37279)\n"
     ]
    }
   ],
   "metadata": {}
  },
  {
   "cell_type": "code",
   "execution_count": 15,
   "source": [
    "#####################################\r\n",
    "select_dataset = 0\r\n",
    "dataset_train_ids = [0]\r\n",
    "dataset_test_ids = [0]    # 1 = CCLE, 2 = GDSC; 0 = mixing CCLE and GDSC\r\n",
    "\r\n",
    "########################################\r\n",
    "# Selected the tissue to analyze\r\n",
    "tissue_selected_id_list_list = [[14]]  # 5 = Breast\r\n",
    "# tissue_selected_id_list_list = [[14]]  # 14 = Colorectal \r\n",
    "# tissue_selected_id_list_list = [[16]]  # 16 = Lung\r\n",
    "\r\n",
    "# drug list (GDSC id)\r\n",
    "# drug_id_list_list =  [1003, 1004, 1005, 1006, 1007, 1010, 1011, 1012, 1013, 1017, \r\n",
    "# 1021, 1022, 1025, 1030, 1032, 1034, 1036, 1038, 1042, 1046, \r\n",
    "# 1047, 1048, 1049, 1050, 1051, 1052, 1053, 1054, 1057, 1058, \r\n",
    "# 1059, 1060, 1068, 1073, 1079, 1080, 1083, 1084, 1085, 1086, \r\n",
    "# 1088, 1089, 1091, 1093, 1096, 1129, 1131, 1168, 1177, 1179, \r\n",
    "# 1180, 1190, 1191, 1192, 1194, 1199, 1200, 1237, 1239, 1248, \r\n",
    "# 1249, 1250, 1259, 1268, 1372, 1373, 1375, 1401, 1428, 1441, \r\n",
    "# 1449, 1463, 1507, 1510, 1511, 1512, 1529, 1549, 1553, 1557, \r\n",
    "# 1558, 1559, 1560, 1561, 1563, 1564, 1576, 1578, 1593, 1594, \r\n",
    "# 1598, 1613, 1614, 1615, 1617, 1618, 1620, 1621, 1622, 1624, \r\n",
    "# 1625, 1626, 1627, 1629, 1630, 1631, 1632, 1634, 1635, 1706, \r\n",
    "# 1708, 1709, 1712, 1713, 1714, 1716, 1718, 1720, 1730, 1732, \r\n",
    "# 1733, 1734, 1736, 1738, 1739, 1786, 1799, 1802, 1804, 1806, \r\n",
    "# 1807, 1808, 1809, 1810, 1811, 1813, 1814, 1816, 1818, 1819, \r\n",
    "# 1825, 1827, 1830, 1835, 1838, 1849, 1852, 1853, 1854, 1855, \r\n",
    "# 1862, 1866, 1873, 1908, 1909, 1910, 1911, 1912, 1913, 1915, \r\n",
    "# 1916, 1917, 1918, 1919, 1922, 1924, 1925, 1926, 1927, 1928, \r\n",
    "# 1930, 1931, 1932, 1933, 1936, 1939, 1940, 1941, 1996, 1997, \r\n",
    "# 1998, 2040, 2043, 2044, 2045, 2046, 2047, 2048, 2096, 2106, \r\n",
    "# 2107, 2109, 2110, 2111, 2169, 2170, 2171, 2172]  # all 198 drugs in GDSC\r\n",
    "# drug_id_list_list = [1005, 1073, 1080, 1512]  # 1005=Cisplatin, 1073=5FU, 1080=Paclitaxel, 1512=Cyclophosphamide\r\n",
    "drug_id_list_list = [1073]  # 1004=Vinblastine, 1007=Docetaxel, 1088=Irinotecan, 1089=Oxaliplatin\r\n",
    "\r\n",
    "\r\n",
    "\r\n",
    "# parameters for training\r\n",
    "C_cv_fold = 5     # N-fold cross valiadation\r\n",
    "C_drug_sens_threshold = -1   # threshold of z-score to distinguish drug-sensitive and drug-resistant\r\n",
    "\r\n",
    "flag_oncogene = False      # if True, select genes in 723 oncogenes \r\n",
    "flag_tpm_normalize = True  # if True, TPM normalize the gene expression before prediction"
   ],
   "outputs": [],
   "metadata": {}
  },
  {
   "cell_type": "code",
   "execution_count": 47,
   "source": [
    "for iii_ in range(len(drug_id_list_list)):\r\n",
    "    \r\n",
    "    # drug information\r\n",
    "    if type(drug_id_list_list[iii_]) is list:\r\n",
    "        drug_id_list = drug_id_list_list[iii_]\r\n",
    "    else:\r\n",
    "        drug_id_list = [drug_id_list_list[iii_]]\r\n",
    "    Y_drug_idx = [ 0 for i in range(len(drug_id_list))]\r\n",
    "    for i in range(len(drug_id_list)):\r\n",
    "        drug_id = drug_id_list[i]\r\n",
    "        Y_drug_idx[i] = np.argwhere(Y_drug_id==drug_id)[0][0]\r\n",
    "        print('drug name:',Y_drug_name[Y_drug_idx[i]],'; drug id:',drug_id)\r\n",
    "\r\n",
    "    ###########################################\r\n",
    "    X_idx_all_list = []        # screened gene idx\r\n",
    "    X_idx_score_all_list = []  # score of these screened genes\r\n",
    "\r\n",
    "    for select_dataset in dataset_train_ids:  # Specify the database\r\n",
    "        for tissue_selected_id_list in tissue_selected_id_list_list: # Specify the tissue\r\n",
    "\r\n",
    "            X_idx_all = np.array([])        # screened gene idx\r\n",
    "            X_idx_score_all = np.array([])  # score of these screened genes\r\n",
    "\r\n",
    "            for i in range(len(Y_drug_idx)):  # Specify the drug\r\n",
    "                drug_idx = Y_drug_idx[i]\r\n",
    "                drug_id = Y_drug_id[drug_idx]\r\n",
    "                drug_name = Y_drug_name[drug_idx]\r\n",
    "\r\n",
    "                print()\r\n",
    "                print('drug_id =', drug_id, ' drug_name =', drug_name)\r\n",
    "\r\n",
    "                X = X_raw.copy()\r\n",
    "                X = np.log(1+X)     \r\n",
    "                X_idx = np.array([i for i in range(X.shape[1])])\r\n",
    "                Y = Y_raw[drug_idx, :]\r\n",
    "                    \r\n",
    "                # specified database, and tissue\r\n",
    "                X_cell_idx = my_data_selection_2(dataset_id, select_dataset, tissue_id_list, tissue_selected_id_list)\r\n",
    "                # remove cell lines without drug info\r\n",
    "                X_cell_idx = X_cell_idx[~np.isnan(Y[X_cell_idx])]\r\n",
    "                \r\n",
    "                # Cell lines with specified database, and tissue\r\n",
    "                X = X[X_cell_idx, :]\r\n",
    "                Y = Y[X_cell_idx]\r\n",
    "\r\n",
    "\r\n",
    "                if Y.shape[0]<5:\r\n",
    "                    print('[Warning] not enough data points (%d)'%(Y.shape[0]))\r\n",
    "                    continue\r\n",
    "\r\n",
    "                # re-normalize Y (z-score) to ensure mean=0 and std=1\r\n",
    "                Y = my_normalize(Y)\r\n",
    "                Y[Y<-2] = -2\r\n",
    "                Y[Y>2] = 2\r\n",
    "                \r\n",
    "                print('len(X):',len(X))\r\n",
    "                print('len(Y):',len(Y))"
   ],
   "outputs": [
    {
     "output_type": "stream",
     "name": "stdout",
     "text": [
      "drug name: 5-Fluorouracil ; drug id: 1073\n",
      "\n",
      "drug_id = 1073  drug_name = 5-Fluorouracil\n",
      "selecting tissue;   X_cell_idx: (57,)\n",
      "len(X): 48\n",
      "len(Y): 48\n"
     ]
    }
   ],
   "metadata": {}
  },
  {
   "cell_type": "code",
   "execution_count": 48,
   "source": [
    "#filters based on Expression\r\n",
    "###### Expression level filter: mean gene expression cannot be too low\r\n",
    "Filter_idx = np.argwhere(np.mean(X, axis=0)>1).T[0]\r\n",
    "X_filter1 = X[:, Filter_idx]\r\n",
    "X_idx = X_idx[Filter_idx]\r\n",
    "print('after expression level filter, X_filter1:', X_filter1.shape)\r\n",
    "\r\n",
    "gene_select = []\r\n",
    "for i in X_idx:\r\n",
    "    gene_select.append(X_gene_symbol_list[i])\r\n",
    "print(\"after expression level filter, gene select:\", len(gene_select))"
   ],
   "outputs": [
    {
     "output_type": "stream",
     "name": "stdout",
     "text": [
      "after expression level filter, X_filter1: (48, 11431)\n",
      "after expression level filter, gene select: 11431\n"
     ]
    }
   ],
   "metadata": {}
  },
  {
   "cell_type": "code",
   "execution_count": 49,
   "source": [
    "#transform the format of expression to pandas\r\n",
    "from pandas import DataFrame\r\n",
    "\r\n",
    "X_expression = np.concatenate((np.array(gene_select).reshape(1,-1), X_filter1))\r\n",
    "X_expression_pd = DataFrame(X_filter1,columns = gene_select)\r\n",
    "print(X_expression_pd)"
   ],
   "outputs": [
    {
     "output_type": "stream",
     "name": "stdout",
     "text": [
      "      A4GALT      AAAS      AACS     AADAT     AAED1     AAGAB      AAK1  \\\n",
      "0   0.000000  3.162631  2.842943  2.370218  1.442968  4.080894  1.442968   \n",
      "1   2.760150  3.637731  2.128363  4.034387  2.970556  4.213755  1.547680   \n",
      "2   2.106628  3.268491  2.947130  1.528280  2.106628  4.726657  2.106628   \n",
      "3   1.491827  3.568183  2.693332  3.075987  1.491827  4.427060  1.491827   \n",
      "4   0.000000  3.396357  2.835013  3.675630  2.003134  3.956958  1.436542   \n",
      "5   1.305331  3.721677  2.204611  2.670317  1.305331  4.298653  1.305331   \n",
      "6   2.651643  3.524691  1.457295  3.524691  1.457295  4.340808  1.457295   \n",
      "7   0.000000  3.871649  2.043472  1.472169  2.043472  3.799142  0.000000   \n",
      "8   0.000000  3.610017  2.467252  2.103322  2.103322  4.814513  1.525332   \n",
      "9   0.000000  4.230794  2.412853  2.677891  2.412853  3.729615  1.479008   \n",
      "10  1.855632  3.331443  2.207571  1.855632  1.307757  3.724923  1.307757   \n",
      "11  0.000000  3.519885  2.766334  0.000000  1.381294  4.241918  0.000000   \n",
      "12  2.235227  3.408508  2.235227  3.652442  3.085185  4.733618  2.235227   \n",
      "13  0.000000  3.391562  1.523671  3.115036  2.465309  3.391562  1.523671   \n",
      "14  0.000000  3.685203  2.087437  3.592398  2.450688  4.111625  2.450688   \n",
      "15  0.000000  3.636756  2.589478  3.116397  2.797496  4.395662  1.406270   \n",
      "16  0.000000  3.425299  3.035972  3.183238  3.035972  4.102042  1.459437   \n",
      "17  0.000000  3.422713  2.651753  2.387308  3.033429  4.043231  0.000000   \n",
      "18  0.000000  3.899443  2.367903  3.596626  2.008213  4.478187  0.000000   \n",
      "19  0.000000  3.143777  2.352380  1.993389  2.615989  4.259069  1.427960   \n",
      "20  1.552616  3.427206  2.766020  3.150292  0.000000  4.323818  2.499092   \n",
      "21  3.361509  3.361509  2.150684  1.801790  2.408833  3.445626  1.261367   \n",
      "22  0.000000  3.345301  2.393559  1.249357  1.249357  3.768100  1.249357   \n",
      "23  0.000000  3.508817  2.468346  2.104371  2.468346  4.070999  2.104371   \n",
      "24  0.000000  4.202979  2.699385  2.908988  2.071320  4.093511  2.071320   \n",
      "25  2.555878  3.797051  1.601580  3.209439  2.188490  4.522874  2.555878   \n",
      "26  0.000000  3.574364  2.197360  2.833356  1.845955  4.132646  1.299394   \n",
      "27  2.348368  3.483133  1.989560  3.381179  2.611879  4.254697  2.348368   \n",
      "28  1.514433  3.494128  2.930351  2.720464  2.720464  4.225226  1.514433   \n",
      "29  2.015941  3.768167  2.375992  3.021564  1.447835  4.140337  1.447835   \n",
      "30  1.533300  3.876080  3.403446  2.112258  2.476566  4.881316  2.476566   \n",
      "31  0.000000  3.579154  2.823628  2.615222  2.996001  4.113881  1.992675   \n",
      "32  3.045308  3.807469  2.197957  2.565710  2.565710  3.971101  2.197957   \n",
      "33  0.000000  3.622286  2.575738  0.000000  0.000000  3.343472  0.000000   \n",
      "34  4.137991  3.331618  2.530867  0.000000  1.579967  3.460672  3.009339   \n",
      "35  0.000000  3.609870  2.467114  3.393468  2.943419  3.507512  1.525214   \n",
      "36  2.408686  4.226283  2.408686  3.331665  2.673628  4.175758  2.047206   \n",
      "37  0.000000  4.305856  2.163113  3.573518  2.529502  4.653249  1.578790   \n",
      "38  0.000000  4.252762  2.746587  3.278326  2.956818  3.407135  2.746587   \n",
      "39  3.757526  3.757526  2.438913  3.579862  2.438913  4.352996  2.076151   \n",
      "40  0.000000  3.741344  2.351110  2.614688  1.426894  4.343516  1.426894   \n",
      "41  2.085894  3.986915  2.714932  3.245762  2.085894  4.602417  2.449079   \n",
      "42  0.000000  3.473270  2.602452  3.129800  1.416872  4.370776  1.980781   \n",
      "43  0.000000  3.229085  2.070708  3.969882  3.573811  3.969882  2.698732   \n",
      "44  0.000000  3.983695  2.332403  3.250651  0.000000  4.092959  1.411204   \n",
      "45  3.311568  3.425292  3.035966  2.654231  2.863204  4.155232  2.029072   \n",
      "46  0.000000  3.387903  2.461845  1.520711  2.098135  4.179889  1.520711   \n",
      "47  3.285751  3.631139  2.487132  2.122400  3.414595  4.207084  2.122400   \n",
      "\n",
      "       AAMDC      AAMP      AAR2  ...      ZUP1      ZW10    ZWILCH     ZWINT  \\\n",
      "0   3.290859  5.149596  4.184564  ...  3.015508  2.842943  3.290859  4.364344   \n",
      "1   2.493342  4.576918  3.966657  ...  3.966657  4.034387  4.034387  5.028623   \n",
      "2   2.470699  4.847005  4.073526  ...  2.947130  3.706538  3.120664  4.073526   \n",
      "3   2.902852  4.543515  3.352066  ...  3.964201  3.465951  4.385020  5.610100   \n",
      "4   2.003134  4.861710  3.956958  ...  2.835013  4.072614  4.224329  5.264593   \n",
      "5   1.852826  4.984983  3.226851  ...  2.204611  4.003292  3.582291  5.055970   \n",
      "6   1.457295  4.960437  3.983585  ...  3.033316  3.920287  3.983585  5.274872   \n",
      "7   2.669636  4.882715  3.327531  ...  3.327531  3.939253  4.118325  4.856939   \n",
      "8   2.733502  5.362247  4.185708  ...  3.393614  3.938731  3.702865  5.047654   \n",
      "9   2.887197  5.352297  3.947947  ...  2.887197  4.180265  3.449902  5.268629   \n",
      "10  2.467377  5.024411  3.724923  ...  3.331443  2.989970  2.844166  3.956222   \n",
      "11  1.940193  5.256052  3.604426  ...  3.212471  3.325771  3.604426  5.550181   \n",
      "12  2.873407  5.262783  4.152842  ...  2.873407  4.216397  3.652442  5.072818   \n",
      "13  1.523671  4.782800  4.127355  ...  3.391562  3.607951  3.115036  4.546641   \n",
      "14  2.716576  4.906904  3.770121  ...  2.716576  3.685203  3.490092  3.848389   \n",
      "15  2.326508  4.797009  3.459688  ...  3.244374  3.636756  4.033403  4.600987   \n",
      "16  2.654237  4.866287  3.425299  ...  3.425299  3.782961  3.620035  4.464665   \n",
      "17  2.387308  4.837863  4.888760  ...  3.702206  3.309000  3.180677  4.203115   \n",
      "18  2.367903  4.676791  3.402029  ...  4.182049  3.831895  4.078383  5.380241   \n",
      "19  0.000000  4.718110  3.579958  ...  2.996787  3.487432  3.271904  4.165171   \n",
      "20  2.766020  4.461850  3.541374  ...  3.821786  3.821786  3.150292  4.788841   \n",
      "21  2.929149  4.238684  3.595211  ...  2.408833  3.943616  3.055978  4.675351   \n",
      "22  2.913258  4.533241  3.578881  ...  3.039979  2.913258  2.393559  3.578881   \n",
      "23  2.468346  4.815698  4.428699  ...  3.118207  4.186885  3.266018  5.575459   \n",
      "24  2.908988  4.512603  3.830366  ...  3.229758  3.358331  4.433474  5.616568   \n",
      "25  3.035161  4.786041  4.334102  ...  4.432936  4.224418  4.101204  4.681607   \n",
      "26  2.197360  4.628386  3.496655  ...  3.219022  3.574364  3.219022  4.920132   \n",
      "27  1.989560  4.684991  3.381179  ...  3.381179  3.381179  3.267638  3.941553   \n",
      "28  2.454492  4.771072  3.251455  ...  3.689261  3.689261  3.251455  4.986483   \n",
      "29  3.168730  5.403870  4.328620  ...  2.015941  3.768167  3.512707  5.117686   \n",
      "30  2.476566  4.934984  4.632167  ...  2.743017  3.517527  3.403446  3.797764   \n",
      "31  2.996001  5.285176  3.814320  ...  3.142986  3.945091  3.271108  4.423129   \n",
      "32  2.565710  5.106765  4.395263  ...  2.197957  4.111685  3.368092  3.892628   \n",
      "33  1.955932  4.522414  4.018804  ...  2.955509  3.230093  2.313105  3.903265   \n",
      "34  2.164425  5.225909  4.137991  ...  2.798451  3.009339  2.530867  3.574960   \n",
      "35  2.103189  4.924735  3.393468  ...  4.069676  3.116921  2.943419  3.393468   \n",
      "36  2.408686  4.721287  3.445470  ...  3.547637  3.640326  4.446501  4.960540   \n",
      "37  2.163113  4.757656  4.450618  ...  3.573518  4.252538  3.573518  4.689276   \n",
      "38  3.407135  4.523779  3.407135  ...  3.278326  3.716511  3.278326  3.801493   \n",
      "39  2.438913  4.919890  3.477595  ...  2.438913  3.477595  3.672635  5.205745   \n",
      "40  2.995454  5.009233  3.578594  ...  3.486071  3.486071  3.578594  4.987871   \n",
      "41  3.245762  4.765199  4.166139  ...  2.085894  2.714932  3.488385  5.483804   \n",
      "42  1.980781  4.810913  3.473270  ...  2.982910  3.257850  2.982910  4.047176   \n",
      "43  2.070708  5.033503  3.969882  ...  3.471562  3.229085  3.081512  3.902237   \n",
      "44  2.595521  4.900361  3.122640  ...  2.975802  3.466014  3.250651  4.900361   \n",
      "45  2.389729  4.730211  3.923016  ...  2.389729  3.527393  3.311568  4.786879   \n",
      "46  2.937965  4.779046  3.697102  ...  3.259186  3.387903  3.259186  3.387903   \n",
      "47  4.310954  5.238857  4.491037  ...  3.137816  4.359105  3.414595  5.674596   \n",
      "\n",
      "        ZXDB      ZXDC    ZYG11B       ZYX     ZZEF1      ZZZ3  \n",
      "0   2.370218  3.015508  2.370218  4.404657  2.634258  2.842943  \n",
      "1   2.760150  3.144295  3.144295  5.245592  3.144295  3.535290  \n",
      "2   0.000000  3.613681  2.106628  4.788640  2.470699  3.511311  \n",
      "3   2.065650  3.075987  2.693332  3.465951  2.427951  3.465951  \n",
      "4   2.003134  2.835013  2.835013  5.668332  2.626442  2.835013  \n",
      "5   2.204611  2.670317  1.852826  4.402653  2.670317  2.464333  \n",
      "6   2.026655  2.651643  2.651643  4.960437  2.387201  3.033316  \n",
      "7   2.043472  2.404784  2.878828  3.939253  2.404784  3.327531  \n",
      "8   2.467252  3.117065  3.264869  5.236585  2.733502  3.117065  \n",
      "9   2.051194  2.887197  2.677891  4.324781  3.207618  3.060187  \n",
      "10  2.207571  3.423499  1.307757  3.956222  2.207571  2.989970  \n",
      "11  1.940193  2.938119  2.558792  4.568107  1.940193  3.212471  \n",
      "12  3.085185  3.259857  2.873407  4.332540  2.873407  3.652442  \n",
      "13  2.731517  2.941551  2.941551  5.425433  2.941551  3.391562  \n",
      "14  2.087437  2.450688  2.716576  5.569779  2.926411  2.926411  \n",
      "15  1.968707  2.326508  2.589478  5.003099  2.797496  3.357815  \n",
      "16  2.029078  3.183238  2.863210  4.425905  2.863210  3.425299  \n",
      "17  2.860691  3.309000  2.387308  3.524806  3.780349  2.860691  \n",
      "18  2.008213  2.840538  2.631887  3.899443  3.288400  3.160185  \n",
      "19  1.993389  2.824406  2.824406  5.031541  2.824406  2.824406  \n",
      "20  2.499092  3.298304  2.766020  5.149210  3.150292  3.427206  \n",
      "21  2.150684  2.613828  1.801790  4.309147  2.150684  2.408833  \n",
      "22  1.787785  3.152433  1.249357  4.222132  2.393559  2.393559  \n",
      "23  1.526267  2.944694  2.104371  4.755580  2.734619  2.944694  \n",
      "24  3.358331  2.071320  2.908988  4.202979  2.433871  3.574491  \n",
      "25  2.555878  3.882190  3.601353  4.224418  3.357805  3.960647  \n",
      "26  3.219022  2.456875  2.456875  4.900475  2.662729  2.456875  \n",
      "27  2.348368  2.820235  3.139534  4.684991  1.989560  3.483133  \n",
      "28  2.720464  3.103736  3.380135  4.709098  2.930351  3.103736  \n",
      "29  2.015941  3.168730  2.015941  5.578089  2.375992  2.015941  \n",
      "30  2.476566  3.948706  2.112258  3.712788  3.517527  2.953201  \n",
      "31  1.992675  2.996001  2.615222  4.849704  2.996001  2.823628  \n",
      "32  3.368092  3.892628  2.565710  5.130718  3.045308  2.833989  \n",
      "33  2.313105  3.445294  2.313105  4.988336  2.313105  3.102196  \n",
      "34  3.009339  3.574960  2.530867  6.130620  3.574960  3.009339  \n",
      "35  2.467114  3.116921  3.393468  5.601046  2.467114  3.116921  \n",
      "36  1.475475  2.673628  2.673628  5.281378  2.673628  3.055824  \n",
      "37  3.573518  3.330188  2.797058  4.536656  3.459236  3.676069  \n",
      "38  3.407135  3.130438  3.521229  4.798777  3.130438  3.130438  \n",
      "39  1.501153  2.438913  2.914213  5.784680  2.076151  2.704540  \n",
      "40  1.992177  2.995454  2.823085  4.627945  3.142434  2.995454  \n",
      "41  2.714932  3.098080  2.449079  4.363986  3.374414  2.924745  \n",
      "42  2.339168  2.602452  1.980781  4.930616  2.810667  2.810667  \n",
      "43  2.908326  2.698732  3.357655  5.810126  3.081512  3.081512  \n",
      "44  2.332403  1.974328  2.332403  5.214678  2.332403  2.803630  \n",
      "45  2.389729  3.425292  3.527393  5.260635  2.863204  3.527393  \n",
      "46  1.520711  3.604268  2.727977  4.542895  3.501926  3.259186  \n",
      "47  2.487132  2.487132  3.137816  4.806429  2.487132  2.487132  \n",
      "\n",
      "[48 rows x 11431 columns]\n"
     ]
    }
   ],
   "metadata": {}
  },
  {
   "cell_type": "code",
   "execution_count": 19,
   "source": [
    "# get the drug sensity\r\n",
    "drug_sensity = DataFrame(Y,columns=['Drug Sensity'])"
   ],
   "outputs": [],
   "metadata": {}
  },
  {
   "cell_type": "code",
   "execution_count": 20,
   "source": [
    "#5 fold split\r\n",
    "\r\n",
    "from sklearn.model_selection import KFold\r\n",
    "\r\n",
    "train_index_list = []\r\n",
    "test_index_list=[]\r\n",
    "kf = KFold(n_splits=5, random_state=62,shuffle=True)\r\n",
    "for train_index, test_index in kf.split(X_expression_pd.values, drug_sensity.values):\r\n",
    "    print(\"TRAIN:\", train_index, \"TEST:\", test_index)\r\n",
    "    train_index_list.append(train_index)\r\n",
    "    test_index_list.append(test_index)\r\n",
    "\r\n"
   ],
   "outputs": [
    {
     "output_type": "stream",
     "name": "stdout",
     "text": [
      "TRAIN: [ 0  1  3  5  6  7  8  9 10 11 12 13 14 17 18 19 20 21 22 24 26 28 29 30\n",
      " 32 33 34 35 36 37 38 40 41 42 43 44 45 46] TEST: [ 2  4 15 16 23 25 27 31 39 47]\n",
      "TRAIN: [ 0  1  2  3  4  8  9 10 11 12 13 14 15 16 17 18 19 21 23 24 25 27 29 30\n",
      " 31 33 34 35 36 37 38 39 40 42 44 45 46 47] TEST: [ 5  6  7 20 22 26 28 32 41 43]\n",
      "TRAIN: [ 0  1  2  4  5  6  7  9 10 11 15 16 17 18 19 20 21 22 23 24 25 26 27 28\n",
      " 29 30 31 32 33 36 37 39 40 41 43 44 45 47] TEST: [ 3  8 12 13 14 34 35 38 42 46]\n",
      "TRAIN: [ 2  3  4  5  6  7  8  9 11 12 13 14 15 16 17 18 20 22 23 24 25 26 27 28\n",
      " 30 31 32 34 35 36 37 38 39 41 42 43 45 46 47] TEST: [ 0  1 10 19 21 29 33 40 44]\n",
      "TRAIN: [ 0  1  2  3  4  5  6  7  8 10 12 13 14 15 16 19 20 21 22 23 25 26 27 28\n",
      " 29 31 32 33 34 35 38 39 40 41 42 43 44 46 47] TEST: [ 9 11 17 18 24 30 36 37 45]\n"
     ]
    }
   ],
   "metadata": {}
  },
  {
   "cell_type": "code",
   "execution_count": 21,
   "source": [
    "#####get each fold \r\n",
    "cv1_x_train = X_expression_pd.iloc[train_index_list[0]]\r\n",
    "cv1_x_test = X_expression_pd.iloc[test_index_list[0]]\r\n",
    "cv1_y_train = drug_sensity.iloc[train_index_list[0]]\r\n",
    "\r\n",
    "cv2_x_train = X_expression_pd.iloc[train_index_list[1]]\r\n",
    "cv2_x_test = X_expression_pd.iloc[test_index_list[1]]\r\n",
    "cv2_y_train = drug_sensity.iloc[train_index_list[1]]\r\n",
    "\r\n",
    "cv3_x_train = X_expression_pd.iloc[train_index_list[2]]\r\n",
    "cv3_x_test = X_expression_pd.iloc[test_index_list[2]]\r\n",
    "cv3_y_train = drug_sensity.iloc[train_index_list[2]]\r\n",
    "\r\n",
    "cv4_x_train = X_expression_pd.iloc[train_index_list[3]]\r\n",
    "cv4_x_test = X_expression_pd.iloc[test_index_list[3]]\r\n",
    "cv4_y_train = drug_sensity.iloc[train_index_list[3]]\r\n",
    "\r\n",
    "cv5_x_train = X_expression_pd.iloc[train_index_list[4]]\r\n",
    "cv5_x_test = X_expression_pd.iloc[test_index_list[4]]\r\n",
    "cv5_y_train = drug_sensity.iloc[train_index_list[4]]"
   ],
   "outputs": [],
   "metadata": {}
  },
  {
   "cell_type": "code",
   "execution_count": 22,
   "source": [
    "cv1_y_test = drug_sensity.iloc[test_index_list[0]]\r\n",
    "cv2_y_test = drug_sensity.iloc[test_index_list[1]]\r\n",
    "cv3_y_test = drug_sensity.iloc[test_index_list[2]]\r\n",
    "cv4_y_test = drug_sensity.iloc[test_index_list[3]]\r\n",
    "cv5_y_test = drug_sensity.iloc[test_index_list[4]]"
   ],
   "outputs": [],
   "metadata": {}
  },
  {
   "cell_type": "code",
   "execution_count": 142,
   "source": [
    "#### transform the data format to csv, and then execute the RF(random forest) or DL(deep learning) algorithm in R(batch_correct.R&tune_drug.R)\r\n",
    "cv1_x_train.to_csv('cv1_x_train.csv',sep='\\t')\r\n",
    "cv1_x_test.to_csv('cv1_x_test.csv',sep='\\t')\r\n",
    "\r\n",
    "cv2_x_train.to_csv('cv2_x_train.csv',sep='\\t')\r\n",
    "cv2_x_test.to_csv('cv2_x_test.csv',sep='\\t')\r\n",
    "\r\n",
    "cv3_x_train.to_csv('cv3_x_train.csv',sep='\\t')\r\n",
    "cv3_x_test.to_csv('cv3_x_test.csv',sep='\\t')\r\n",
    "\r\n",
    "cv4_x_train.to_csv('cv4_x_train.csv',sep='\\t')\r\n",
    "cv4_x_test.to_csv('cv4_x_test.csv',sep='\\t')\r\n",
    "\r\n",
    "cv5_x_train.to_csv('cv5_x_train.csv',sep='\\t')\r\n",
    "cv5_x_test.to_csv('cv5_x_test.csv',sep='\\t')"
   ],
   "outputs": [],
   "metadata": {}
  },
  {
   "cell_type": "code",
   "execution_count": 23,
   "source": [
    "#####get the results after batch correct in R(batch_correct.R)\r\n",
    "import pandas as pd\r\n",
    "cv1_correct = pd.read_csv('F:/deep-drug-response-master/deep-drug-response-master/cv1_cells_correct.csv',sep='\\t')\r\n",
    "cv2_correct = pd.read_csv('F:/deep-drug-response-master/deep-drug-response-master/cv2_cells_correct.csv',sep='\\t')\r\n",
    "cv3_correct = pd.read_csv('F:/deep-drug-response-master/deep-drug-response-master/cv3_cells_correct.csv',sep='\\t')\r\n",
    "cv4_correct = pd.read_csv('F:/deep-drug-response-master/deep-drug-response-master/cv4_cells_correct.csv',sep='\\t')\r\n",
    "cv5_correct = pd.read_csv('F:/deep-drug-response-master/deep-drug-response-master/cv5_cells_correct.csv',sep='\\t')"
   ],
   "outputs": [],
   "metadata": {}
  },
  {
   "cell_type": "code",
   "execution_count": 168,
   "source": [
    "#####insert the drug sensity in the first column\r\n",
    "cv1_correct.insert(0, '5FU', cv1_y_train['Drug Sensity'])\r\n",
    "cv2_correct.insert(0, '5FU', cv2_y_train['Drug Sensity'])\r\n",
    "cv3_correct.insert(0, '5FU', cv3_y_train['Drug Sensity'])\r\n",
    "cv4_correct.insert(0, '5FU', cv4_y_train['Drug Sensity'])\r\n",
    "cv5_correct.insert(0, '5FU', cv5_y_train['Drug Sensity'])\r\n",
    "\r\n",
    "\r\n",
    "cv1_correct.to_csv('cv5_train_correct.csv',sep='\\t')\r\n",
    "cv2_correct.to_csv('cv5_train_correct.csv',sep='\\t')\r\n",
    "cv3_correct.to_csv('cv5_train_correct.csv',sep='\\t')\r\n",
    "cv4_correct.to_csv('cv5_train_correct.csv',sep='\\t')\r\n",
    "cv5_correct.to_csv('cv5_train_correct.csv',sep='\\t')\r\n"
   ],
   "outputs": [],
   "metadata": {}
  },
  {
   "cell_type": "code",
   "execution_count": 82,
   "source": [
    "#### training loss in the 3rd fold in Random Forest\r\n",
    "from sklearn import metrics\r\n",
    "\r\n",
    "rf_cross_val = pd.read_csv('F:/deep-drug-response-master/deep-drug-response-master/rf_cross_val__clinicalPrediction.csv')['ic50'].values\r\n",
    "auc_rf_cross = metrics.roc_auc_score(cv3_y_train.values>-1, rf_cross_val)\r\n",
    "print(auc_rf_cross)\r\n",
    "\r\n",
    "fpr_rf_train, tpr_rf_train, thresholds_rf_train = metrics.roc_curve(cv3_y_train.values > -1, rf_cross_val)\r\n",
    "plt.plot(fpr_rf_train,tpr_rf_train)\r\n",
    "plt.title('RF_AUC=%.2f'%(auc_rf_cross))\r\n",
    "plt.show()"
   ],
   "outputs": [
    {
     "output_type": "stream",
     "name": "stdout",
     "text": [
      "0.9416666666666667\n"
     ]
    },
    {
     "output_type": "display_data",
     "data": {
      "text/plain": [
       "<Figure size 432x288 with 1 Axes>"
      ],
      "image/svg+xml": "<?xml version=\"1.0\" encoding=\"utf-8\" standalone=\"no\"?>\r\n<!DOCTYPE svg PUBLIC \"-//W3C//DTD SVG 1.1//EN\"\r\n  \"http://www.w3.org/Graphics/SVG/1.1/DTD/svg11.dtd\">\r\n<svg height=\"266.135469pt\" version=\"1.1\" viewBox=\"0 0 373.99 266.135469\" width=\"373.99pt\" xmlns=\"http://www.w3.org/2000/svg\" xmlns:xlink=\"http://www.w3.org/1999/xlink\">\r\n <metadata>\r\n  <rdf:RDF xmlns:cc=\"http://creativecommons.org/ns#\" xmlns:dc=\"http://purl.org/dc/elements/1.1/\" xmlns:rdf=\"http://www.w3.org/1999/02/22-rdf-syntax-ns#\">\r\n   <cc:Work>\r\n    <dc:type rdf:resource=\"http://purl.org/dc/dcmitype/StillImage\"/>\r\n    <dc:date>2021-08-25T01:23:41.537598</dc:date>\r\n    <dc:format>image/svg+xml</dc:format>\r\n    <dc:creator>\r\n     <cc:Agent>\r\n      <dc:title>Matplotlib v3.4.3, https://matplotlib.org/</dc:title>\r\n     </cc:Agent>\r\n    </dc:creator>\r\n   </cc:Work>\r\n  </rdf:RDF>\r\n </metadata>\r\n <defs>\r\n  <style type=\"text/css\">*{stroke-linecap:butt;stroke-linejoin:round;}</style>\r\n </defs>\r\n <g id=\"figure_1\">\r\n  <g id=\"patch_1\">\r\n   <path d=\"M 0 266.135469 \r\nL 373.99 266.135469 \r\nL 373.99 0 \r\nL 0 0 \r\nz\r\n\" style=\"fill:#ffffff;\"/>\r\n  </g>\r\n  <g id=\"axes_1\">\r\n   <g id=\"patch_2\">\r\n    <path d=\"M 31.99 239.375625 \r\nL 366.79 239.375625 \r\nL 366.79 21.935625 \r\nL 31.99 21.935625 \r\nz\r\n\" style=\"fill:#eaeaf2;\"/>\r\n   </g>\r\n   <g id=\"matplotlib.axis_1\">\r\n    <g id=\"xtick_1\">\r\n     <g id=\"line2d_1\">\r\n      <path clip-path=\"url(#pf9c5c3af7b)\" d=\"M 47.208182 239.375625 \r\nL 47.208182 21.935625 \r\n\" style=\"fill:none;stroke:#ffffff;stroke-linecap:round;\"/>\r\n     </g>\r\n     <g id=\"text_1\">\r\n      <!-- 0.0 -->\r\n      <g style=\"fill:#262626;\" transform=\"translate(39.563182 256.749219)scale(0.11 -0.11)\">\r\n       <defs>\r\n        <path d=\"M 266 2259 \r\nQ 266 3072 433 3567 \r\nQ 600 4063 929 4331 \r\nQ 1259 4600 1759 4600 \r\nQ 2128 4600 2406 4451 \r\nQ 2684 4303 2865 4023 \r\nQ 3047 3744 3150 3342 \r\nQ 3253 2941 3253 2259 \r\nQ 3253 1453 3087 958 \r\nQ 2922 463 2592 192 \r\nQ 2263 -78 1759 -78 \r\nQ 1097 -78 719 397 \r\nQ 266 969 266 2259 \r\nz\r\nM 844 2259 \r\nQ 844 1131 1108 757 \r\nQ 1372 384 1759 384 \r\nQ 2147 384 2411 759 \r\nQ 2675 1134 2675 2259 \r\nQ 2675 3391 2411 3762 \r\nQ 2147 4134 1753 4134 \r\nQ 1366 4134 1134 3806 \r\nQ 844 3388 844 2259 \r\nz\r\n\" id=\"ArialMT-30\" transform=\"scale(0.015625)\"/>\r\n        <path d=\"M 581 0 \r\nL 581 641 \r\nL 1222 641 \r\nL 1222 0 \r\nL 581 0 \r\nz\r\n\" id=\"ArialMT-2e\" transform=\"scale(0.015625)\"/>\r\n       </defs>\r\n       <use xlink:href=\"#ArialMT-30\"/>\r\n       <use x=\"55.615234\" xlink:href=\"#ArialMT-2e\"/>\r\n       <use x=\"83.398438\" xlink:href=\"#ArialMT-30\"/>\r\n      </g>\r\n     </g>\r\n    </g>\r\n    <g id=\"xtick_2\">\r\n     <g id=\"line2d_2\">\r\n      <path clip-path=\"url(#pf9c5c3af7b)\" d=\"M 108.080909 239.375625 \r\nL 108.080909 21.935625 \r\n\" style=\"fill:none;stroke:#ffffff;stroke-linecap:round;\"/>\r\n     </g>\r\n     <g id=\"text_2\">\r\n      <!-- 0.2 -->\r\n      <g style=\"fill:#262626;\" transform=\"translate(100.435909 256.749219)scale(0.11 -0.11)\">\r\n       <defs>\r\n        <path d=\"M 3222 541 \r\nL 3222 0 \r\nL 194 0 \r\nQ 188 203 259 391 \r\nQ 375 700 629 1000 \r\nQ 884 1300 1366 1694 \r\nQ 2113 2306 2375 2664 \r\nQ 2638 3022 2638 3341 \r\nQ 2638 3675 2398 3904 \r\nQ 2159 4134 1775 4134 \r\nQ 1369 4134 1125 3890 \r\nQ 881 3647 878 3216 \r\nL 300 3275 \r\nQ 359 3922 746 4261 \r\nQ 1134 4600 1788 4600 \r\nQ 2447 4600 2831 4234 \r\nQ 3216 3869 3216 3328 \r\nQ 3216 3053 3103 2787 \r\nQ 2991 2522 2730 2228 \r\nQ 2469 1934 1863 1422 \r\nQ 1356 997 1212 845 \r\nQ 1069 694 975 541 \r\nL 3222 541 \r\nz\r\n\" id=\"ArialMT-32\" transform=\"scale(0.015625)\"/>\r\n       </defs>\r\n       <use xlink:href=\"#ArialMT-30\"/>\r\n       <use x=\"55.615234\" xlink:href=\"#ArialMT-2e\"/>\r\n       <use x=\"83.398438\" xlink:href=\"#ArialMT-32\"/>\r\n      </g>\r\n     </g>\r\n    </g>\r\n    <g id=\"xtick_3\">\r\n     <g id=\"line2d_3\">\r\n      <path clip-path=\"url(#pf9c5c3af7b)\" d=\"M 168.953636 239.375625 \r\nL 168.953636 21.935625 \r\n\" style=\"fill:none;stroke:#ffffff;stroke-linecap:round;\"/>\r\n     </g>\r\n     <g id=\"text_3\">\r\n      <!-- 0.4 -->\r\n      <g style=\"fill:#262626;\" transform=\"translate(161.308636 256.749219)scale(0.11 -0.11)\">\r\n       <defs>\r\n        <path d=\"M 2069 0 \r\nL 2069 1097 \r\nL 81 1097 \r\nL 81 1613 \r\nL 2172 4581 \r\nL 2631 4581 \r\nL 2631 1613 \r\nL 3250 1613 \r\nL 3250 1097 \r\nL 2631 1097 \r\nL 2631 0 \r\nL 2069 0 \r\nz\r\nM 2069 1613 \r\nL 2069 3678 \r\nL 634 1613 \r\nL 2069 1613 \r\nz\r\n\" id=\"ArialMT-34\" transform=\"scale(0.015625)\"/>\r\n       </defs>\r\n       <use xlink:href=\"#ArialMT-30\"/>\r\n       <use x=\"55.615234\" xlink:href=\"#ArialMT-2e\"/>\r\n       <use x=\"83.398438\" xlink:href=\"#ArialMT-34\"/>\r\n      </g>\r\n     </g>\r\n    </g>\r\n    <g id=\"xtick_4\">\r\n     <g id=\"line2d_4\">\r\n      <path clip-path=\"url(#pf9c5c3af7b)\" d=\"M 229.826364 239.375625 \r\nL 229.826364 21.935625 \r\n\" style=\"fill:none;stroke:#ffffff;stroke-linecap:round;\"/>\r\n     </g>\r\n     <g id=\"text_4\">\r\n      <!-- 0.6 -->\r\n      <g style=\"fill:#262626;\" transform=\"translate(222.181364 256.749219)scale(0.11 -0.11)\">\r\n       <defs>\r\n        <path d=\"M 3184 3459 \r\nL 2625 3416 \r\nQ 2550 3747 2413 3897 \r\nQ 2184 4138 1850 4138 \r\nQ 1581 4138 1378 3988 \r\nQ 1113 3794 959 3422 \r\nQ 806 3050 800 2363 \r\nQ 1003 2672 1297 2822 \r\nQ 1591 2972 1913 2972 \r\nQ 2475 2972 2870 2558 \r\nQ 3266 2144 3266 1488 \r\nQ 3266 1056 3080 686 \r\nQ 2894 316 2569 119 \r\nQ 2244 -78 1831 -78 \r\nQ 1128 -78 684 439 \r\nQ 241 956 241 2144 \r\nQ 241 3472 731 4075 \r\nQ 1159 4600 1884 4600 \r\nQ 2425 4600 2770 4297 \r\nQ 3116 3994 3184 3459 \r\nz\r\nM 888 1484 \r\nQ 888 1194 1011 928 \r\nQ 1134 663 1356 523 \r\nQ 1578 384 1822 384 \r\nQ 2178 384 2434 671 \r\nQ 2691 959 2691 1453 \r\nQ 2691 1928 2437 2201 \r\nQ 2184 2475 1800 2475 \r\nQ 1419 2475 1153 2201 \r\nQ 888 1928 888 1484 \r\nz\r\n\" id=\"ArialMT-36\" transform=\"scale(0.015625)\"/>\r\n       </defs>\r\n       <use xlink:href=\"#ArialMT-30\"/>\r\n       <use x=\"55.615234\" xlink:href=\"#ArialMT-2e\"/>\r\n       <use x=\"83.398438\" xlink:href=\"#ArialMT-36\"/>\r\n      </g>\r\n     </g>\r\n    </g>\r\n    <g id=\"xtick_5\">\r\n     <g id=\"line2d_5\">\r\n      <path clip-path=\"url(#pf9c5c3af7b)\" d=\"M 290.699091 239.375625 \r\nL 290.699091 21.935625 \r\n\" style=\"fill:none;stroke:#ffffff;stroke-linecap:round;\"/>\r\n     </g>\r\n     <g id=\"text_5\">\r\n      <!-- 0.8 -->\r\n      <g style=\"fill:#262626;\" transform=\"translate(283.054091 256.749219)scale(0.11 -0.11)\">\r\n       <defs>\r\n        <path d=\"M 1131 2484 \r\nQ 781 2613 612 2850 \r\nQ 444 3088 444 3419 \r\nQ 444 3919 803 4259 \r\nQ 1163 4600 1759 4600 \r\nQ 2359 4600 2725 4251 \r\nQ 3091 3903 3091 3403 \r\nQ 3091 3084 2923 2848 \r\nQ 2756 2613 2416 2484 \r\nQ 2838 2347 3058 2040 \r\nQ 3278 1734 3278 1309 \r\nQ 3278 722 2862 322 \r\nQ 2447 -78 1769 -78 \r\nQ 1091 -78 675 323 \r\nQ 259 725 259 1325 \r\nQ 259 1772 486 2073 \r\nQ 713 2375 1131 2484 \r\nz\r\nM 1019 3438 \r\nQ 1019 3113 1228 2906 \r\nQ 1438 2700 1772 2700 \r\nQ 2097 2700 2305 2904 \r\nQ 2513 3109 2513 3406 \r\nQ 2513 3716 2298 3927 \r\nQ 2084 4138 1766 4138 \r\nQ 1444 4138 1231 3931 \r\nQ 1019 3725 1019 3438 \r\nz\r\nM 838 1322 \r\nQ 838 1081 952 856 \r\nQ 1066 631 1291 507 \r\nQ 1516 384 1775 384 \r\nQ 2178 384 2440 643 \r\nQ 2703 903 2703 1303 \r\nQ 2703 1709 2433 1975 \r\nQ 2163 2241 1756 2241 \r\nQ 1359 2241 1098 1978 \r\nQ 838 1716 838 1322 \r\nz\r\n\" id=\"ArialMT-38\" transform=\"scale(0.015625)\"/>\r\n       </defs>\r\n       <use xlink:href=\"#ArialMT-30\"/>\r\n       <use x=\"55.615234\" xlink:href=\"#ArialMT-2e\"/>\r\n       <use x=\"83.398438\" xlink:href=\"#ArialMT-38\"/>\r\n      </g>\r\n     </g>\r\n    </g>\r\n    <g id=\"xtick_6\">\r\n     <g id=\"line2d_6\">\r\n      <path clip-path=\"url(#pf9c5c3af7b)\" d=\"M 351.571818 239.375625 \r\nL 351.571818 21.935625 \r\n\" style=\"fill:none;stroke:#ffffff;stroke-linecap:round;\"/>\r\n     </g>\r\n     <g id=\"text_6\">\r\n      <!-- 1.0 -->\r\n      <g style=\"fill:#262626;\" transform=\"translate(343.926818 256.749219)scale(0.11 -0.11)\">\r\n       <defs>\r\n        <path d=\"M 2384 0 \r\nL 1822 0 \r\nL 1822 3584 \r\nQ 1619 3391 1289 3197 \r\nQ 959 3003 697 2906 \r\nL 697 3450 \r\nQ 1169 3672 1522 3987 \r\nQ 1875 4303 2022 4600 \r\nL 2384 4600 \r\nL 2384 0 \r\nz\r\n\" id=\"ArialMT-31\" transform=\"scale(0.015625)\"/>\r\n       </defs>\r\n       <use xlink:href=\"#ArialMT-31\"/>\r\n       <use x=\"55.615234\" xlink:href=\"#ArialMT-2e\"/>\r\n       <use x=\"83.398438\" xlink:href=\"#ArialMT-30\"/>\r\n      </g>\r\n     </g>\r\n    </g>\r\n   </g>\r\n   <g id=\"matplotlib.axis_2\">\r\n    <g id=\"ytick_1\">\r\n     <g id=\"line2d_7\">\r\n      <path clip-path=\"url(#pf9c5c3af7b)\" d=\"M 31.99 229.491989 \r\nL 366.79 229.491989 \r\n\" style=\"fill:none;stroke:#ffffff;stroke-linecap:round;\"/>\r\n     </g>\r\n     <g id=\"text_7\">\r\n      <!-- 0.0 -->\r\n      <g style=\"fill:#262626;\" transform=\"translate(7.2 233.428786)scale(0.11 -0.11)\">\r\n       <use xlink:href=\"#ArialMT-30\"/>\r\n       <use x=\"55.615234\" xlink:href=\"#ArialMT-2e\"/>\r\n       <use x=\"83.398438\" xlink:href=\"#ArialMT-30\"/>\r\n      </g>\r\n     </g>\r\n    </g>\r\n    <g id=\"ytick_2\">\r\n     <g id=\"line2d_8\">\r\n      <path clip-path=\"url(#pf9c5c3af7b)\" d=\"M 31.99 189.957443 \r\nL 366.79 189.957443 \r\n\" style=\"fill:none;stroke:#ffffff;stroke-linecap:round;\"/>\r\n     </g>\r\n     <g id=\"text_8\">\r\n      <!-- 0.2 -->\r\n      <g style=\"fill:#262626;\" transform=\"translate(7.2 193.89424)scale(0.11 -0.11)\">\r\n       <use xlink:href=\"#ArialMT-30\"/>\r\n       <use x=\"55.615234\" xlink:href=\"#ArialMT-2e\"/>\r\n       <use x=\"83.398438\" xlink:href=\"#ArialMT-32\"/>\r\n      </g>\r\n     </g>\r\n    </g>\r\n    <g id=\"ytick_3\">\r\n     <g id=\"line2d_9\">\r\n      <path clip-path=\"url(#pf9c5c3af7b)\" d=\"M 31.99 150.422898 \r\nL 366.79 150.422898 \r\n\" style=\"fill:none;stroke:#ffffff;stroke-linecap:round;\"/>\r\n     </g>\r\n     <g id=\"text_9\">\r\n      <!-- 0.4 -->\r\n      <g style=\"fill:#262626;\" transform=\"translate(7.2 154.359695)scale(0.11 -0.11)\">\r\n       <use xlink:href=\"#ArialMT-30\"/>\r\n       <use x=\"55.615234\" xlink:href=\"#ArialMT-2e\"/>\r\n       <use x=\"83.398438\" xlink:href=\"#ArialMT-34\"/>\r\n      </g>\r\n     </g>\r\n    </g>\r\n    <g id=\"ytick_4\">\r\n     <g id=\"line2d_10\">\r\n      <path clip-path=\"url(#pf9c5c3af7b)\" d=\"M 31.99 110.888352 \r\nL 366.79 110.888352 \r\n\" style=\"fill:none;stroke:#ffffff;stroke-linecap:round;\"/>\r\n     </g>\r\n     <g id=\"text_10\">\r\n      <!-- 0.6 -->\r\n      <g style=\"fill:#262626;\" transform=\"translate(7.2 114.825149)scale(0.11 -0.11)\">\r\n       <use xlink:href=\"#ArialMT-30\"/>\r\n       <use x=\"55.615234\" xlink:href=\"#ArialMT-2e\"/>\r\n       <use x=\"83.398438\" xlink:href=\"#ArialMT-36\"/>\r\n      </g>\r\n     </g>\r\n    </g>\r\n    <g id=\"ytick_5\">\r\n     <g id=\"line2d_11\">\r\n      <path clip-path=\"url(#pf9c5c3af7b)\" d=\"M 31.99 71.353807 \r\nL 366.79 71.353807 \r\n\" style=\"fill:none;stroke:#ffffff;stroke-linecap:round;\"/>\r\n     </g>\r\n     <g id=\"text_11\">\r\n      <!-- 0.8 -->\r\n      <g style=\"fill:#262626;\" transform=\"translate(7.2 75.290604)scale(0.11 -0.11)\">\r\n       <use xlink:href=\"#ArialMT-30\"/>\r\n       <use x=\"55.615234\" xlink:href=\"#ArialMT-2e\"/>\r\n       <use x=\"83.398438\" xlink:href=\"#ArialMT-38\"/>\r\n      </g>\r\n     </g>\r\n    </g>\r\n    <g id=\"ytick_6\">\r\n     <g id=\"line2d_12\">\r\n      <path clip-path=\"url(#pf9c5c3af7b)\" d=\"M 31.99 31.819261 \r\nL 366.79 31.819261 \r\n\" style=\"fill:none;stroke:#ffffff;stroke-linecap:round;\"/>\r\n     </g>\r\n     <g id=\"text_12\">\r\n      <!-- 1.0 -->\r\n      <g style=\"fill:#262626;\" transform=\"translate(7.2 35.756058)scale(0.11 -0.11)\">\r\n       <use xlink:href=\"#ArialMT-31\"/>\r\n       <use x=\"55.615234\" xlink:href=\"#ArialMT-2e\"/>\r\n       <use x=\"83.398438\" xlink:href=\"#ArialMT-30\"/>\r\n      </g>\r\n     </g>\r\n    </g>\r\n   </g>\r\n   <g id=\"line2d_13\">\r\n    <path clip-path=\"url(#pf9c5c3af7b)\" d=\"M 47.208182 229.491989 \r\nL 47.208182 196.546534 \r\nL 47.208182 84.531989 \r\nL 85.253636 84.531989 \r\nL 85.253636 51.586534 \r\nL 123.299091 51.586534 \r\nL 123.299091 38.408352 \r\nL 237.435455 38.408352 \r\nL 237.435455 31.819261 \r\nL 351.571818 31.819261 \r\n\" style=\"fill:none;stroke:#4c72b0;stroke-linecap:round;stroke-width:1.5;\"/>\r\n   </g>\r\n   <g id=\"patch_3\">\r\n    <path d=\"M 31.99 239.375625 \r\nL 31.99 21.935625 \r\n\" style=\"fill:none;stroke:#ffffff;stroke-linecap:square;stroke-linejoin:miter;stroke-width:1.25;\"/>\r\n   </g>\r\n   <g id=\"patch_4\">\r\n    <path d=\"M 366.79 239.375625 \r\nL 366.79 21.935625 \r\n\" style=\"fill:none;stroke:#ffffff;stroke-linecap:square;stroke-linejoin:miter;stroke-width:1.25;\"/>\r\n   </g>\r\n   <g id=\"patch_5\">\r\n    <path d=\"M 31.99 239.375625 \r\nL 366.79 239.375625 \r\n\" style=\"fill:none;stroke:#ffffff;stroke-linecap:square;stroke-linejoin:miter;stroke-width:1.25;\"/>\r\n   </g>\r\n   <g id=\"patch_6\">\r\n    <path d=\"M 31.99 21.935625 \r\nL 366.79 21.935625 \r\n\" style=\"fill:none;stroke:#ffffff;stroke-linecap:square;stroke-linejoin:miter;stroke-width:1.25;\"/>\r\n   </g>\r\n   <g id=\"text_13\">\r\n    <!-- RF_AUC=0.94 -->\r\n    <g style=\"fill:#262626;\" transform=\"translate(160.20625 15.935625)scale(0.12 -0.12)\">\r\n     <defs>\r\n      <path d=\"M 503 0 \r\nL 503 4581 \r\nL 2534 4581 \r\nQ 3147 4581 3465 4457 \r\nQ 3784 4334 3975 4021 \r\nQ 4166 3709 4166 3331 \r\nQ 4166 2844 3850 2509 \r\nQ 3534 2175 2875 2084 \r\nQ 3116 1969 3241 1856 \r\nQ 3506 1613 3744 1247 \r\nL 4541 0 \r\nL 3778 0 \r\nL 3172 953 \r\nQ 2906 1366 2734 1584 \r\nQ 2563 1803 2427 1890 \r\nQ 2291 1978 2150 2013 \r\nQ 2047 2034 1813 2034 \r\nL 1109 2034 \r\nL 1109 0 \r\nL 503 0 \r\nz\r\nM 1109 2559 \r\nL 2413 2559 \r\nQ 2828 2559 3062 2645 \r\nQ 3297 2731 3419 2920 \r\nQ 3541 3109 3541 3331 \r\nQ 3541 3656 3305 3865 \r\nQ 3069 4075 2559 4075 \r\nL 1109 4075 \r\nL 1109 2559 \r\nz\r\n\" id=\"ArialMT-52\" transform=\"scale(0.015625)\"/>\r\n      <path d=\"M 525 0 \r\nL 525 4581 \r\nL 3616 4581 \r\nL 3616 4041 \r\nL 1131 4041 \r\nL 1131 2622 \r\nL 3281 2622 \r\nL 3281 2081 \r\nL 1131 2081 \r\nL 1131 0 \r\nL 525 0 \r\nz\r\n\" id=\"ArialMT-46\" transform=\"scale(0.015625)\"/>\r\n      <path d=\"M -97 -1272 \r\nL -97 -866 \r\nL 3631 -866 \r\nL 3631 -1272 \r\nL -97 -1272 \r\nz\r\n\" id=\"ArialMT-5f\" transform=\"scale(0.015625)\"/>\r\n      <path d=\"M -9 0 \r\nL 1750 4581 \r\nL 2403 4581 \r\nL 4278 0 \r\nL 3588 0 \r\nL 3053 1388 \r\nL 1138 1388 \r\nL 634 0 \r\nL -9 0 \r\nz\r\nM 1313 1881 \r\nL 2866 1881 \r\nL 2388 3150 \r\nQ 2169 3728 2063 4100 \r\nQ 1975 3659 1816 3225 \r\nL 1313 1881 \r\nz\r\n\" id=\"ArialMT-41\" transform=\"scale(0.015625)\"/>\r\n      <path d=\"M 3500 4581 \r\nL 4106 4581 \r\nL 4106 1934 \r\nQ 4106 1244 3950 837 \r\nQ 3794 431 3386 176 \r\nQ 2978 -78 2316 -78 \r\nQ 1672 -78 1262 144 \r\nQ 853 366 678 786 \r\nQ 503 1206 503 1934 \r\nL 503 4581 \r\nL 1109 4581 \r\nL 1109 1938 \r\nQ 1109 1341 1220 1058 \r\nQ 1331 775 1601 622 \r\nQ 1872 469 2263 469 \r\nQ 2931 469 3215 772 \r\nQ 3500 1075 3500 1938 \r\nL 3500 4581 \r\nz\r\n\" id=\"ArialMT-55\" transform=\"scale(0.015625)\"/>\r\n      <path d=\"M 3763 1606 \r\nL 4369 1453 \r\nQ 4178 706 3683 314 \r\nQ 3188 -78 2472 -78 \r\nQ 1731 -78 1267 223 \r\nQ 803 525 561 1097 \r\nQ 319 1669 319 2325 \r\nQ 319 3041 592 3573 \r\nQ 866 4106 1370 4382 \r\nQ 1875 4659 2481 4659 \r\nQ 3169 4659 3637 4309 \r\nQ 4106 3959 4291 3325 \r\nL 3694 3184 \r\nQ 3534 3684 3231 3912 \r\nQ 2928 4141 2469 4141 \r\nQ 1941 4141 1586 3887 \r\nQ 1231 3634 1087 3207 \r\nQ 944 2781 944 2328 \r\nQ 944 1744 1114 1308 \r\nQ 1284 872 1643 656 \r\nQ 2003 441 2422 441 \r\nQ 2931 441 3284 734 \r\nQ 3638 1028 3763 1606 \r\nz\r\n\" id=\"ArialMT-43\" transform=\"scale(0.015625)\"/>\r\n      <path d=\"M 3381 2694 \r\nL 356 2694 \r\nL 356 3219 \r\nL 3381 3219 \r\nL 3381 2694 \r\nz\r\nM 3381 1303 \r\nL 356 1303 \r\nL 356 1828 \r\nL 3381 1828 \r\nL 3381 1303 \r\nz\r\n\" id=\"ArialMT-3d\" transform=\"scale(0.015625)\"/>\r\n      <path d=\"M 350 1059 \r\nL 891 1109 \r\nQ 959 728 1153 556 \r\nQ 1347 384 1650 384 \r\nQ 1909 384 2104 503 \r\nQ 2300 622 2425 820 \r\nQ 2550 1019 2634 1356 \r\nQ 2719 1694 2719 2044 \r\nQ 2719 2081 2716 2156 \r\nQ 2547 1888 2255 1720 \r\nQ 1963 1553 1622 1553 \r\nQ 1053 1553 659 1965 \r\nQ 266 2378 266 3053 \r\nQ 266 3750 677 4175 \r\nQ 1088 4600 1706 4600 \r\nQ 2153 4600 2523 4359 \r\nQ 2894 4119 3086 3673 \r\nQ 3278 3228 3278 2384 \r\nQ 3278 1506 3087 986 \r\nQ 2897 466 2520 194 \r\nQ 2144 -78 1638 -78 \r\nQ 1100 -78 759 220 \r\nQ 419 519 350 1059 \r\nz\r\nM 2653 3081 \r\nQ 2653 3566 2395 3850 \r\nQ 2138 4134 1775 4134 \r\nQ 1400 4134 1122 3828 \r\nQ 844 3522 844 3034 \r\nQ 844 2597 1108 2323 \r\nQ 1372 2050 1759 2050 \r\nQ 2150 2050 2401 2323 \r\nQ 2653 2597 2653 3081 \r\nz\r\n\" id=\"ArialMT-39\" transform=\"scale(0.015625)\"/>\r\n     </defs>\r\n     <use xlink:href=\"#ArialMT-52\"/>\r\n     <use x=\"72.216797\" xlink:href=\"#ArialMT-46\"/>\r\n     <use x=\"133.300781\" xlink:href=\"#ArialMT-5f\"/>\r\n     <use x=\"188.916016\" xlink:href=\"#ArialMT-41\"/>\r\n     <use x=\"255.615234\" xlink:href=\"#ArialMT-55\"/>\r\n     <use x=\"327.832031\" xlink:href=\"#ArialMT-43\"/>\r\n     <use x=\"400.048828\" xlink:href=\"#ArialMT-3d\"/>\r\n     <use x=\"458.447266\" xlink:href=\"#ArialMT-30\"/>\r\n     <use x=\"514.0625\" xlink:href=\"#ArialMT-2e\"/>\r\n     <use x=\"541.845703\" xlink:href=\"#ArialMT-39\"/>\r\n     <use x=\"597.460938\" xlink:href=\"#ArialMT-34\"/>\r\n    </g>\r\n   </g>\r\n  </g>\r\n </g>\r\n <defs>\r\n  <clipPath id=\"pf9c5c3af7b\">\r\n   <rect height=\"217.44\" width=\"334.8\" x=\"31.99\" y=\"21.935625\"/>\r\n  </clipPath>\r\n </defs>\r\n</svg>\r\n",
      "image/png": "[encoded data removed]"
     },
     "metadata": {}
    }
   ],
   "metadata": {}
  },
  {
   "cell_type": "code",
   "execution_count": 81,
   "source": [
    "### training loss in the 3rd fold in Deep learning\r\n",
    "from sklearn import metrics\r\n",
    "\r\n",
    "dl_cross_val_cv3 = pd.read_csv('F:/deep-drug-response-master/deep-drug-response-master/dl_cross_val_cv3_clinicalPrediction.csv')['ic50'].values\r\n",
    "\r\n",
    "auc_cv_cross = metrics.roc_auc_score(cv3_y_train.values>-1, dl_cross_val_cv3)\r\n",
    "print(auc_cv_cross)\r\n",
    "\r\n",
    "\r\n",
    "fpr_dl_train, tpr_dl_train, thresholds_dl_train = metrics.roc_curve(cv3_y_train.values > -1, dl_cross_val_cv3)\r\n",
    "plt.plot(fpr_dl_train,tpr_dl_train)\r\n",
    "plt.title('DL_AUC=%.2f'%(auc_cv_cross))\r\n",
    "plt.show()"
   ],
   "outputs": [
    {
     "output_type": "stream",
     "name": "stdout",
     "text": [
      "0.975\n"
     ]
    },
    {
     "output_type": "display_data",
     "data": {
      "text/plain": [
       "<Figure size 432x288 with 1 Axes>"
      ],
      "image/svg+xml": "<?xml version=\"1.0\" encoding=\"utf-8\" standalone=\"no\"?>\r\n<!DOCTYPE svg PUBLIC \"-//W3C//DTD SVG 1.1//EN\"\r\n  \"http://www.w3.org/Graphics/SVG/1.1/DTD/svg11.dtd\">\r\n<svg height=\"266.135469pt\" version=\"1.1\" viewBox=\"0 0 373.99 266.135469\" width=\"373.99pt\" xmlns=\"http://www.w3.org/2000/svg\" xmlns:xlink=\"http://www.w3.org/1999/xlink\">\r\n <metadata>\r\n  <rdf:RDF xmlns:cc=\"http://creativecommons.org/ns#\" xmlns:dc=\"http://purl.org/dc/elements/1.1/\" xmlns:rdf=\"http://www.w3.org/1999/02/22-rdf-syntax-ns#\">\r\n   <cc:Work>\r\n    <dc:type rdf:resource=\"http://purl.org/dc/dcmitype/StillImage\"/>\r\n    <dc:date>2021-08-25T01:23:30.639763</dc:date>\r\n    <dc:format>image/svg+xml</dc:format>\r\n    <dc:creator>\r\n     <cc:Agent>\r\n      <dc:title>Matplotlib v3.4.3, https://matplotlib.org/</dc:title>\r\n     </cc:Agent>\r\n    </dc:creator>\r\n   </cc:Work>\r\n  </rdf:RDF>\r\n </metadata>\r\n <defs>\r\n  <style type=\"text/css\">*{stroke-linecap:butt;stroke-linejoin:round;}</style>\r\n </defs>\r\n <g id=\"figure_1\">\r\n  <g id=\"patch_1\">\r\n   <path d=\"M 0 266.135469 \r\nL 373.99 266.135469 \r\nL 373.99 0 \r\nL 0 0 \r\nz\r\n\" style=\"fill:#ffffff;\"/>\r\n  </g>\r\n  <g id=\"axes_1\">\r\n   <g id=\"patch_2\">\r\n    <path d=\"M 31.99 239.375625 \r\nL 366.79 239.375625 \r\nL 366.79 21.935625 \r\nL 31.99 21.935625 \r\nz\r\n\" style=\"fill:#eaeaf2;\"/>\r\n   </g>\r\n   <g id=\"matplotlib.axis_1\">\r\n    <g id=\"xtick_1\">\r\n     <g id=\"line2d_1\">\r\n      <path clip-path=\"url(#p12310f7c59)\" d=\"M 47.208182 239.375625 \r\nL 47.208182 21.935625 \r\n\" style=\"fill:none;stroke:#ffffff;stroke-linecap:round;\"/>\r\n     </g>\r\n     <g id=\"text_1\">\r\n      <!-- 0.0 -->\r\n      <g style=\"fill:#262626;\" transform=\"translate(39.563182 256.749219)scale(0.11 -0.11)\">\r\n       <defs>\r\n        <path d=\"M 266 2259 \r\nQ 266 3072 433 3567 \r\nQ 600 4063 929 4331 \r\nQ 1259 4600 1759 4600 \r\nQ 2128 4600 2406 4451 \r\nQ 2684 4303 2865 4023 \r\nQ 3047 3744 3150 3342 \r\nQ 3253 2941 3253 2259 \r\nQ 3253 1453 3087 958 \r\nQ 2922 463 2592 192 \r\nQ 2263 -78 1759 -78 \r\nQ 1097 -78 719 397 \r\nQ 266 969 266 2259 \r\nz\r\nM 844 2259 \r\nQ 844 1131 1108 757 \r\nQ 1372 384 1759 384 \r\nQ 2147 384 2411 759 \r\nQ 2675 1134 2675 2259 \r\nQ 2675 3391 2411 3762 \r\nQ 2147 4134 1753 4134 \r\nQ 1366 4134 1134 3806 \r\nQ 844 3388 844 2259 \r\nz\r\n\" id=\"ArialMT-30\" transform=\"scale(0.015625)\"/>\r\n        <path d=\"M 581 0 \r\nL 581 641 \r\nL 1222 641 \r\nL 1222 0 \r\nL 581 0 \r\nz\r\n\" id=\"ArialMT-2e\" transform=\"scale(0.015625)\"/>\r\n       </defs>\r\n       <use xlink:href=\"#ArialMT-30\"/>\r\n       <use x=\"55.615234\" xlink:href=\"#ArialMT-2e\"/>\r\n       <use x=\"83.398438\" xlink:href=\"#ArialMT-30\"/>\r\n      </g>\r\n     </g>\r\n    </g>\r\n    <g id=\"xtick_2\">\r\n     <g id=\"line2d_2\">\r\n      <path clip-path=\"url(#p12310f7c59)\" d=\"M 108.080909 239.375625 \r\nL 108.080909 21.935625 \r\n\" style=\"fill:none;stroke:#ffffff;stroke-linecap:round;\"/>\r\n     </g>\r\n     <g id=\"text_2\">\r\n      <!-- 0.2 -->\r\n      <g style=\"fill:#262626;\" transform=\"translate(100.435909 256.749219)scale(0.11 -0.11)\">\r\n       <defs>\r\n        <path d=\"M 3222 541 \r\nL 3222 0 \r\nL 194 0 \r\nQ 188 203 259 391 \r\nQ 375 700 629 1000 \r\nQ 884 1300 1366 1694 \r\nQ 2113 2306 2375 2664 \r\nQ 2638 3022 2638 3341 \r\nQ 2638 3675 2398 3904 \r\nQ 2159 4134 1775 4134 \r\nQ 1369 4134 1125 3890 \r\nQ 881 3647 878 3216 \r\nL 300 3275 \r\nQ 359 3922 746 4261 \r\nQ 1134 4600 1788 4600 \r\nQ 2447 4600 2831 4234 \r\nQ 3216 3869 3216 3328 \r\nQ 3216 3053 3103 2787 \r\nQ 2991 2522 2730 2228 \r\nQ 2469 1934 1863 1422 \r\nQ 1356 997 1212 845 \r\nQ 1069 694 975 541 \r\nL 3222 541 \r\nz\r\n\" id=\"ArialMT-32\" transform=\"scale(0.015625)\"/>\r\n       </defs>\r\n       <use xlink:href=\"#ArialMT-30\"/>\r\n       <use x=\"55.615234\" xlink:href=\"#ArialMT-2e\"/>\r\n       <use x=\"83.398438\" xlink:href=\"#ArialMT-32\"/>\r\n      </g>\r\n     </g>\r\n    </g>\r\n    <g id=\"xtick_3\">\r\n     <g id=\"line2d_3\">\r\n      <path clip-path=\"url(#p12310f7c59)\" d=\"M 168.953636 239.375625 \r\nL 168.953636 21.935625 \r\n\" style=\"fill:none;stroke:#ffffff;stroke-linecap:round;\"/>\r\n     </g>\r\n     <g id=\"text_3\">\r\n      <!-- 0.4 -->\r\n      <g style=\"fill:#262626;\" transform=\"translate(161.308636 256.749219)scale(0.11 -0.11)\">\r\n       <defs>\r\n        <path d=\"M 2069 0 \r\nL 2069 1097 \r\nL 81 1097 \r\nL 81 1613 \r\nL 2172 4581 \r\nL 2631 4581 \r\nL 2631 1613 \r\nL 3250 1613 \r\nL 3250 1097 \r\nL 2631 1097 \r\nL 2631 0 \r\nL 2069 0 \r\nz\r\nM 2069 1613 \r\nL 2069 3678 \r\nL 634 1613 \r\nL 2069 1613 \r\nz\r\n\" id=\"ArialMT-34\" transform=\"scale(0.015625)\"/>\r\n       </defs>\r\n       <use xlink:href=\"#ArialMT-30\"/>\r\n       <use x=\"55.615234\" xlink:href=\"#ArialMT-2e\"/>\r\n       <use x=\"83.398438\" xlink:href=\"#ArialMT-34\"/>\r\n      </g>\r\n     </g>\r\n    </g>\r\n    <g id=\"xtick_4\">\r\n     <g id=\"line2d_4\">\r\n      <path clip-path=\"url(#p12310f7c59)\" d=\"M 229.826364 239.375625 \r\nL 229.826364 21.935625 \r\n\" style=\"fill:none;stroke:#ffffff;stroke-linecap:round;\"/>\r\n     </g>\r\n     <g id=\"text_4\">\r\n      <!-- 0.6 -->\r\n      <g style=\"fill:#262626;\" transform=\"translate(222.181364 256.749219)scale(0.11 -0.11)\">\r\n       <defs>\r\n        <path d=\"M 3184 3459 \r\nL 2625 3416 \r\nQ 2550 3747 2413 3897 \r\nQ 2184 4138 1850 4138 \r\nQ 1581 4138 1378 3988 \r\nQ 1113 3794 959 3422 \r\nQ 806 3050 800 2363 \r\nQ 1003 2672 1297 2822 \r\nQ 1591 2972 1913 2972 \r\nQ 2475 2972 2870 2558 \r\nQ 3266 2144 3266 1488 \r\nQ 3266 1056 3080 686 \r\nQ 2894 316 2569 119 \r\nQ 2244 -78 1831 -78 \r\nQ 1128 -78 684 439 \r\nQ 241 956 241 2144 \r\nQ 241 3472 731 4075 \r\nQ 1159 4600 1884 4600 \r\nQ 2425 4600 2770 4297 \r\nQ 3116 3994 3184 3459 \r\nz\r\nM 888 1484 \r\nQ 888 1194 1011 928 \r\nQ 1134 663 1356 523 \r\nQ 1578 384 1822 384 \r\nQ 2178 384 2434 671 \r\nQ 2691 959 2691 1453 \r\nQ 2691 1928 2437 2201 \r\nQ 2184 2475 1800 2475 \r\nQ 1419 2475 1153 2201 \r\nQ 888 1928 888 1484 \r\nz\r\n\" id=\"ArialMT-36\" transform=\"scale(0.015625)\"/>\r\n       </defs>\r\n       <use xlink:href=\"#ArialMT-30\"/>\r\n       <use x=\"55.615234\" xlink:href=\"#ArialMT-2e\"/>\r\n       <use x=\"83.398438\" xlink:href=\"#ArialMT-36\"/>\r\n      </g>\r\n     </g>\r\n    </g>\r\n    <g id=\"xtick_5\">\r\n     <g id=\"line2d_5\">\r\n      <path clip-path=\"url(#p12310f7c59)\" d=\"M 290.699091 239.375625 \r\nL 290.699091 21.935625 \r\n\" style=\"fill:none;stroke:#ffffff;stroke-linecap:round;\"/>\r\n     </g>\r\n     <g id=\"text_5\">\r\n      <!-- 0.8 -->\r\n      <g style=\"fill:#262626;\" transform=\"translate(283.054091 256.749219)scale(0.11 -0.11)\">\r\n       <defs>\r\n        <path d=\"M 1131 2484 \r\nQ 781 2613 612 2850 \r\nQ 444 3088 444 3419 \r\nQ 444 3919 803 4259 \r\nQ 1163 4600 1759 4600 \r\nQ 2359 4600 2725 4251 \r\nQ 3091 3903 3091 3403 \r\nQ 3091 3084 2923 2848 \r\nQ 2756 2613 2416 2484 \r\nQ 2838 2347 3058 2040 \r\nQ 3278 1734 3278 1309 \r\nQ 3278 722 2862 322 \r\nQ 2447 -78 1769 -78 \r\nQ 1091 -78 675 323 \r\nQ 259 725 259 1325 \r\nQ 259 1772 486 2073 \r\nQ 713 2375 1131 2484 \r\nz\r\nM 1019 3438 \r\nQ 1019 3113 1228 2906 \r\nQ 1438 2700 1772 2700 \r\nQ 2097 2700 2305 2904 \r\nQ 2513 3109 2513 3406 \r\nQ 2513 3716 2298 3927 \r\nQ 2084 4138 1766 4138 \r\nQ 1444 4138 1231 3931 \r\nQ 1019 3725 1019 3438 \r\nz\r\nM 838 1322 \r\nQ 838 1081 952 856 \r\nQ 1066 631 1291 507 \r\nQ 1516 384 1775 384 \r\nQ 2178 384 2440 643 \r\nQ 2703 903 2703 1303 \r\nQ 2703 1709 2433 1975 \r\nQ 2163 2241 1756 2241 \r\nQ 1359 2241 1098 1978 \r\nQ 838 1716 838 1322 \r\nz\r\n\" id=\"ArialMT-38\" transform=\"scale(0.015625)\"/>\r\n       </defs>\r\n       <use xlink:href=\"#ArialMT-30\"/>\r\n       <use x=\"55.615234\" xlink:href=\"#ArialMT-2e\"/>\r\n       <use x=\"83.398438\" xlink:href=\"#ArialMT-38\"/>\r\n      </g>\r\n     </g>\r\n    </g>\r\n    <g id=\"xtick_6\">\r\n     <g id=\"line2d_6\">\r\n      <path clip-path=\"url(#p12310f7c59)\" d=\"M 351.571818 239.375625 \r\nL 351.571818 21.935625 \r\n\" style=\"fill:none;stroke:#ffffff;stroke-linecap:round;\"/>\r\n     </g>\r\n     <g id=\"text_6\">\r\n      <!-- 1.0 -->\r\n      <g style=\"fill:#262626;\" transform=\"translate(343.926818 256.749219)scale(0.11 -0.11)\">\r\n       <defs>\r\n        <path d=\"M 2384 0 \r\nL 1822 0 \r\nL 1822 3584 \r\nQ 1619 3391 1289 3197 \r\nQ 959 3003 697 2906 \r\nL 697 3450 \r\nQ 1169 3672 1522 3987 \r\nQ 1875 4303 2022 4600 \r\nL 2384 4600 \r\nL 2384 0 \r\nz\r\n\" id=\"ArialMT-31\" transform=\"scale(0.015625)\"/>\r\n       </defs>\r\n       <use xlink:href=\"#ArialMT-31\"/>\r\n       <use x=\"55.615234\" xlink:href=\"#ArialMT-2e\"/>\r\n       <use x=\"83.398438\" xlink:href=\"#ArialMT-30\"/>\r\n      </g>\r\n     </g>\r\n    </g>\r\n   </g>\r\n   <g id=\"matplotlib.axis_2\">\r\n    <g id=\"ytick_1\">\r\n     <g id=\"line2d_7\">\r\n      <path clip-path=\"url(#p12310f7c59)\" d=\"M 31.99 229.491989 \r\nL 366.79 229.491989 \r\n\" style=\"fill:none;stroke:#ffffff;stroke-linecap:round;\"/>\r\n     </g>\r\n     <g id=\"text_7\">\r\n      <!-- 0.0 -->\r\n      <g style=\"fill:#262626;\" transform=\"translate(7.2 233.428786)scale(0.11 -0.11)\">\r\n       <use xlink:href=\"#ArialMT-30\"/>\r\n       <use x=\"55.615234\" xlink:href=\"#ArialMT-2e\"/>\r\n       <use x=\"83.398438\" xlink:href=\"#ArialMT-30\"/>\r\n      </g>\r\n     </g>\r\n    </g>\r\n    <g id=\"ytick_2\">\r\n     <g id=\"line2d_8\">\r\n      <path clip-path=\"url(#p12310f7c59)\" d=\"M 31.99 189.957443 \r\nL 366.79 189.957443 \r\n\" style=\"fill:none;stroke:#ffffff;stroke-linecap:round;\"/>\r\n     </g>\r\n     <g id=\"text_8\">\r\n      <!-- 0.2 -->\r\n      <g style=\"fill:#262626;\" transform=\"translate(7.2 193.89424)scale(0.11 -0.11)\">\r\n       <use xlink:href=\"#ArialMT-30\"/>\r\n       <use x=\"55.615234\" xlink:href=\"#ArialMT-2e\"/>\r\n       <use x=\"83.398438\" xlink:href=\"#ArialMT-32\"/>\r\n      </g>\r\n     </g>\r\n    </g>\r\n    <g id=\"ytick_3\">\r\n     <g id=\"line2d_9\">\r\n      <path clip-path=\"url(#p12310f7c59)\" d=\"M 31.99 150.422898 \r\nL 366.79 150.422898 \r\n\" style=\"fill:none;stroke:#ffffff;stroke-linecap:round;\"/>\r\n     </g>\r\n     <g id=\"text_9\">\r\n      <!-- 0.4 -->\r\n      <g style=\"fill:#262626;\" transform=\"translate(7.2 154.359695)scale(0.11 -0.11)\">\r\n       <use xlink:href=\"#ArialMT-30\"/>\r\n       <use x=\"55.615234\" xlink:href=\"#ArialMT-2e\"/>\r\n       <use x=\"83.398438\" xlink:href=\"#ArialMT-34\"/>\r\n      </g>\r\n     </g>\r\n    </g>\r\n    <g id=\"ytick_4\">\r\n     <g id=\"line2d_10\">\r\n      <path clip-path=\"url(#p12310f7c59)\" d=\"M 31.99 110.888352 \r\nL 366.79 110.888352 \r\n\" style=\"fill:none;stroke:#ffffff;stroke-linecap:round;\"/>\r\n     </g>\r\n     <g id=\"text_10\">\r\n      <!-- 0.6 -->\r\n      <g style=\"fill:#262626;\" transform=\"translate(7.2 114.825149)scale(0.11 -0.11)\">\r\n       <use xlink:href=\"#ArialMT-30\"/>\r\n       <use x=\"55.615234\" xlink:href=\"#ArialMT-2e\"/>\r\n       <use x=\"83.398438\" xlink:href=\"#ArialMT-36\"/>\r\n      </g>\r\n     </g>\r\n    </g>\r\n    <g id=\"ytick_5\">\r\n     <g id=\"line2d_11\">\r\n      <path clip-path=\"url(#p12310f7c59)\" d=\"M 31.99 71.353807 \r\nL 366.79 71.353807 \r\n\" style=\"fill:none;stroke:#ffffff;stroke-linecap:round;\"/>\r\n     </g>\r\n     <g id=\"text_11\">\r\n      <!-- 0.8 -->\r\n      <g style=\"fill:#262626;\" transform=\"translate(7.2 75.290604)scale(0.11 -0.11)\">\r\n       <use xlink:href=\"#ArialMT-30\"/>\r\n       <use x=\"55.615234\" xlink:href=\"#ArialMT-2e\"/>\r\n       <use x=\"83.398438\" xlink:href=\"#ArialMT-38\"/>\r\n      </g>\r\n     </g>\r\n    </g>\r\n    <g id=\"ytick_6\">\r\n     <g id=\"line2d_12\">\r\n      <path clip-path=\"url(#p12310f7c59)\" d=\"M 31.99 31.819261 \r\nL 366.79 31.819261 \r\n\" style=\"fill:none;stroke:#ffffff;stroke-linecap:round;\"/>\r\n     </g>\r\n     <g id=\"text_12\">\r\n      <!-- 1.0 -->\r\n      <g style=\"fill:#262626;\" transform=\"translate(7.2 35.756058)scale(0.11 -0.11)\">\r\n       <use xlink:href=\"#ArialMT-31\"/>\r\n       <use x=\"55.615234\" xlink:href=\"#ArialMT-2e\"/>\r\n       <use x=\"83.398438\" xlink:href=\"#ArialMT-30\"/>\r\n      </g>\r\n     </g>\r\n    </g>\r\n   </g>\r\n   <g id=\"line2d_13\">\r\n    <path clip-path=\"url(#p12310f7c59)\" d=\"M 47.208182 229.491989 \r\nL 47.208182 222.902898 \r\nL 47.208182 58.175625 \r\nL 85.253636 58.175625 \r\nL 85.253636 44.997443 \r\nL 123.299091 44.997443 \r\nL 123.299091 31.819261 \r\nL 351.571818 31.819261 \r\n\" style=\"fill:none;stroke:#4c72b0;stroke-linecap:round;stroke-width:1.5;\"/>\r\n   </g>\r\n   <g id=\"patch_3\">\r\n    <path d=\"M 31.99 239.375625 \r\nL 31.99 21.935625 \r\n\" style=\"fill:none;stroke:#ffffff;stroke-linecap:square;stroke-linejoin:miter;stroke-width:1.25;\"/>\r\n   </g>\r\n   <g id=\"patch_4\">\r\n    <path d=\"M 366.79 239.375625 \r\nL 366.79 21.935625 \r\n\" style=\"fill:none;stroke:#ffffff;stroke-linecap:square;stroke-linejoin:miter;stroke-width:1.25;\"/>\r\n   </g>\r\n   <g id=\"patch_5\">\r\n    <path d=\"M 31.99 239.375625 \r\nL 366.79 239.375625 \r\n\" style=\"fill:none;stroke:#ffffff;stroke-linecap:square;stroke-linejoin:miter;stroke-width:1.25;\"/>\r\n   </g>\r\n   <g id=\"patch_6\">\r\n    <path d=\"M 31.99 21.935625 \r\nL 366.79 21.935625 \r\n\" style=\"fill:none;stroke:#ffffff;stroke-linecap:square;stroke-linejoin:miter;stroke-width:1.25;\"/>\r\n   </g>\r\n   <g id=\"text_13\">\r\n    <!-- DL_AUC=0.97 -->\r\n    <g style=\"fill:#262626;\" transform=\"translate(160.534375 15.935625)scale(0.12 -0.12)\">\r\n     <defs>\r\n      <path d=\"M 494 0 \r\nL 494 4581 \r\nL 2072 4581 \r\nQ 2606 4581 2888 4516 \r\nQ 3281 4425 3559 4188 \r\nQ 3922 3881 4101 3404 \r\nQ 4281 2928 4281 2316 \r\nQ 4281 1794 4159 1391 \r\nQ 4038 988 3847 723 \r\nQ 3656 459 3429 307 \r\nQ 3203 156 2883 78 \r\nQ 2563 0 2147 0 \r\nL 494 0 \r\nz\r\nM 1100 541 \r\nL 2078 541 \r\nQ 2531 541 2789 625 \r\nQ 3047 709 3200 863 \r\nQ 3416 1078 3536 1442 \r\nQ 3656 1806 3656 2325 \r\nQ 3656 3044 3420 3430 \r\nQ 3184 3816 2847 3947 \r\nQ 2603 4041 2063 4041 \r\nL 1100 4041 \r\nL 1100 541 \r\nz\r\n\" id=\"ArialMT-44\" transform=\"scale(0.015625)\"/>\r\n      <path d=\"M 469 0 \r\nL 469 4581 \r\nL 1075 4581 \r\nL 1075 541 \r\nL 3331 541 \r\nL 3331 0 \r\nL 469 0 \r\nz\r\n\" id=\"ArialMT-4c\" transform=\"scale(0.015625)\"/>\r\n      <path d=\"M -97 -1272 \r\nL -97 -866 \r\nL 3631 -866 \r\nL 3631 -1272 \r\nL -97 -1272 \r\nz\r\n\" id=\"ArialMT-5f\" transform=\"scale(0.015625)\"/>\r\n      <path d=\"M -9 0 \r\nL 1750 4581 \r\nL 2403 4581 \r\nL 4278 0 \r\nL 3588 0 \r\nL 3053 1388 \r\nL 1138 1388 \r\nL 634 0 \r\nL -9 0 \r\nz\r\nM 1313 1881 \r\nL 2866 1881 \r\nL 2388 3150 \r\nQ 2169 3728 2063 4100 \r\nQ 1975 3659 1816 3225 \r\nL 1313 1881 \r\nz\r\n\" id=\"ArialMT-41\" transform=\"scale(0.015625)\"/>\r\n      <path d=\"M 3500 4581 \r\nL 4106 4581 \r\nL 4106 1934 \r\nQ 4106 1244 3950 837 \r\nQ 3794 431 3386 176 \r\nQ 2978 -78 2316 -78 \r\nQ 1672 -78 1262 144 \r\nQ 853 366 678 786 \r\nQ 503 1206 503 1934 \r\nL 503 4581 \r\nL 1109 4581 \r\nL 1109 1938 \r\nQ 1109 1341 1220 1058 \r\nQ 1331 775 1601 622 \r\nQ 1872 469 2263 469 \r\nQ 2931 469 3215 772 \r\nQ 3500 1075 3500 1938 \r\nL 3500 4581 \r\nz\r\n\" id=\"ArialMT-55\" transform=\"scale(0.015625)\"/>\r\n      <path d=\"M 3763 1606 \r\nL 4369 1453 \r\nQ 4178 706 3683 314 \r\nQ 3188 -78 2472 -78 \r\nQ 1731 -78 1267 223 \r\nQ 803 525 561 1097 \r\nQ 319 1669 319 2325 \r\nQ 319 3041 592 3573 \r\nQ 866 4106 1370 4382 \r\nQ 1875 4659 2481 4659 \r\nQ 3169 4659 3637 4309 \r\nQ 4106 3959 4291 3325 \r\nL 3694 3184 \r\nQ 3534 3684 3231 3912 \r\nQ 2928 4141 2469 4141 \r\nQ 1941 4141 1586 3887 \r\nQ 1231 3634 1087 3207 \r\nQ 944 2781 944 2328 \r\nQ 944 1744 1114 1308 \r\nQ 1284 872 1643 656 \r\nQ 2003 441 2422 441 \r\nQ 2931 441 3284 734 \r\nQ 3638 1028 3763 1606 \r\nz\r\n\" id=\"ArialMT-43\" transform=\"scale(0.015625)\"/>\r\n      <path d=\"M 3381 2694 \r\nL 356 2694 \r\nL 356 3219 \r\nL 3381 3219 \r\nL 3381 2694 \r\nz\r\nM 3381 1303 \r\nL 356 1303 \r\nL 356 1828 \r\nL 3381 1828 \r\nL 3381 1303 \r\nz\r\n\" id=\"ArialMT-3d\" transform=\"scale(0.015625)\"/>\r\n      <path d=\"M 350 1059 \r\nL 891 1109 \r\nQ 959 728 1153 556 \r\nQ 1347 384 1650 384 \r\nQ 1909 384 2104 503 \r\nQ 2300 622 2425 820 \r\nQ 2550 1019 2634 1356 \r\nQ 2719 1694 2719 2044 \r\nQ 2719 2081 2716 2156 \r\nQ 2547 1888 2255 1720 \r\nQ 1963 1553 1622 1553 \r\nQ 1053 1553 659 1965 \r\nQ 266 2378 266 3053 \r\nQ 266 3750 677 4175 \r\nQ 1088 4600 1706 4600 \r\nQ 2153 4600 2523 4359 \r\nQ 2894 4119 3086 3673 \r\nQ 3278 3228 3278 2384 \r\nQ 3278 1506 3087 986 \r\nQ 2897 466 2520 194 \r\nQ 2144 -78 1638 -78 \r\nQ 1100 -78 759 220 \r\nQ 419 519 350 1059 \r\nz\r\nM 2653 3081 \r\nQ 2653 3566 2395 3850 \r\nQ 2138 4134 1775 4134 \r\nQ 1400 4134 1122 3828 \r\nQ 844 3522 844 3034 \r\nQ 844 2597 1108 2323 \r\nQ 1372 2050 1759 2050 \r\nQ 2150 2050 2401 2323 \r\nQ 2653 2597 2653 3081 \r\nz\r\n\" id=\"ArialMT-39\" transform=\"scale(0.015625)\"/>\r\n      <path d=\"M 303 3981 \r\nL 303 4522 \r\nL 3269 4522 \r\nL 3269 4084 \r\nQ 2831 3619 2401 2847 \r\nQ 1972 2075 1738 1259 \r\nQ 1569 684 1522 0 \r\nL 944 0 \r\nQ 953 541 1156 1306 \r\nQ 1359 2072 1739 2783 \r\nQ 2119 3494 2547 3981 \r\nL 303 3981 \r\nz\r\n\" id=\"ArialMT-37\" transform=\"scale(0.015625)\"/>\r\n     </defs>\r\n     <use xlink:href=\"#ArialMT-44\"/>\r\n     <use x=\"72.216797\" xlink:href=\"#ArialMT-4c\"/>\r\n     <use x=\"127.832031\" xlink:href=\"#ArialMT-5f\"/>\r\n     <use x=\"183.447266\" xlink:href=\"#ArialMT-41\"/>\r\n     <use x=\"250.146484\" xlink:href=\"#ArialMT-55\"/>\r\n     <use x=\"322.363281\" xlink:href=\"#ArialMT-43\"/>\r\n     <use x=\"394.580078\" xlink:href=\"#ArialMT-3d\"/>\r\n     <use x=\"452.978516\" xlink:href=\"#ArialMT-30\"/>\r\n     <use x=\"508.59375\" xlink:href=\"#ArialMT-2e\"/>\r\n     <use x=\"536.376953\" xlink:href=\"#ArialMT-39\"/>\r\n     <use x=\"591.992188\" xlink:href=\"#ArialMT-37\"/>\r\n    </g>\r\n   </g>\r\n  </g>\r\n </g>\r\n <defs>\r\n  <clipPath id=\"p12310f7c59\">\r\n   <rect height=\"217.44\" width=\"334.8\" x=\"31.99\" y=\"21.935625\"/>\r\n  </clipPath>\r\n </defs>\r\n</svg>\r\n",
      "image/png": "[encoded data removed]"
     },
     "metadata": {}
    }
   ],
   "metadata": {}
  },
  {
   "cell_type": "code",
   "execution_count": 64,
   "source": [
    "### get the prediction of each fold in Random Forest\r\n",
    "cv1_pre_rf = pd.read_csv('F:/deep-drug-response-master/deep-drug-response-master/rf_cv1_15_clinicalPrediction.csv')\r\n",
    "cv2_pre_rf = pd.read_csv('F:/deep-drug-response-master/deep-drug-response-master/rf_cv2_15_clinicalPrediction.csv')\r\n",
    "cv3_pre_rf = pd.read_csv('F:/deep-drug-response-master/deep-drug-response-master/rf_cv3_15_clinicalPrediction.csv')\r\n",
    "cv4_pre_rf = pd.read_csv('F:/deep-drug-response-master/deep-drug-response-master/rf_cv4_15_clinicalPrediction.csv')\r\n",
    "cv5_pre_rf = pd.read_csv('F:/deep-drug-response-master/deep-drug-response-master/rf_cv5_15_clinicalPrediction.csv')"
   ],
   "outputs": [],
   "metadata": {}
  },
  {
   "cell_type": "code",
   "execution_count": 65,
   "source": [
    "### get the prediction of each fold in Deep learning\r\n",
    "cv1_pre_dl = pd.read_csv('F:/deep-drug-response-master/deep-drug-response-master/dl_cv1_15_clinicalPrediction.csv')\r\n",
    "cv2_pre_dl = pd.read_csv('F:/deep-drug-response-master/deep-drug-response-master/dl_cv2_15_clinicalPrediction.csv')\r\n",
    "cv3_pre_dl = pd.read_csv('F:/deep-drug-response-master/deep-drug-response-master/dl_cv3_15_clinicalPrediction.csv')\r\n",
    "cv4_pre_dl = pd.read_csv('F:/deep-drug-response-master/deep-drug-response-master/dl_cv4_15_clinicalPrediction.csv')\r\n",
    "cv5_pre_dl = pd.read_csv('F:/deep-drug-response-master/deep-drug-response-master/dl_cv5_15_clinicalPrediction.csv')"
   ],
   "outputs": [],
   "metadata": {}
  },
  {
   "cell_type": "code",
   "execution_count": 77,
   "source": [
    "####merge the prediction in random forest\r\n",
    "rf_y_pre = pd.concat([cv1_pre_rf,cv2_pre_rf,cv3_pre_rf,cv4_pre_rf,cv5_pre_rf],axis=0).set_index('patient_id').sort_index().values.reshape(1,-1)[0]"
   ],
   "outputs": [],
   "metadata": {}
  },
  {
   "cell_type": "code",
   "execution_count": 67,
   "source": [
    "####merge the prediction in deep learning\r\n",
    "dl_y_pre = pd.concat([cv1_pre_dl,cv2_pre_dl,cv3_pre_dl,cv4_pre_dl,cv5_pre_dl],axis=0).set_index('patient_id').sort_index().values.reshape(1,-1)[0]"
   ],
   "outputs": [],
   "metadata": {}
  },
  {
   "cell_type": "code",
   "execution_count": 85,
   "source": [
    "###cross validation results of Random forest\r\n",
    "auc_rf = metrics.roc_auc_score(Y>-1, rf_y_pre)\r\n",
    "print(auc_rf)\r\n",
    "fpr_rf, tpr_rf, thresholds_rf = metrics.roc_curve(Y > -1, rf_y_pre)\r\n",
    "plt.plot(fpr_rf,tpr_rf)\r\n",
    "plt.title('RF_AUC=%.2f'%(auc_rf))\r\n"
   ],
   "outputs": [
    {
     "output_type": "stream",
     "name": "stdout",
     "text": [
      "0.5421875\n"
     ]
    },
    {
     "output_type": "execute_result",
     "data": {
      "text/plain": [
       "Text(0.5, 1.0, 'RF_AUC=0.54')"
      ]
     },
     "metadata": {},
     "execution_count": 85
    },
    {
     "output_type": "display_data",
     "data": {
      "text/plain": [
       "<Figure size 432x288 with 1 Axes>"
      ],
      "image/svg+xml": "<?xml version=\"1.0\" encoding=\"utf-8\" standalone=\"no\"?>\r\n<!DOCTYPE svg PUBLIC \"-//W3C//DTD SVG 1.1//EN\"\r\n  \"http://www.w3.org/Graphics/SVG/1.1/DTD/svg11.dtd\">\r\n<svg height=\"266.135469pt\" version=\"1.1\" viewBox=\"0 0 373.99 266.135469\" width=\"373.99pt\" xmlns=\"http://www.w3.org/2000/svg\" xmlns:xlink=\"http://www.w3.org/1999/xlink\">\r\n <metadata>\r\n  <rdf:RDF xmlns:cc=\"http://creativecommons.org/ns#\" xmlns:dc=\"http://purl.org/dc/elements/1.1/\" xmlns:rdf=\"http://www.w3.org/1999/02/22-rdf-syntax-ns#\">\r\n   <cc:Work>\r\n    <dc:type rdf:resource=\"http://purl.org/dc/dcmitype/StillImage\"/>\r\n    <dc:date>2021-08-25T01:25:46.888428</dc:date>\r\n    <dc:format>image/svg+xml</dc:format>\r\n    <dc:creator>\r\n     <cc:Agent>\r\n      <dc:title>Matplotlib v3.4.3, https://matplotlib.org/</dc:title>\r\n     </cc:Agent>\r\n    </dc:creator>\r\n   </cc:Work>\r\n  </rdf:RDF>\r\n </metadata>\r\n <defs>\r\n  <style type=\"text/css\">*{stroke-linecap:butt;stroke-linejoin:round;}</style>\r\n </defs>\r\n <g id=\"figure_1\">\r\n  <g id=\"patch_1\">\r\n   <path d=\"M 0 266.135469 \r\nL 373.99 266.135469 \r\nL 373.99 0 \r\nL 0 0 \r\nz\r\n\" style=\"fill:#ffffff;\"/>\r\n  </g>\r\n  <g id=\"axes_1\">\r\n   <g id=\"patch_2\">\r\n    <path d=\"M 31.99 239.375625 \r\nL 366.79 239.375625 \r\nL 366.79 21.935625 \r\nL 31.99 21.935625 \r\nz\r\n\" style=\"fill:#eaeaf2;\"/>\r\n   </g>\r\n   <g id=\"matplotlib.axis_1\">\r\n    <g id=\"xtick_1\">\r\n     <g id=\"line2d_1\">\r\n      <path clip-path=\"url(#p8f0a4962c6)\" d=\"M 47.208182 239.375625 \r\nL 47.208182 21.935625 \r\n\" style=\"fill:none;stroke:#ffffff;stroke-linecap:round;\"/>\r\n     </g>\r\n     <g id=\"text_1\">\r\n      <!-- 0.0 -->\r\n      <g style=\"fill:#262626;\" transform=\"translate(39.563182 256.749219)scale(0.11 -0.11)\">\r\n       <defs>\r\n        <path d=\"M 266 2259 \r\nQ 266 3072 433 3567 \r\nQ 600 4063 929 4331 \r\nQ 1259 4600 1759 4600 \r\nQ 2128 4600 2406 4451 \r\nQ 2684 4303 2865 4023 \r\nQ 3047 3744 3150 3342 \r\nQ 3253 2941 3253 2259 \r\nQ 3253 1453 3087 958 \r\nQ 2922 463 2592 192 \r\nQ 2263 -78 1759 -78 \r\nQ 1097 -78 719 397 \r\nQ 266 969 266 2259 \r\nz\r\nM 844 2259 \r\nQ 844 1131 1108 757 \r\nQ 1372 384 1759 384 \r\nQ 2147 384 2411 759 \r\nQ 2675 1134 2675 2259 \r\nQ 2675 3391 2411 3762 \r\nQ 2147 4134 1753 4134 \r\nQ 1366 4134 1134 3806 \r\nQ 844 3388 844 2259 \r\nz\r\n\" id=\"ArialMT-30\" transform=\"scale(0.015625)\"/>\r\n        <path d=\"M 581 0 \r\nL 581 641 \r\nL 1222 641 \r\nL 1222 0 \r\nL 581 0 \r\nz\r\n\" id=\"ArialMT-2e\" transform=\"scale(0.015625)\"/>\r\n       </defs>\r\n       <use xlink:href=\"#ArialMT-30\"/>\r\n       <use x=\"55.615234\" xlink:href=\"#ArialMT-2e\"/>\r\n       <use x=\"83.398438\" xlink:href=\"#ArialMT-30\"/>\r\n      </g>\r\n     </g>\r\n    </g>\r\n    <g id=\"xtick_2\">\r\n     <g id=\"line2d_2\">\r\n      <path clip-path=\"url(#p8f0a4962c6)\" d=\"M 108.080909 239.375625 \r\nL 108.080909 21.935625 \r\n\" style=\"fill:none;stroke:#ffffff;stroke-linecap:round;\"/>\r\n     </g>\r\n     <g id=\"text_2\">\r\n      <!-- 0.2 -->\r\n      <g style=\"fill:#262626;\" transform=\"translate(100.435909 256.749219)scale(0.11 -0.11)\">\r\n       <defs>\r\n        <path d=\"M 3222 541 \r\nL 3222 0 \r\nL 194 0 \r\nQ 188 203 259 391 \r\nQ 375 700 629 1000 \r\nQ 884 1300 1366 1694 \r\nQ 2113 2306 2375 2664 \r\nQ 2638 3022 2638 3341 \r\nQ 2638 3675 2398 3904 \r\nQ 2159 4134 1775 4134 \r\nQ 1369 4134 1125 3890 \r\nQ 881 3647 878 3216 \r\nL 300 3275 \r\nQ 359 3922 746 4261 \r\nQ 1134 4600 1788 4600 \r\nQ 2447 4600 2831 4234 \r\nQ 3216 3869 3216 3328 \r\nQ 3216 3053 3103 2787 \r\nQ 2991 2522 2730 2228 \r\nQ 2469 1934 1863 1422 \r\nQ 1356 997 1212 845 \r\nQ 1069 694 975 541 \r\nL 3222 541 \r\nz\r\n\" id=\"ArialMT-32\" transform=\"scale(0.015625)\"/>\r\n       </defs>\r\n       <use xlink:href=\"#ArialMT-30\"/>\r\n       <use x=\"55.615234\" xlink:href=\"#ArialMT-2e\"/>\r\n       <use x=\"83.398438\" xlink:href=\"#ArialMT-32\"/>\r\n      </g>\r\n     </g>\r\n    </g>\r\n    <g id=\"xtick_3\">\r\n     <g id=\"line2d_3\">\r\n      <path clip-path=\"url(#p8f0a4962c6)\" d=\"M 168.953636 239.375625 \r\nL 168.953636 21.935625 \r\n\" style=\"fill:none;stroke:#ffffff;stroke-linecap:round;\"/>\r\n     </g>\r\n     <g id=\"text_3\">\r\n      <!-- 0.4 -->\r\n      <g style=\"fill:#262626;\" transform=\"translate(161.308636 256.749219)scale(0.11 -0.11)\">\r\n       <defs>\r\n        <path d=\"M 2069 0 \r\nL 2069 1097 \r\nL 81 1097 \r\nL 81 1613 \r\nL 2172 4581 \r\nL 2631 4581 \r\nL 2631 1613 \r\nL 3250 1613 \r\nL 3250 1097 \r\nL 2631 1097 \r\nL 2631 0 \r\nL 2069 0 \r\nz\r\nM 2069 1613 \r\nL 2069 3678 \r\nL 634 1613 \r\nL 2069 1613 \r\nz\r\n\" id=\"ArialMT-34\" transform=\"scale(0.015625)\"/>\r\n       </defs>\r\n       <use xlink:href=\"#ArialMT-30\"/>\r\n       <use x=\"55.615234\" xlink:href=\"#ArialMT-2e\"/>\r\n       <use x=\"83.398438\" xlink:href=\"#ArialMT-34\"/>\r\n      </g>\r\n     </g>\r\n    </g>\r\n    <g id=\"xtick_4\">\r\n     <g id=\"line2d_4\">\r\n      <path clip-path=\"url(#p8f0a4962c6)\" d=\"M 229.826364 239.375625 \r\nL 229.826364 21.935625 \r\n\" style=\"fill:none;stroke:#ffffff;stroke-linecap:round;\"/>\r\n     </g>\r\n     <g id=\"text_4\">\r\n      <!-- 0.6 -->\r\n      <g style=\"fill:#262626;\" transform=\"translate(222.181364 256.749219)scale(0.11 -0.11)\">\r\n       <defs>\r\n        <path d=\"M 3184 3459 \r\nL 2625 3416 \r\nQ 2550 3747 2413 3897 \r\nQ 2184 4138 1850 4138 \r\nQ 1581 4138 1378 3988 \r\nQ 1113 3794 959 3422 \r\nQ 806 3050 800 2363 \r\nQ 1003 2672 1297 2822 \r\nQ 1591 2972 1913 2972 \r\nQ 2475 2972 2870 2558 \r\nQ 3266 2144 3266 1488 \r\nQ 3266 1056 3080 686 \r\nQ 2894 316 2569 119 \r\nQ 2244 -78 1831 -78 \r\nQ 1128 -78 684 439 \r\nQ 241 956 241 2144 \r\nQ 241 3472 731 4075 \r\nQ 1159 4600 1884 4600 \r\nQ 2425 4600 2770 4297 \r\nQ 3116 3994 3184 3459 \r\nz\r\nM 888 1484 \r\nQ 888 1194 1011 928 \r\nQ 1134 663 1356 523 \r\nQ 1578 384 1822 384 \r\nQ 2178 384 2434 671 \r\nQ 2691 959 2691 1453 \r\nQ 2691 1928 2437 2201 \r\nQ 2184 2475 1800 2475 \r\nQ 1419 2475 1153 2201 \r\nQ 888 1928 888 1484 \r\nz\r\n\" id=\"ArialMT-36\" transform=\"scale(0.015625)\"/>\r\n       </defs>\r\n       <use xlink:href=\"#ArialMT-30\"/>\r\n       <use x=\"55.615234\" xlink:href=\"#ArialMT-2e\"/>\r\n       <use x=\"83.398438\" xlink:href=\"#ArialMT-36\"/>\r\n      </g>\r\n     </g>\r\n    </g>\r\n    <g id=\"xtick_5\">\r\n     <g id=\"line2d_5\">\r\n      <path clip-path=\"url(#p8f0a4962c6)\" d=\"M 290.699091 239.375625 \r\nL 290.699091 21.935625 \r\n\" style=\"fill:none;stroke:#ffffff;stroke-linecap:round;\"/>\r\n     </g>\r\n     <g id=\"text_5\">\r\n      <!-- 0.8 -->\r\n      <g style=\"fill:#262626;\" transform=\"translate(283.054091 256.749219)scale(0.11 -0.11)\">\r\n       <defs>\r\n        <path d=\"M 1131 2484 \r\nQ 781 2613 612 2850 \r\nQ 444 3088 444 3419 \r\nQ 444 3919 803 4259 \r\nQ 1163 4600 1759 4600 \r\nQ 2359 4600 2725 4251 \r\nQ 3091 3903 3091 3403 \r\nQ 3091 3084 2923 2848 \r\nQ 2756 2613 2416 2484 \r\nQ 2838 2347 3058 2040 \r\nQ 3278 1734 3278 1309 \r\nQ 3278 722 2862 322 \r\nQ 2447 -78 1769 -78 \r\nQ 1091 -78 675 323 \r\nQ 259 725 259 1325 \r\nQ 259 1772 486 2073 \r\nQ 713 2375 1131 2484 \r\nz\r\nM 1019 3438 \r\nQ 1019 3113 1228 2906 \r\nQ 1438 2700 1772 2700 \r\nQ 2097 2700 2305 2904 \r\nQ 2513 3109 2513 3406 \r\nQ 2513 3716 2298 3927 \r\nQ 2084 4138 1766 4138 \r\nQ 1444 4138 1231 3931 \r\nQ 1019 3725 1019 3438 \r\nz\r\nM 838 1322 \r\nQ 838 1081 952 856 \r\nQ 1066 631 1291 507 \r\nQ 1516 384 1775 384 \r\nQ 2178 384 2440 643 \r\nQ 2703 903 2703 1303 \r\nQ 2703 1709 2433 1975 \r\nQ 2163 2241 1756 2241 \r\nQ 1359 2241 1098 1978 \r\nQ 838 1716 838 1322 \r\nz\r\n\" id=\"ArialMT-38\" transform=\"scale(0.015625)\"/>\r\n       </defs>\r\n       <use xlink:href=\"#ArialMT-30\"/>\r\n       <use x=\"55.615234\" xlink:href=\"#ArialMT-2e\"/>\r\n       <use x=\"83.398438\" xlink:href=\"#ArialMT-38\"/>\r\n      </g>\r\n     </g>\r\n    </g>\r\n    <g id=\"xtick_6\">\r\n     <g id=\"line2d_6\">\r\n      <path clip-path=\"url(#p8f0a4962c6)\" d=\"M 351.571818 239.375625 \r\nL 351.571818 21.935625 \r\n\" style=\"fill:none;stroke:#ffffff;stroke-linecap:round;\"/>\r\n     </g>\r\n     <g id=\"text_6\">\r\n      <!-- 1.0 -->\r\n      <g style=\"fill:#262626;\" transform=\"translate(343.926818 256.749219)scale(0.11 -0.11)\">\r\n       <defs>\r\n        <path d=\"M 2384 0 \r\nL 1822 0 \r\nL 1822 3584 \r\nQ 1619 3391 1289 3197 \r\nQ 959 3003 697 2906 \r\nL 697 3450 \r\nQ 1169 3672 1522 3987 \r\nQ 1875 4303 2022 4600 \r\nL 2384 4600 \r\nL 2384 0 \r\nz\r\n\" id=\"ArialMT-31\" transform=\"scale(0.015625)\"/>\r\n       </defs>\r\n       <use xlink:href=\"#ArialMT-31\"/>\r\n       <use x=\"55.615234\" xlink:href=\"#ArialMT-2e\"/>\r\n       <use x=\"83.398438\" xlink:href=\"#ArialMT-30\"/>\r\n      </g>\r\n     </g>\r\n    </g>\r\n   </g>\r\n   <g id=\"matplotlib.axis_2\">\r\n    <g id=\"ytick_1\">\r\n     <g id=\"line2d_7\">\r\n      <path clip-path=\"url(#p8f0a4962c6)\" d=\"M 31.99 229.491989 \r\nL 366.79 229.491989 \r\n\" style=\"fill:none;stroke:#ffffff;stroke-linecap:round;\"/>\r\n     </g>\r\n     <g id=\"text_7\">\r\n      <!-- 0.0 -->\r\n      <g style=\"fill:#262626;\" transform=\"translate(7.2 233.428786)scale(0.11 -0.11)\">\r\n       <use xlink:href=\"#ArialMT-30\"/>\r\n       <use x=\"55.615234\" xlink:href=\"#ArialMT-2e\"/>\r\n       <use x=\"83.398438\" xlink:href=\"#ArialMT-30\"/>\r\n      </g>\r\n     </g>\r\n    </g>\r\n    <g id=\"ytick_2\">\r\n     <g id=\"line2d_8\">\r\n      <path clip-path=\"url(#p8f0a4962c6)\" d=\"M 31.99 189.957443 \r\nL 366.79 189.957443 \r\n\" style=\"fill:none;stroke:#ffffff;stroke-linecap:round;\"/>\r\n     </g>\r\n     <g id=\"text_8\">\r\n      <!-- 0.2 -->\r\n      <g style=\"fill:#262626;\" transform=\"translate(7.2 193.89424)scale(0.11 -0.11)\">\r\n       <use xlink:href=\"#ArialMT-30\"/>\r\n       <use x=\"55.615234\" xlink:href=\"#ArialMT-2e\"/>\r\n       <use x=\"83.398438\" xlink:href=\"#ArialMT-32\"/>\r\n      </g>\r\n     </g>\r\n    </g>\r\n    <g id=\"ytick_3\">\r\n     <g id=\"line2d_9\">\r\n      <path clip-path=\"url(#p8f0a4962c6)\" d=\"M 31.99 150.422898 \r\nL 366.79 150.422898 \r\n\" style=\"fill:none;stroke:#ffffff;stroke-linecap:round;\"/>\r\n     </g>\r\n     <g id=\"text_9\">\r\n      <!-- 0.4 -->\r\n      <g style=\"fill:#262626;\" transform=\"translate(7.2 154.359695)scale(0.11 -0.11)\">\r\n       <use xlink:href=\"#ArialMT-30\"/>\r\n       <use x=\"55.615234\" xlink:href=\"#ArialMT-2e\"/>\r\n       <use x=\"83.398438\" xlink:href=\"#ArialMT-34\"/>\r\n      </g>\r\n     </g>\r\n    </g>\r\n    <g id=\"ytick_4\">\r\n     <g id=\"line2d_10\">\r\n      <path clip-path=\"url(#p8f0a4962c6)\" d=\"M 31.99 110.888352 \r\nL 366.79 110.888352 \r\n\" style=\"fill:none;stroke:#ffffff;stroke-linecap:round;\"/>\r\n     </g>\r\n     <g id=\"text_10\">\r\n      <!-- 0.6 -->\r\n      <g style=\"fill:#262626;\" transform=\"translate(7.2 114.825149)scale(0.11 -0.11)\">\r\n       <use xlink:href=\"#ArialMT-30\"/>\r\n       <use x=\"55.615234\" xlink:href=\"#ArialMT-2e\"/>\r\n       <use x=\"83.398438\" xlink:href=\"#ArialMT-36\"/>\r\n      </g>\r\n     </g>\r\n    </g>\r\n    <g id=\"ytick_5\">\r\n     <g id=\"line2d_11\">\r\n      <path clip-path=\"url(#p8f0a4962c6)\" d=\"M 31.99 71.353807 \r\nL 366.79 71.353807 \r\n\" style=\"fill:none;stroke:#ffffff;stroke-linecap:round;\"/>\r\n     </g>\r\n     <g id=\"text_11\">\r\n      <!-- 0.8 -->\r\n      <g style=\"fill:#262626;\" transform=\"translate(7.2 75.290604)scale(0.11 -0.11)\">\r\n       <use xlink:href=\"#ArialMT-30\"/>\r\n       <use x=\"55.615234\" xlink:href=\"#ArialMT-2e\"/>\r\n       <use x=\"83.398438\" xlink:href=\"#ArialMT-38\"/>\r\n      </g>\r\n     </g>\r\n    </g>\r\n    <g id=\"ytick_6\">\r\n     <g id=\"line2d_12\">\r\n      <path clip-path=\"url(#p8f0a4962c6)\" d=\"M 31.99 31.819261 \r\nL 366.79 31.819261 \r\n\" style=\"fill:none;stroke:#ffffff;stroke-linecap:round;\"/>\r\n     </g>\r\n     <g id=\"text_12\">\r\n      <!-- 1.0 -->\r\n      <g style=\"fill:#262626;\" transform=\"translate(7.2 35.756058)scale(0.11 -0.11)\">\r\n       <use xlink:href=\"#ArialMT-31\"/>\r\n       <use x=\"55.615234\" xlink:href=\"#ArialMT-2e\"/>\r\n       <use x=\"83.398438\" xlink:href=\"#ArialMT-30\"/>\r\n      </g>\r\n     </g>\r\n    </g>\r\n   </g>\r\n   <g id=\"line2d_13\">\r\n    <path clip-path=\"url(#p8f0a4962c6)\" d=\"M 47.208182 229.491989 \r\nL 47.208182 224.55017 \r\nL 47.208182 155.364716 \r\nL 85.253636 150.422898 \r\nL 161.344545 150.422898 \r\nL 161.344545 140.539261 \r\nL 199.39 140.539261 \r\nL 199.39 125.713807 \r\nL 237.435455 125.713807 \r\nL 237.435455 120.771989 \r\nL 275.480909 120.771989 \r\nL 275.480909 96.062898 \r\nL 313.526364 96.062898 \r\nL 313.526364 41.702898 \r\nL 351.571818 41.702898 \r\nL 351.571818 31.819261 \r\n\" style=\"fill:none;stroke:#4c72b0;stroke-linecap:round;stroke-width:1.5;\"/>\r\n   </g>\r\n   <g id=\"patch_3\">\r\n    <path d=\"M 31.99 239.375625 \r\nL 31.99 21.935625 \r\n\" style=\"fill:none;stroke:#ffffff;stroke-linecap:square;stroke-linejoin:miter;stroke-width:1.25;\"/>\r\n   </g>\r\n   <g id=\"patch_4\">\r\n    <path d=\"M 366.79 239.375625 \r\nL 366.79 21.935625 \r\n\" style=\"fill:none;stroke:#ffffff;stroke-linecap:square;stroke-linejoin:miter;stroke-width:1.25;\"/>\r\n   </g>\r\n   <g id=\"patch_5\">\r\n    <path d=\"M 31.99 239.375625 \r\nL 366.79 239.375625 \r\n\" style=\"fill:none;stroke:#ffffff;stroke-linecap:square;stroke-linejoin:miter;stroke-width:1.25;\"/>\r\n   </g>\r\n   <g id=\"patch_6\">\r\n    <path d=\"M 31.99 21.935625 \r\nL 366.79 21.935625 \r\n\" style=\"fill:none;stroke:#ffffff;stroke-linecap:square;stroke-linejoin:miter;stroke-width:1.25;\"/>\r\n   </g>\r\n   <g id=\"text_13\">\r\n    <!-- RF_AUC=0.54 -->\r\n    <g style=\"fill:#262626;\" transform=\"translate(160.20625 15.935625)scale(0.12 -0.12)\">\r\n     <defs>\r\n      <path d=\"M 503 0 \r\nL 503 4581 \r\nL 2534 4581 \r\nQ 3147 4581 3465 4457 \r\nQ 3784 4334 3975 4021 \r\nQ 4166 3709 4166 3331 \r\nQ 4166 2844 3850 2509 \r\nQ 3534 2175 2875 2084 \r\nQ 3116 1969 3241 1856 \r\nQ 3506 1613 3744 1247 \r\nL 4541 0 \r\nL 3778 0 \r\nL 3172 953 \r\nQ 2906 1366 2734 1584 \r\nQ 2563 1803 2427 1890 \r\nQ 2291 1978 2150 2013 \r\nQ 2047 2034 1813 2034 \r\nL 1109 2034 \r\nL 1109 0 \r\nL 503 0 \r\nz\r\nM 1109 2559 \r\nL 2413 2559 \r\nQ 2828 2559 3062 2645 \r\nQ 3297 2731 3419 2920 \r\nQ 3541 3109 3541 3331 \r\nQ 3541 3656 3305 3865 \r\nQ 3069 4075 2559 4075 \r\nL 1109 4075 \r\nL 1109 2559 \r\nz\r\n\" id=\"ArialMT-52\" transform=\"scale(0.015625)\"/>\r\n      <path d=\"M 525 0 \r\nL 525 4581 \r\nL 3616 4581 \r\nL 3616 4041 \r\nL 1131 4041 \r\nL 1131 2622 \r\nL 3281 2622 \r\nL 3281 2081 \r\nL 1131 2081 \r\nL 1131 0 \r\nL 525 0 \r\nz\r\n\" id=\"ArialMT-46\" transform=\"scale(0.015625)\"/>\r\n      <path d=\"M -97 -1272 \r\nL -97 -866 \r\nL 3631 -866 \r\nL 3631 -1272 \r\nL -97 -1272 \r\nz\r\n\" id=\"ArialMT-5f\" transform=\"scale(0.015625)\"/>\r\n      <path d=\"M -9 0 \r\nL 1750 4581 \r\nL 2403 4581 \r\nL 4278 0 \r\nL 3588 0 \r\nL 3053 1388 \r\nL 1138 1388 \r\nL 634 0 \r\nL -9 0 \r\nz\r\nM 1313 1881 \r\nL 2866 1881 \r\nL 2388 3150 \r\nQ 2169 3728 2063 4100 \r\nQ 1975 3659 1816 3225 \r\nL 1313 1881 \r\nz\r\n\" id=\"ArialMT-41\" transform=\"scale(0.015625)\"/>\r\n      <path d=\"M 3500 4581 \r\nL 4106 4581 \r\nL 4106 1934 \r\nQ 4106 1244 3950 837 \r\nQ 3794 431 3386 176 \r\nQ 2978 -78 2316 -78 \r\nQ 1672 -78 1262 144 \r\nQ 853 366 678 786 \r\nQ 503 1206 503 1934 \r\nL 503 4581 \r\nL 1109 4581 \r\nL 1109 1938 \r\nQ 1109 1341 1220 1058 \r\nQ 1331 775 1601 622 \r\nQ 1872 469 2263 469 \r\nQ 2931 469 3215 772 \r\nQ 3500 1075 3500 1938 \r\nL 3500 4581 \r\nz\r\n\" id=\"ArialMT-55\" transform=\"scale(0.015625)\"/>\r\n      <path d=\"M 3763 1606 \r\nL 4369 1453 \r\nQ 4178 706 3683 314 \r\nQ 3188 -78 2472 -78 \r\nQ 1731 -78 1267 223 \r\nQ 803 525 561 1097 \r\nQ 319 1669 319 2325 \r\nQ 319 3041 592 3573 \r\nQ 866 4106 1370 4382 \r\nQ 1875 4659 2481 4659 \r\nQ 3169 4659 3637 4309 \r\nQ 4106 3959 4291 3325 \r\nL 3694 3184 \r\nQ 3534 3684 3231 3912 \r\nQ 2928 4141 2469 4141 \r\nQ 1941 4141 1586 3887 \r\nQ 1231 3634 1087 3207 \r\nQ 944 2781 944 2328 \r\nQ 944 1744 1114 1308 \r\nQ 1284 872 1643 656 \r\nQ 2003 441 2422 441 \r\nQ 2931 441 3284 734 \r\nQ 3638 1028 3763 1606 \r\nz\r\n\" id=\"ArialMT-43\" transform=\"scale(0.015625)\"/>\r\n      <path d=\"M 3381 2694 \r\nL 356 2694 \r\nL 356 3219 \r\nL 3381 3219 \r\nL 3381 2694 \r\nz\r\nM 3381 1303 \r\nL 356 1303 \r\nL 356 1828 \r\nL 3381 1828 \r\nL 3381 1303 \r\nz\r\n\" id=\"ArialMT-3d\" transform=\"scale(0.015625)\"/>\r\n      <path d=\"M 266 1200 \r\nL 856 1250 \r\nQ 922 819 1161 601 \r\nQ 1400 384 1738 384 \r\nQ 2144 384 2425 690 \r\nQ 2706 997 2706 1503 \r\nQ 2706 1984 2436 2262 \r\nQ 2166 2541 1728 2541 \r\nQ 1456 2541 1237 2417 \r\nQ 1019 2294 894 2097 \r\nL 366 2166 \r\nL 809 4519 \r\nL 3088 4519 \r\nL 3088 3981 \r\nL 1259 3981 \r\nL 1013 2750 \r\nQ 1425 3038 1878 3038 \r\nQ 2478 3038 2890 2622 \r\nQ 3303 2206 3303 1553 \r\nQ 3303 931 2941 478 \r\nQ 2500 -78 1738 -78 \r\nQ 1113 -78 717 272 \r\nQ 322 622 266 1200 \r\nz\r\n\" id=\"ArialMT-35\" transform=\"scale(0.015625)\"/>\r\n     </defs>\r\n     <use xlink:href=\"#ArialMT-52\"/>\r\n     <use x=\"72.216797\" xlink:href=\"#ArialMT-46\"/>\r\n     <use x=\"133.300781\" xlink:href=\"#ArialMT-5f\"/>\r\n     <use x=\"188.916016\" xlink:href=\"#ArialMT-41\"/>\r\n     <use x=\"255.615234\" xlink:href=\"#ArialMT-55\"/>\r\n     <use x=\"327.832031\" xlink:href=\"#ArialMT-43\"/>\r\n     <use x=\"400.048828\" xlink:href=\"#ArialMT-3d\"/>\r\n     <use x=\"458.447266\" xlink:href=\"#ArialMT-30\"/>\r\n     <use x=\"514.0625\" xlink:href=\"#ArialMT-2e\"/>\r\n     <use x=\"541.845703\" xlink:href=\"#ArialMT-35\"/>\r\n     <use x=\"597.460938\" xlink:href=\"#ArialMT-34\"/>\r\n    </g>\r\n   </g>\r\n  </g>\r\n </g>\r\n <defs>\r\n  <clipPath id=\"p8f0a4962c6\">\r\n   <rect height=\"217.44\" width=\"334.8\" x=\"31.99\" y=\"21.935625\"/>\r\n  </clipPath>\r\n </defs>\r\n</svg>\r\n",
      "image/png": "[encoded data removed]"
     },
     "metadata": {}
    }
   ],
   "metadata": {}
  },
  {
   "cell_type": "code",
   "execution_count": 84,
   "source": [
    "#### cross-validation results of deep learning\r\n",
    "auc_dl = metrics.roc_auc_score(Y>-1, dl_y_pre)\r\n",
    "print(auc_dl)\r\n",
    "fpr_dl, tpr_dl, thresholds_dl = metrics.roc_curve(Y > -1, dl_y_pre)\r\n",
    "plt.plot(fpr_dl,tpr_dl)\r\n",
    "plt.title('DL_AUC=%.2f'%(auc_dl))\r\n",
    "plt.show()"
   ],
   "outputs": [
    {
     "output_type": "stream",
     "name": "stdout",
     "text": [
      "0.6375\n"
     ]
    },
    {
     "output_type": "display_data",
     "data": {
      "text/plain": [
       "<Figure size 432x288 with 1 Axes>"
      ],
      "image/svg+xml": "<?xml version=\"1.0\" encoding=\"utf-8\" standalone=\"no\"?>\r\n<!DOCTYPE svg PUBLIC \"-//W3C//DTD SVG 1.1//EN\"\r\n  \"http://www.w3.org/Graphics/SVG/1.1/DTD/svg11.dtd\">\r\n<svg height=\"266.135469pt\" version=\"1.1\" viewBox=\"0 0 373.99 266.135469\" width=\"373.99pt\" xmlns=\"http://www.w3.org/2000/svg\" xmlns:xlink=\"http://www.w3.org/1999/xlink\">\r\n <metadata>\r\n  <rdf:RDF xmlns:cc=\"http://creativecommons.org/ns#\" xmlns:dc=\"http://purl.org/dc/elements/1.1/\" xmlns:rdf=\"http://www.w3.org/1999/02/22-rdf-syntax-ns#\">\r\n   <cc:Work>\r\n    <dc:type rdf:resource=\"http://purl.org/dc/dcmitype/StillImage\"/>\r\n    <dc:date>2021-08-25T01:25:40.372586</dc:date>\r\n    <dc:format>image/svg+xml</dc:format>\r\n    <dc:creator>\r\n     <cc:Agent>\r\n      <dc:title>Matplotlib v3.4.3, https://matplotlib.org/</dc:title>\r\n     </cc:Agent>\r\n    </dc:creator>\r\n   </cc:Work>\r\n  </rdf:RDF>\r\n </metadata>\r\n <defs>\r\n  <style type=\"text/css\">*{stroke-linecap:butt;stroke-linejoin:round;}</style>\r\n </defs>\r\n <g id=\"figure_1\">\r\n  <g id=\"patch_1\">\r\n   <path d=\"M 0 266.135469 \r\nL 373.99 266.135469 \r\nL 373.99 0 \r\nL 0 0 \r\nz\r\n\" style=\"fill:#ffffff;\"/>\r\n  </g>\r\n  <g id=\"axes_1\">\r\n   <g id=\"patch_2\">\r\n    <path d=\"M 31.99 239.375625 \r\nL 366.79 239.375625 \r\nL 366.79 21.935625 \r\nL 31.99 21.935625 \r\nz\r\n\" style=\"fill:#eaeaf2;\"/>\r\n   </g>\r\n   <g id=\"matplotlib.axis_1\">\r\n    <g id=\"xtick_1\">\r\n     <g id=\"line2d_1\">\r\n      <path clip-path=\"url(#p62ab1f8eed)\" d=\"M 47.208182 239.375625 \r\nL 47.208182 21.935625 \r\n\" style=\"fill:none;stroke:#ffffff;stroke-linecap:round;\"/>\r\n     </g>\r\n     <g id=\"text_1\">\r\n      <!-- 0.0 -->\r\n      <g style=\"fill:#262626;\" transform=\"translate(39.563182 256.749219)scale(0.11 -0.11)\">\r\n       <defs>\r\n        <path d=\"M 266 2259 \r\nQ 266 3072 433 3567 \r\nQ 600 4063 929 4331 \r\nQ 1259 4600 1759 4600 \r\nQ 2128 4600 2406 4451 \r\nQ 2684 4303 2865 4023 \r\nQ 3047 3744 3150 3342 \r\nQ 3253 2941 3253 2259 \r\nQ 3253 1453 3087 958 \r\nQ 2922 463 2592 192 \r\nQ 2263 -78 1759 -78 \r\nQ 1097 -78 719 397 \r\nQ 266 969 266 2259 \r\nz\r\nM 844 2259 \r\nQ 844 1131 1108 757 \r\nQ 1372 384 1759 384 \r\nQ 2147 384 2411 759 \r\nQ 2675 1134 2675 2259 \r\nQ 2675 3391 2411 3762 \r\nQ 2147 4134 1753 4134 \r\nQ 1366 4134 1134 3806 \r\nQ 844 3388 844 2259 \r\nz\r\n\" id=\"ArialMT-30\" transform=\"scale(0.015625)\"/>\r\n        <path d=\"M 581 0 \r\nL 581 641 \r\nL 1222 641 \r\nL 1222 0 \r\nL 581 0 \r\nz\r\n\" id=\"ArialMT-2e\" transform=\"scale(0.015625)\"/>\r\n       </defs>\r\n       <use xlink:href=\"#ArialMT-30\"/>\r\n       <use x=\"55.615234\" xlink:href=\"#ArialMT-2e\"/>\r\n       <use x=\"83.398438\" xlink:href=\"#ArialMT-30\"/>\r\n      </g>\r\n     </g>\r\n    </g>\r\n    <g id=\"xtick_2\">\r\n     <g id=\"line2d_2\">\r\n      <path clip-path=\"url(#p62ab1f8eed)\" d=\"M 108.080909 239.375625 \r\nL 108.080909 21.935625 \r\n\" style=\"fill:none;stroke:#ffffff;stroke-linecap:round;\"/>\r\n     </g>\r\n     <g id=\"text_2\">\r\n      <!-- 0.2 -->\r\n      <g style=\"fill:#262626;\" transform=\"translate(100.435909 256.749219)scale(0.11 -0.11)\">\r\n       <defs>\r\n        <path d=\"M 3222 541 \r\nL 3222 0 \r\nL 194 0 \r\nQ 188 203 259 391 \r\nQ 375 700 629 1000 \r\nQ 884 1300 1366 1694 \r\nQ 2113 2306 2375 2664 \r\nQ 2638 3022 2638 3341 \r\nQ 2638 3675 2398 3904 \r\nQ 2159 4134 1775 4134 \r\nQ 1369 4134 1125 3890 \r\nQ 881 3647 878 3216 \r\nL 300 3275 \r\nQ 359 3922 746 4261 \r\nQ 1134 4600 1788 4600 \r\nQ 2447 4600 2831 4234 \r\nQ 3216 3869 3216 3328 \r\nQ 3216 3053 3103 2787 \r\nQ 2991 2522 2730 2228 \r\nQ 2469 1934 1863 1422 \r\nQ 1356 997 1212 845 \r\nQ 1069 694 975 541 \r\nL 3222 541 \r\nz\r\n\" id=\"ArialMT-32\" transform=\"scale(0.015625)\"/>\r\n       </defs>\r\n       <use xlink:href=\"#ArialMT-30\"/>\r\n       <use x=\"55.615234\" xlink:href=\"#ArialMT-2e\"/>\r\n       <use x=\"83.398438\" xlink:href=\"#ArialMT-32\"/>\r\n      </g>\r\n     </g>\r\n    </g>\r\n    <g id=\"xtick_3\">\r\n     <g id=\"line2d_3\">\r\n      <path clip-path=\"url(#p62ab1f8eed)\" d=\"M 168.953636 239.375625 \r\nL 168.953636 21.935625 \r\n\" style=\"fill:none;stroke:#ffffff;stroke-linecap:round;\"/>\r\n     </g>\r\n     <g id=\"text_3\">\r\n      <!-- 0.4 -->\r\n      <g style=\"fill:#262626;\" transform=\"translate(161.308636 256.749219)scale(0.11 -0.11)\">\r\n       <defs>\r\n        <path d=\"M 2069 0 \r\nL 2069 1097 \r\nL 81 1097 \r\nL 81 1613 \r\nL 2172 4581 \r\nL 2631 4581 \r\nL 2631 1613 \r\nL 3250 1613 \r\nL 3250 1097 \r\nL 2631 1097 \r\nL 2631 0 \r\nL 2069 0 \r\nz\r\nM 2069 1613 \r\nL 2069 3678 \r\nL 634 1613 \r\nL 2069 1613 \r\nz\r\n\" id=\"ArialMT-34\" transform=\"scale(0.015625)\"/>\r\n       </defs>\r\n       <use xlink:href=\"#ArialMT-30\"/>\r\n       <use x=\"55.615234\" xlink:href=\"#ArialMT-2e\"/>\r\n       <use x=\"83.398438\" xlink:href=\"#ArialMT-34\"/>\r\n      </g>\r\n     </g>\r\n    </g>\r\n    <g id=\"xtick_4\">\r\n     <g id=\"line2d_4\">\r\n      <path clip-path=\"url(#p62ab1f8eed)\" d=\"M 229.826364 239.375625 \r\nL 229.826364 21.935625 \r\n\" style=\"fill:none;stroke:#ffffff;stroke-linecap:round;\"/>\r\n     </g>\r\n     <g id=\"text_4\">\r\n      <!-- 0.6 -->\r\n      <g style=\"fill:#262626;\" transform=\"translate(222.181364 256.749219)scale(0.11 -0.11)\">\r\n       <defs>\r\n        <path d=\"M 3184 3459 \r\nL 2625 3416 \r\nQ 2550 3747 2413 3897 \r\nQ 2184 4138 1850 4138 \r\nQ 1581 4138 1378 3988 \r\nQ 1113 3794 959 3422 \r\nQ 806 3050 800 2363 \r\nQ 1003 2672 1297 2822 \r\nQ 1591 2972 1913 2972 \r\nQ 2475 2972 2870 2558 \r\nQ 3266 2144 3266 1488 \r\nQ 3266 1056 3080 686 \r\nQ 2894 316 2569 119 \r\nQ 2244 -78 1831 -78 \r\nQ 1128 -78 684 439 \r\nQ 241 956 241 2144 \r\nQ 241 3472 731 4075 \r\nQ 1159 4600 1884 4600 \r\nQ 2425 4600 2770 4297 \r\nQ 3116 3994 3184 3459 \r\nz\r\nM 888 1484 \r\nQ 888 1194 1011 928 \r\nQ 1134 663 1356 523 \r\nQ 1578 384 1822 384 \r\nQ 2178 384 2434 671 \r\nQ 2691 959 2691 1453 \r\nQ 2691 1928 2437 2201 \r\nQ 2184 2475 1800 2475 \r\nQ 1419 2475 1153 2201 \r\nQ 888 1928 888 1484 \r\nz\r\n\" id=\"ArialMT-36\" transform=\"scale(0.015625)\"/>\r\n       </defs>\r\n       <use xlink:href=\"#ArialMT-30\"/>\r\n       <use x=\"55.615234\" xlink:href=\"#ArialMT-2e\"/>\r\n       <use x=\"83.398438\" xlink:href=\"#ArialMT-36\"/>\r\n      </g>\r\n     </g>\r\n    </g>\r\n    <g id=\"xtick_5\">\r\n     <g id=\"line2d_5\">\r\n      <path clip-path=\"url(#p62ab1f8eed)\" d=\"M 290.699091 239.375625 \r\nL 290.699091 21.935625 \r\n\" style=\"fill:none;stroke:#ffffff;stroke-linecap:round;\"/>\r\n     </g>\r\n     <g id=\"text_5\">\r\n      <!-- 0.8 -->\r\n      <g style=\"fill:#262626;\" transform=\"translate(283.054091 256.749219)scale(0.11 -0.11)\">\r\n       <defs>\r\n        <path d=\"M 1131 2484 \r\nQ 781 2613 612 2850 \r\nQ 444 3088 444 3419 \r\nQ 444 3919 803 4259 \r\nQ 1163 4600 1759 4600 \r\nQ 2359 4600 2725 4251 \r\nQ 3091 3903 3091 3403 \r\nQ 3091 3084 2923 2848 \r\nQ 2756 2613 2416 2484 \r\nQ 2838 2347 3058 2040 \r\nQ 3278 1734 3278 1309 \r\nQ 3278 722 2862 322 \r\nQ 2447 -78 1769 -78 \r\nQ 1091 -78 675 323 \r\nQ 259 725 259 1325 \r\nQ 259 1772 486 2073 \r\nQ 713 2375 1131 2484 \r\nz\r\nM 1019 3438 \r\nQ 1019 3113 1228 2906 \r\nQ 1438 2700 1772 2700 \r\nQ 2097 2700 2305 2904 \r\nQ 2513 3109 2513 3406 \r\nQ 2513 3716 2298 3927 \r\nQ 2084 4138 1766 4138 \r\nQ 1444 4138 1231 3931 \r\nQ 1019 3725 1019 3438 \r\nz\r\nM 838 1322 \r\nQ 838 1081 952 856 \r\nQ 1066 631 1291 507 \r\nQ 1516 384 1775 384 \r\nQ 2178 384 2440 643 \r\nQ 2703 903 2703 1303 \r\nQ 2703 1709 2433 1975 \r\nQ 2163 2241 1756 2241 \r\nQ 1359 2241 1098 1978 \r\nQ 838 1716 838 1322 \r\nz\r\n\" id=\"ArialMT-38\" transform=\"scale(0.015625)\"/>\r\n       </defs>\r\n       <use xlink:href=\"#ArialMT-30\"/>\r\n       <use x=\"55.615234\" xlink:href=\"#ArialMT-2e\"/>\r\n       <use x=\"83.398438\" xlink:href=\"#ArialMT-38\"/>\r\n      </g>\r\n     </g>\r\n    </g>\r\n    <g id=\"xtick_6\">\r\n     <g id=\"line2d_6\">\r\n      <path clip-path=\"url(#p62ab1f8eed)\" d=\"M 351.571818 239.375625 \r\nL 351.571818 21.935625 \r\n\" style=\"fill:none;stroke:#ffffff;stroke-linecap:round;\"/>\r\n     </g>\r\n     <g id=\"text_6\">\r\n      <!-- 1.0 -->\r\n      <g style=\"fill:#262626;\" transform=\"translate(343.926818 256.749219)scale(0.11 -0.11)\">\r\n       <defs>\r\n        <path d=\"M 2384 0 \r\nL 1822 0 \r\nL 1822 3584 \r\nQ 1619 3391 1289 3197 \r\nQ 959 3003 697 2906 \r\nL 697 3450 \r\nQ 1169 3672 1522 3987 \r\nQ 1875 4303 2022 4600 \r\nL 2384 4600 \r\nL 2384 0 \r\nz\r\n\" id=\"ArialMT-31\" transform=\"scale(0.015625)\"/>\r\n       </defs>\r\n       <use xlink:href=\"#ArialMT-31\"/>\r\n       <use x=\"55.615234\" xlink:href=\"#ArialMT-2e\"/>\r\n       <use x=\"83.398438\" xlink:href=\"#ArialMT-30\"/>\r\n      </g>\r\n     </g>\r\n    </g>\r\n   </g>\r\n   <g id=\"matplotlib.axis_2\">\r\n    <g id=\"ytick_1\">\r\n     <g id=\"line2d_7\">\r\n      <path clip-path=\"url(#p62ab1f8eed)\" d=\"M 31.99 229.491989 \r\nL 366.79 229.491989 \r\n\" style=\"fill:none;stroke:#ffffff;stroke-linecap:round;\"/>\r\n     </g>\r\n     <g id=\"text_7\">\r\n      <!-- 0.0 -->\r\n      <g style=\"fill:#262626;\" transform=\"translate(7.2 233.428786)scale(0.11 -0.11)\">\r\n       <use xlink:href=\"#ArialMT-30\"/>\r\n       <use x=\"55.615234\" xlink:href=\"#ArialMT-2e\"/>\r\n       <use x=\"83.398438\" xlink:href=\"#ArialMT-30\"/>\r\n      </g>\r\n     </g>\r\n    </g>\r\n    <g id=\"ytick_2\">\r\n     <g id=\"line2d_8\">\r\n      <path clip-path=\"url(#p62ab1f8eed)\" d=\"M 31.99 189.957443 \r\nL 366.79 189.957443 \r\n\" style=\"fill:none;stroke:#ffffff;stroke-linecap:round;\"/>\r\n     </g>\r\n     <g id=\"text_8\">\r\n      <!-- 0.2 -->\r\n      <g style=\"fill:#262626;\" transform=\"translate(7.2 193.89424)scale(0.11 -0.11)\">\r\n       <use xlink:href=\"#ArialMT-30\"/>\r\n       <use x=\"55.615234\" xlink:href=\"#ArialMT-2e\"/>\r\n       <use x=\"83.398438\" xlink:href=\"#ArialMT-32\"/>\r\n      </g>\r\n     </g>\r\n    </g>\r\n    <g id=\"ytick_3\">\r\n     <g id=\"line2d_9\">\r\n      <path clip-path=\"url(#p62ab1f8eed)\" d=\"M 31.99 150.422898 \r\nL 366.79 150.422898 \r\n\" style=\"fill:none;stroke:#ffffff;stroke-linecap:round;\"/>\r\n     </g>\r\n     <g id=\"text_9\">\r\n      <!-- 0.4 -->\r\n      <g style=\"fill:#262626;\" transform=\"translate(7.2 154.359695)scale(0.11 -0.11)\">\r\n       <use xlink:href=\"#ArialMT-30\"/>\r\n       <use x=\"55.615234\" xlink:href=\"#ArialMT-2e\"/>\r\n       <use x=\"83.398438\" xlink:href=\"#ArialMT-34\"/>\r\n      </g>\r\n     </g>\r\n    </g>\r\n    <g id=\"ytick_4\">\r\n     <g id=\"line2d_10\">\r\n      <path clip-path=\"url(#p62ab1f8eed)\" d=\"M 31.99 110.888352 \r\nL 366.79 110.888352 \r\n\" style=\"fill:none;stroke:#ffffff;stroke-linecap:round;\"/>\r\n     </g>\r\n     <g id=\"text_10\">\r\n      <!-- 0.6 -->\r\n      <g style=\"fill:#262626;\" transform=\"translate(7.2 114.825149)scale(0.11 -0.11)\">\r\n       <use xlink:href=\"#ArialMT-30\"/>\r\n       <use x=\"55.615234\" xlink:href=\"#ArialMT-2e\"/>\r\n       <use x=\"83.398438\" xlink:href=\"#ArialMT-36\"/>\r\n      </g>\r\n     </g>\r\n    </g>\r\n    <g id=\"ytick_5\">\r\n     <g id=\"line2d_11\">\r\n      <path clip-path=\"url(#p62ab1f8eed)\" d=\"M 31.99 71.353807 \r\nL 366.79 71.353807 \r\n\" style=\"fill:none;stroke:#ffffff;stroke-linecap:round;\"/>\r\n     </g>\r\n     <g id=\"text_11\">\r\n      <!-- 0.8 -->\r\n      <g style=\"fill:#262626;\" transform=\"translate(7.2 75.290604)scale(0.11 -0.11)\">\r\n       <use xlink:href=\"#ArialMT-30\"/>\r\n       <use x=\"55.615234\" xlink:href=\"#ArialMT-2e\"/>\r\n       <use x=\"83.398438\" xlink:href=\"#ArialMT-38\"/>\r\n      </g>\r\n     </g>\r\n    </g>\r\n    <g id=\"ytick_6\">\r\n     <g id=\"line2d_12\">\r\n      <path clip-path=\"url(#p62ab1f8eed)\" d=\"M 31.99 31.819261 \r\nL 366.79 31.819261 \r\n\" style=\"fill:none;stroke:#ffffff;stroke-linecap:round;\"/>\r\n     </g>\r\n     <g id=\"text_12\">\r\n      <!-- 1.0 -->\r\n      <g style=\"fill:#262626;\" transform=\"translate(7.2 35.756058)scale(0.11 -0.11)\">\r\n       <use xlink:href=\"#ArialMT-31\"/>\r\n       <use x=\"55.615234\" xlink:href=\"#ArialMT-2e\"/>\r\n       <use x=\"83.398438\" xlink:href=\"#ArialMT-30\"/>\r\n      </g>\r\n     </g>\r\n    </g>\r\n   </g>\r\n   <g id=\"line2d_13\">\r\n    <path clip-path=\"url(#p62ab1f8eed)\" d=\"M 47.208182 229.491989 \r\nL 47.208182 224.55017 \r\nL 47.208182 140.539261 \r\nL 123.299091 140.539261 \r\nL 123.299091 115.83017 \r\nL 199.39 115.83017 \r\nL 199.39 110.888352 \r\nL 237.435455 110.888352 \r\nL 237.435455 91.12108 \r\nL 275.480909 91.12108 \r\nL 275.480909 66.411989 \r\nL 313.526364 66.411989 \r\nL 313.526364 46.644716 \r\nL 351.571818 46.644716 \r\nL 351.571818 31.819261 \r\n\" style=\"fill:none;stroke:#4c72b0;stroke-linecap:round;stroke-width:1.5;\"/>\r\n   </g>\r\n   <g id=\"patch_3\">\r\n    <path d=\"M 31.99 239.375625 \r\nL 31.99 21.935625 \r\n\" style=\"fill:none;stroke:#ffffff;stroke-linecap:square;stroke-linejoin:miter;stroke-width:1.25;\"/>\r\n   </g>\r\n   <g id=\"patch_4\">\r\n    <path d=\"M 366.79 239.375625 \r\nL 366.79 21.935625 \r\n\" style=\"fill:none;stroke:#ffffff;stroke-linecap:square;stroke-linejoin:miter;stroke-width:1.25;\"/>\r\n   </g>\r\n   <g id=\"patch_5\">\r\n    <path d=\"M 31.99 239.375625 \r\nL 366.79 239.375625 \r\n\" style=\"fill:none;stroke:#ffffff;stroke-linecap:square;stroke-linejoin:miter;stroke-width:1.25;\"/>\r\n   </g>\r\n   <g id=\"patch_6\">\r\n    <path d=\"M 31.99 21.935625 \r\nL 366.79 21.935625 \r\n\" style=\"fill:none;stroke:#ffffff;stroke-linecap:square;stroke-linejoin:miter;stroke-width:1.25;\"/>\r\n   </g>\r\n   <g id=\"text_13\">\r\n    <!-- DL_AUC=0.64 -->\r\n    <g style=\"fill:#262626;\" transform=\"translate(160.534375 15.935625)scale(0.12 -0.12)\">\r\n     <defs>\r\n      <path d=\"M 494 0 \r\nL 494 4581 \r\nL 2072 4581 \r\nQ 2606 4581 2888 4516 \r\nQ 3281 4425 3559 4188 \r\nQ 3922 3881 4101 3404 \r\nQ 4281 2928 4281 2316 \r\nQ 4281 1794 4159 1391 \r\nQ 4038 988 3847 723 \r\nQ 3656 459 3429 307 \r\nQ 3203 156 2883 78 \r\nQ 2563 0 2147 0 \r\nL 494 0 \r\nz\r\nM 1100 541 \r\nL 2078 541 \r\nQ 2531 541 2789 625 \r\nQ 3047 709 3200 863 \r\nQ 3416 1078 3536 1442 \r\nQ 3656 1806 3656 2325 \r\nQ 3656 3044 3420 3430 \r\nQ 3184 3816 2847 3947 \r\nQ 2603 4041 2063 4041 \r\nL 1100 4041 \r\nL 1100 541 \r\nz\r\n\" id=\"ArialMT-44\" transform=\"scale(0.015625)\"/>\r\n      <path d=\"M 469 0 \r\nL 469 4581 \r\nL 1075 4581 \r\nL 1075 541 \r\nL 3331 541 \r\nL 3331 0 \r\nL 469 0 \r\nz\r\n\" id=\"ArialMT-4c\" transform=\"scale(0.015625)\"/>\r\n      <path d=\"M -97 -1272 \r\nL -97 -866 \r\nL 3631 -866 \r\nL 3631 -1272 \r\nL -97 -1272 \r\nz\r\n\" id=\"ArialMT-5f\" transform=\"scale(0.015625)\"/>\r\n      <path d=\"M -9 0 \r\nL 1750 4581 \r\nL 2403 4581 \r\nL 4278 0 \r\nL 3588 0 \r\nL 3053 1388 \r\nL 1138 1388 \r\nL 634 0 \r\nL -9 0 \r\nz\r\nM 1313 1881 \r\nL 2866 1881 \r\nL 2388 3150 \r\nQ 2169 3728 2063 4100 \r\nQ 1975 3659 1816 3225 \r\nL 1313 1881 \r\nz\r\n\" id=\"ArialMT-41\" transform=\"scale(0.015625)\"/>\r\n      <path d=\"M 3500 4581 \r\nL 4106 4581 \r\nL 4106 1934 \r\nQ 4106 1244 3950 837 \r\nQ 3794 431 3386 176 \r\nQ 2978 -78 2316 -78 \r\nQ 1672 -78 1262 144 \r\nQ 853 366 678 786 \r\nQ 503 1206 503 1934 \r\nL 503 4581 \r\nL 1109 4581 \r\nL 1109 1938 \r\nQ 1109 1341 1220 1058 \r\nQ 1331 775 1601 622 \r\nQ 1872 469 2263 469 \r\nQ 2931 469 3215 772 \r\nQ 3500 1075 3500 1938 \r\nL 3500 4581 \r\nz\r\n\" id=\"ArialMT-55\" transform=\"scale(0.015625)\"/>\r\n      <path d=\"M 3763 1606 \r\nL 4369 1453 \r\nQ 4178 706 3683 314 \r\nQ 3188 -78 2472 -78 \r\nQ 1731 -78 1267 223 \r\nQ 803 525 561 1097 \r\nQ 319 1669 319 2325 \r\nQ 319 3041 592 3573 \r\nQ 866 4106 1370 4382 \r\nQ 1875 4659 2481 4659 \r\nQ 3169 4659 3637 4309 \r\nQ 4106 3959 4291 3325 \r\nL 3694 3184 \r\nQ 3534 3684 3231 3912 \r\nQ 2928 4141 2469 4141 \r\nQ 1941 4141 1586 3887 \r\nQ 1231 3634 1087 3207 \r\nQ 944 2781 944 2328 \r\nQ 944 1744 1114 1308 \r\nQ 1284 872 1643 656 \r\nQ 2003 441 2422 441 \r\nQ 2931 441 3284 734 \r\nQ 3638 1028 3763 1606 \r\nz\r\n\" id=\"ArialMT-43\" transform=\"scale(0.015625)\"/>\r\n      <path d=\"M 3381 2694 \r\nL 356 2694 \r\nL 356 3219 \r\nL 3381 3219 \r\nL 3381 2694 \r\nz\r\nM 3381 1303 \r\nL 356 1303 \r\nL 356 1828 \r\nL 3381 1828 \r\nL 3381 1303 \r\nz\r\n\" id=\"ArialMT-3d\" transform=\"scale(0.015625)\"/>\r\n     </defs>\r\n     <use xlink:href=\"#ArialMT-44\"/>\r\n     <use x=\"72.216797\" xlink:href=\"#ArialMT-4c\"/>\r\n     <use x=\"127.832031\" xlink:href=\"#ArialMT-5f\"/>\r\n     <use x=\"183.447266\" xlink:href=\"#ArialMT-41\"/>\r\n     <use x=\"250.146484\" xlink:href=\"#ArialMT-55\"/>\r\n     <use x=\"322.363281\" xlink:href=\"#ArialMT-43\"/>\r\n     <use x=\"394.580078\" xlink:href=\"#ArialMT-3d\"/>\r\n     <use x=\"452.978516\" xlink:href=\"#ArialMT-30\"/>\r\n     <use x=\"508.59375\" xlink:href=\"#ArialMT-2e\"/>\r\n     <use x=\"536.376953\" xlink:href=\"#ArialMT-36\"/>\r\n     <use x=\"591.992188\" xlink:href=\"#ArialMT-34\"/>\r\n    </g>\r\n   </g>\r\n  </g>\r\n </g>\r\n <defs>\r\n  <clipPath id=\"p62ab1f8eed\">\r\n   <rect height=\"217.44\" width=\"334.8\" x=\"31.99\" y=\"21.935625\"/>\r\n  </clipPath>\r\n </defs>\r\n</svg>\r\n",
      "image/png": "[encoded data removed]"
     },
     "metadata": {}
    }
   ],
   "metadata": {}
  }
 ],
 "metadata": {
  "orig_nbformat": 4,
  "language_info": {
   "name": "python",
   "version": "3.7.10",
   "mimetype": "text/x-python",
   "codemirror_mode": {
    "name": "ipython",
    "version": 3
   },
   "pygments_lexer": "ipython3",
   "nbconvert_exporter": "python",
   "file_extension": ".py"
  },
  "kernelspec": {
   "name": "python3",
   "display_name": "Python 3.7.10 64-bit ('torch_1.9': conda)"
  },
  "interpreter": {
   "hash": "98208e0c1cfb6947900b95b142b62d9cd159f32fe9f5d86073bdb8a60fa75d1d"
  }
 },
 "nbformat": 4,
 "nbformat_minor": 2
}