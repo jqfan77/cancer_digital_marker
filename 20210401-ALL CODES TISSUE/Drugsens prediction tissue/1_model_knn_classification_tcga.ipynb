{
 "cells": [
  {
   "cell_type": "code",
   "execution_count": 9,
   "metadata": {},
   "outputs": [],
   "source": [
    "import math\n",
    "import numpy as np\n",
    "import matplotlib.pyplot as plt\n",
    "import seaborn as sns\n",
    "import csv\n",
    "import random\n",
    "\n",
    "from read_csv_data import *\n",
    "from my_filter import *\n",
    "from my_util import *\n",
    "from functions_tcga import *\n",
    "from sklearn.model_selection import cross_val_predict\n",
    "\n",
    "path_root = './data/'\n",
    "Y_raw, Y_drug_id, Y_drug_name, tissue_id_list, tissue_name_list, dataset_id, X_gene_symbol_list, X_oncogene_idx = my_load_data(path_root)\n",
    "sns.set_context(\"paper\", font_scale=1.5, rc={\"lines.linewidth\": 2.0})\n",
    "\n",
    "\n",
    "\n",
    "## Training parameters\n",
    "C_cv_fold = 5     # cross-validation fold\n",
    "flag_oncogene = False    # boolean for oncogene filter\n",
    "flag_tpm_normalize = False  # boolean for TPM normalization before KNN modeling\n",
    "flag_tpm_select = True   # boolean for TPM normalization before filtering genes\n",
    "bool_pca = True\n",
    "pca_dim = 30\n",
    "\n",
    "##drug sensitivity threshold\n",
    "drug_sens_threshold = 3\n",
    "\n",
    "##drug selected\n",
    "drug_selected_name='ALL' \n",
    "# drug_selected_name='5-FU'    #210\n",
    "# drug_selected_name='Oxaliplatin'    #82\n",
    "# drug_selected_name='Cisplatin'    #94\n",
    "# drug_selected_name='Carboplatin'  #54\n",
    "# drug_selected_name='Taxol'      #40\n",
    "# drug_selected_name='Cytoxan'     #59\n",
    "# drug_selected_name='Cyclophosphamide'    #41\n",
    "# drug_selected_name='Capecitabine'     #62\\\n",
    "# drug_selected_name='Paclitaxel'     #\n",
    "# drug_selected_name='Vinblastine'     #\n",
    "# drug_selected_name='Docetaxel'     #\n",
    "# drug_selected_name='Irinotecan'     #\n",
    "\n",
    "##cancer types selected\n",
    "tissue_1 = 'COAD'\n",
    "tissue_2 = 'STAD'\n",
    "tissue_3 = 'ESCA'\n",
    "tissue_4 = 'LUAD'\n",
    "tissue_5 = 'READ'\n",
    "tissue_6 = 'BRCA'\n",
    "\n",
    "# gene_symbol_list\n",
    "gene_symbol_path = path_root + 'rnaseq_gene_symbol.csv'\n",
    "gene_symbol_list = np.array(read_csv_data(gene_symbol_path,firstline=False))[:,2].T\n",
    "\n",
    "the_label = ['COAD','STAD','ESCA','LUAD','READ','BRCA']\n",
    "the_color = ['black','tomato','yellowgreen','sandybrown','royalblue','darkcyan']"
   ]
  },
  {
   "cell_type": "code",
   "execution_count": 10,
   "metadata": {
    "scrolled": true
   },
   "outputs": [
    {
     "name": "stdout",
     "output_type": "stream",
     "text": [
      "FKPM file 9 mismatch deleted\n",
      "FKPM file 22 mismatch deleted\n",
      "FKPM file 75 mismatch deleted\n",
      "FKPM file 87 mismatch deleted\n",
      "FKPM file 92 mismatch deleted\n",
      "FKPM file 112 mismatch deleted\n",
      "FKPM file 120 mismatch deleted\n",
      "FKPM file 131 mismatch deleted\n",
      "FKPM file 155 mismatch deleted\n",
      "FKPM file 190 mismatch deleted\n",
      "FKPM file 198 mismatch deleted\n",
      "FKPM file 212 mismatch deleted\n",
      "FKPM file 241 mismatch deleted\n",
      "FKPM file 10 mismatch deleted\n",
      "FKPM file 12 mismatch deleted\n",
      "FKPM file 13 mismatch deleted\n",
      "FKPM file 14 mismatch deleted\n",
      "FKPM file 15 mismatch deleted\n",
      "FKPM file 29 mismatch deleted\n",
      "FKPM file 30 mismatch deleted\n",
      "FKPM file 31 mismatch deleted\n",
      "FKPM file 32 mismatch deleted\n",
      "FKPM file 33 mismatch deleted\n",
      "FKPM file 34 mismatch deleted\n",
      "FKPM file 35 mismatch deleted\n",
      "FKPM file 36 mismatch deleted\n",
      "FKPM file 42 mismatch deleted\n",
      "FKPM file 43 mismatch deleted\n",
      "FKPM file 44 mismatch deleted\n",
      "FKPM file 60 mismatch deleted\n",
      "FKPM file 61 mismatch deleted\n",
      "FKPM file 62 mismatch deleted\n",
      "FKPM file 75 mismatch deleted\n",
      "FKPM file 79 mismatch deleted\n",
      "FKPM file 80 mismatch deleted\n",
      "FKPM file 83 mismatch deleted\n",
      "FKPM file 84 mismatch deleted\n",
      "FKPM file 85 mismatch deleted\n",
      "FKPM file 94 mismatch deleted\n",
      "FKPM file 95 mismatch deleted\n",
      "FKPM file 96 mismatch deleted\n",
      "FKPM file 97 mismatch deleted\n",
      "FKPM file 115 mismatch deleted\n",
      "FKPM file 116 mismatch deleted\n",
      "FKPM file 117 mismatch deleted\n",
      "FKPM file 118 mismatch deleted\n",
      "FKPM file 119 mismatch deleted\n",
      "FKPM file 120 mismatch deleted\n",
      "FKPM file 121 mismatch deleted\n",
      "FKPM file 131 mismatch deleted\n",
      "FKPM file 132 mismatch deleted\n",
      "FKPM file 133 mismatch deleted\n",
      "FKPM file 134 mismatch deleted\n",
      "FKPM file 142 mismatch deleted\n",
      "FKPM file 143 mismatch deleted\n",
      "FKPM file 179 mismatch deleted\n",
      "FKPM file 180 mismatch deleted\n",
      "FKPM file 181 mismatch deleted\n",
      "FKPM file 182 mismatch deleted\n",
      "FKPM file 183 mismatch deleted\n",
      "FKPM file 184 mismatch deleted\n",
      "FKPM file 187 mismatch deleted\n",
      "FKPM file 188 mismatch deleted\n",
      "FKPM file 189 mismatch deleted\n",
      "FKPM file 190 mismatch deleted\n",
      "FKPM file 193 mismatch deleted\n",
      "FKPM file 194 mismatch deleted\n",
      "FKPM file 195 mismatch deleted\n",
      "FKPM file 196 mismatch deleted\n",
      "FKPM file 197 mismatch deleted\n",
      "FKPM file 198 mismatch deleted\n",
      "FKPM file 200 mismatch deleted\n",
      "FKPM file 201 mismatch deleted\n",
      "FKPM file 202 mismatch deleted\n",
      "FKPM file 203 mismatch deleted\n",
      "FKPM file 205 mismatch deleted\n",
      "FKPM file 206 mismatch deleted\n",
      "FKPM file 207 mismatch deleted\n",
      "FKPM file 208 mismatch deleted\n",
      "FKPM file 212 mismatch deleted\n",
      "FKPM file 213 mismatch deleted\n",
      "FKPM file 214 mismatch deleted\n",
      "FKPM file 215 mismatch deleted\n",
      "FKPM file 216 mismatch deleted\n",
      "FKPM file 228 mismatch deleted\n",
      "FKPM file 229 mismatch deleted\n",
      "FKPM file 230 mismatch deleted\n",
      "FKPM file 240 mismatch deleted\n",
      "FKPM file 241 mismatch deleted\n",
      "FKPM file 242 mismatch deleted\n",
      "FKPM file 249 mismatch deleted\n",
      "FKPM file 250 mismatch deleted\n",
      "FKPM file 251 mismatch deleted\n",
      "FKPM file 259 mismatch deleted\n",
      "FKPM file 260 mismatch deleted\n",
      "FKPM file 261 mismatch deleted\n",
      "FKPM file 262 mismatch deleted\n",
      "FKPM file 263 mismatch deleted\n",
      "FKPM file 279 mismatch deleted\n",
      "FKPM file 280 mismatch deleted\n",
      "FKPM file 281 mismatch deleted\n",
      "FKPM file 282 mismatch deleted\n",
      "FKPM file 283 mismatch deleted\n",
      "FKPM file 340 mismatch deleted\n",
      "FKPM file 341 mismatch deleted\n",
      "FKPM file 342 mismatch deleted\n",
      "FKPM file 343 mismatch deleted\n",
      "FKPM file 344 mismatch deleted\n",
      "FKPM file 345 mismatch deleted\n",
      "FKPM file 352 mismatch deleted\n",
      "FKPM file 353 mismatch deleted\n",
      "FKPM file 354 mismatch deleted\n",
      "FKPM file 355 mismatch deleted\n",
      "FKPM file 356 mismatch deleted\n",
      "FKPM file 357 mismatch deleted\n",
      "FKPM file 361 mismatch deleted\n",
      "FKPM file 362 mismatch deleted\n",
      "FKPM file 363 mismatch deleted\n",
      "FKPM file 364 mismatch deleted\n",
      "FKPM file 365 mismatch deleted\n",
      "FKPM file 366 mismatch deleted\n",
      "FKPM file 367 mismatch deleted\n",
      "FKPM file 371 mismatch deleted\n",
      "FKPM file 374 mismatch deleted\n",
      "FKPM file 375 mismatch deleted\n",
      "FKPM file 376 mismatch deleted\n",
      "FKPM file 382 mismatch deleted\n",
      "FKPM file 383 mismatch deleted\n",
      "FKPM file 384 mismatch deleted\n",
      "FKPM file 385 mismatch deleted\n",
      "FKPM file 396 mismatch deleted\n",
      "FKPM file 403 mismatch deleted\n",
      "FKPM file 404 mismatch deleted\n",
      "FKPM file 405 mismatch deleted\n",
      "FKPM file 417 mismatch deleted\n",
      "FKPM file 418 mismatch deleted\n",
      "FKPM file 419 mismatch deleted\n",
      "FKPM file 425 mismatch deleted\n",
      "FKPM file 442 mismatch deleted\n",
      "FKPM file 443 mismatch deleted\n",
      "FKPM file 444 mismatch deleted\n",
      "FKPM file 445 mismatch deleted\n",
      "FKPM file 446 mismatch deleted\n",
      "FKPM file 447 mismatch deleted\n",
      "FKPM file 451 mismatch deleted\n",
      "FKPM file 490 mismatch deleted\n",
      "FKPM file 491 mismatch deleted\n",
      "FKPM file 492 mismatch deleted\n",
      "FKPM file 493 mismatch deleted\n",
      "FKPM file 494 mismatch deleted\n",
      "FKPM file 495 mismatch deleted\n",
      "FKPM file 496 mismatch deleted\n",
      "FKPM file 500 mismatch deleted\n",
      "FKPM file 501 mismatch deleted\n",
      "FKPM file 502 mismatch deleted\n",
      "FKPM file 503 mismatch deleted\n",
      "FKPM file 504 mismatch deleted\n",
      "FKPM file 505 mismatch deleted\n",
      "FKPM file 506 mismatch deleted\n",
      "FKPM file 507 mismatch deleted\n",
      "FKPM file 513 mismatch deleted\n",
      "FKPM file 535 mismatch deleted\n",
      "FKPM file 536 mismatch deleted\n",
      "FKPM file 537 mismatch deleted\n",
      "FKPM file 538 mismatch deleted\n",
      "FKPM file 539 mismatch deleted\n",
      "FKPM file 540 mismatch deleted\n",
      "FKPM file 541 mismatch deleted\n",
      "FKPM file 542 mismatch deleted\n",
      "FKPM file 543 mismatch deleted\n",
      "FKPM file 544 mismatch deleted\n",
      "FKPM file 545 mismatch deleted\n",
      "FKPM file 546 mismatch deleted\n",
      "FKPM file 547 mismatch deleted\n",
      "FKPM file 548 mismatch deleted\n",
      "FKPM file 549 mismatch deleted\n",
      "FKPM file 550 mismatch deleted\n",
      "FKPM file 551 mismatch deleted\n",
      "FKPM file 552 mismatch deleted\n",
      "FKPM file 553 mismatch deleted\n",
      "FKPM file 558 mismatch deleted\n",
      "FKPM file 559 mismatch deleted\n",
      "FKPM file 560 mismatch deleted\n",
      "FKPM file 568 mismatch deleted\n",
      "FKPM file 569 mismatch deleted\n",
      "FKPM file 570 mismatch deleted\n",
      "FKPM file 572 mismatch deleted\n",
      "FKPM file 573 mismatch deleted\n",
      "FKPM file 574 mismatch deleted\n",
      "FKPM file 575 mismatch deleted\n",
      "FKPM file 578 mismatch deleted\n",
      "FKPM file 579 mismatch deleted\n",
      "FKPM file 588 mismatch deleted\n",
      "FKPM file 589 mismatch deleted\n",
      "FKPM file 590 mismatch deleted\n",
      "FKPM file 591 mismatch deleted\n",
      "FKPM file 592 mismatch deleted\n",
      "FKPM file 597 mismatch deleted\n",
      "FKPM file 598 mismatch deleted\n",
      "FKPM file 600 mismatch deleted\n",
      "FKPM file 601 mismatch deleted\n",
      "FKPM file 619 mismatch deleted\n",
      "FKPM file 620 mismatch deleted\n",
      "FKPM file 621 mismatch deleted\n",
      "FKPM file 633 mismatch deleted\n",
      "FKPM file 634 mismatch deleted\n"
     ]
    }
   ],
   "source": [
    "# #############################################################################\n",
    "# ## load data ## only once\n",
    "X_coad, f_coad,u_coad,y_coad = my_load_data_tcga(tissue_1,drug_selected_name)\n",
    "\n",
    "X_stad, f_stad,u_stad,y_stad = my_load_data_tcga(tissue_2,drug_selected_name)\n",
    "\n",
    "X_esca, f_esca,u_esca,y_esca = my_load_data_tcga(tissue_3,drug_selected_name)\n",
    "\n",
    "X_luad, f_luad,u_luad,y_luad = my_load_data_tcga(tissue_4,drug_selected_name)\n",
    "\n",
    "X_read, f_read,u_read,y_read = my_load_data_tcga(tissue_5,drug_selected_name)\n",
    "\n",
    "X_brca, f_brca,u_brca,y_brca = my_load_data_tcga(tissue_6,drug_selected_name)\n",
    "\n",
    "# ##############################################################################"
   ]
  },
  {
   "cell_type": "code",
   "execution_count": 11,
   "metadata": {},
   "outputs": [
    {
     "name": "stdout",
     "output_type": "stream",
     "text": [
      "shape_X (1386, 21966) \n",
      "shape_y 1386\n",
      "tissue id mapping\n",
      "(1386, 21966)\n",
      "sum(pca.explained_variance_ratio_) 0.6754992158892276\n",
      "(1386, 30)\n"
     ]
    },
    {
     "name": "stderr",
     "output_type": "stream",
     "text": [
      "The PostScript backend does not support transparency; partially transparent artists will be rendered opaque.\n"
     ]
    },
    {
     "name": "stdout",
     "output_type": "stream",
     "text": [
      "(1386, 2)\n"
     ]
    },
    {
     "name": "stderr",
     "output_type": "stream",
     "text": [
      "The PostScript backend does not support transparency; partially transparent artists will be rendered opaque.\n"
     ]
    },
    {
     "data": {
      "image/png": "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\n",
      "text/plain": [
       "<Figure size 432x288 with 1 Axes>"
      ]
     },
     "metadata": {
      "needs_background": "light"
     },
     "output_type": "display_data"
    },
    {
     "data": {
      "text/plain": [
       "0"
      ]
     },
     "execution_count": 11,
     "metadata": {},
     "output_type": "execute_result"
    }
   ],
   "source": [
    "## t-sne mapping of RNA-seqs for samples from 6 cancer types, pca + tsne\n",
    "\n",
    "# get training dataset X y\n",
    "X=np.r_[X_coad,X_stad,X_esca,X_luad,X_read,X_brca]\n",
    "y=np.r_[y_coad,y_stad,y_esca,y_luad,y_read,y_brca]\n",
    "tissue_flag = np.array([0 for _ in range(X_coad.shape[0]) ] + [1 for _ in range(X_stad.shape[0]) ] + [2 for _ in range(X_esca.shape[0]) ]\\\n",
    "               + [3 for _ in range(X_luad.shape[0]) ] + [4 for _ in range(X_read.shape[0]) ] + [5 for _ in range(X_brca.shape[0])])\n",
    "\n",
    "X,id_list=my_delete_NaN_col(X)\n",
    "gene_symbol_list = gene_symbol_list[id_list]\n",
    "print('shape_X',np.shape(X),'\\nshape_y',len(y))\n",
    "\n",
    "flag_fpkm_tpm = True  #TPM normalization\n",
    "\n",
    "print('tissue id mapping')\n",
    "title = 't-SNE plot of RNA-seqs from 6 tissues'\n",
    "my_tsne_RNA(X,tissue_flag,the_label,the_color,title,flag_fpkm_tpm,bool_pca,pca_dim,bool_save=True,save_path='../paper_fig/all_drug_5_tissues_all_gene_tsne_jet')"
   ]
  },
  {
   "cell_type": "code",
   "execution_count": 3,
   "metadata": {},
   "outputs": [
    {
     "name": "stdout",
     "output_type": "stream",
     "text": [
      "shape_X (90, 21966) \n",
      "shape_y 90\n"
     ]
    }
   ],
   "source": [
    "#load coad+read\n",
    "X=np.r_[X_coad,X_read]\n",
    "y=np.r_[y_coad,y_read]\n",
    "tissue_flag = [0 for _ in range(X_coad.shape[0]) ] + [1 for _ in range(X_read.shape[0]) ]\n",
    "X,id_list=my_delete_NaN_col(X)\n",
    "gene_symbol_list = gene_symbol_list[id_list]\n",
    "print('shape_X',np.shape(X),'\\nshape_y',len(y))\n",
    "tissue_selected = 'COAD+READ'"
   ]
  },
  {
   "cell_type": "code",
   "execution_count": 4,
   "metadata": {},
   "outputs": [
    {
     "name": "stdout",
     "output_type": "stream",
     "text": [
      "after mean, X: (90, 13281)\n",
      "after utest filter (p_value), X: (90, 13281)\n"
     ]
    }
   ],
   "source": [
    "## gene filtering\n",
    "if flag_tpm_select:\n",
    "    X =  fpkm_to_tpm(X)\n",
    "    \n",
    "X_before=X    \n",
    "\n",
    "X_idx = np.array([i for i in range(X.shape[1])])\n",
    "X_idx_before = X_idx\n",
    "\n",
    "###### oncogene filter\n",
    "if flag_oncogene:\n",
    "    Filter_idx = get_repeating_idx_filter(X_idx, X_oncogene_idx)\n",
    "    X = X[:, Filter_idx]\n",
    "    X_idx = X_idx[Filter_idx]\n",
    "    print('after selection, X:', X.shape)\n",
    "    \n",
    "###### expression level filter\n",
    "Filter_idx = np.argwhere(np.mean(X, axis=0)>1).T[0]\n",
    "Filter_idx2 = np.argwhere(np.mean(X, axis=0)<=1).T[0]\n",
    "X = X[:, Filter_idx]\n",
    "X_idx = X_idx[Filter_idx]\n",
    "print('after mean, X:', X.shape)\n",
    "\n",
    "###### mann-whitneyutest filter \n",
    "Filter_idx, Filter_up = get_utest_filter(X,y,drug_sens_threshold,1)\n",
    "X = X[:, Filter_idx]\n",
    "X_idx = X_idx[Filter_idx]\n",
    "print('after utest filter (p_value), X:',X.shape)\n",
    "\n",
    "\n",
    "Filter_score_general = -Filter_up\n",
    "\n",
    "## gene scoring and rating\n",
    "Filter_score_sorted_idx = sorted(range(X.shape[1]), key=lambda k: Filter_score_general[k], reverse=True)\n",
    "Filter_score_sorted = Filter_score_general[Filter_score_sorted_idx]"
   ]
  },
  {
   "cell_type": "code",
   "execution_count": 5,
   "metadata": {
    "scrolled": false
   },
   "outputs": [
    {
     "name": "stdout",
     "output_type": "stream",
     "text": [
      "C_selected_para_cnt=10, best_C_neighbor_k=22, AUC=0.882876\n",
      "C_selected_para_cnt=11, best_C_neighbor_k=30, AUC=0.874722\n",
      "C_selected_para_cnt=12, best_C_neighbor_k=11, AUC=0.854337\n",
      "C_selected_para_cnt=13, best_C_neighbor_k=8, AUC=0.853966\n",
      "C_selected_para_cnt=14, best_C_neighbor_k=6, AUC=0.864715\n",
      "C_selected_para_cnt=15, best_C_neighbor_k=6, AUC=0.859526\n",
      "C_selected_para_cnt=16, best_C_neighbor_k=29, AUC=0.927354\n",
      "C_selected_para_cnt=17, best_C_neighbor_k=26, AUC=0.924388\n",
      "C_selected_para_cnt=18, best_C_neighbor_k=24, AUC=0.925130\n",
      "C_selected_para_cnt=19, best_C_neighbor_k=30, AUC=0.926612\n",
      "C_selected_para_cnt=20, best_C_neighbor_k=9, AUC=0.935508\n",
      "C_selected_para_cnt=21, best_C_neighbor_k=24, AUC=0.936990\n",
      "C_selected_para_cnt=22, best_C_neighbor_k=15, AUC=0.933284\n",
      "C_selected_para_cnt=23, best_C_neighbor_k=17, AUC=0.938473\n",
      "C_selected_para_cnt=24, best_C_neighbor_k=21, AUC=0.937732\n",
      "C_selected_para_cnt=25, best_C_neighbor_k=20, AUC=0.942921\n",
      "C_selected_para_cnt=26, best_C_neighbor_k=15, AUC=0.946627\n",
      "C_selected_para_cnt=27, best_C_neighbor_k=14, AUC=0.945145\n",
      "C_selected_para_cnt=28, best_C_neighbor_k=14, AUC=0.946627\n",
      "C_selected_para_cnt=29, best_C_neighbor_k=15, AUC=0.943662\n",
      "C_selected_para_cnt=30, best_C_neighbor_k=19, AUC=0.940697\n",
      "[best] C_selected_para_cnt=26, best_C_neighbor_k=15, AUC=0.946627\n",
      "26 15\n"
     ]
    }
   ],
   "source": [
    "## knn classification\n",
    "X_idx_raw=Filter_score_sorted_idx\n",
    "X_test=np.log(1+X)\n",
    "Y_test=np.zeros([1,np.size(y,0)])\n",
    "Y_test[0,:]=(y>drug_sens_threshold)*1\n",
    "Y_drug_idx=[0]\n",
    "\n",
    "# KNN cross-validation for best gene list and parameter k\n",
    "best_best_mean_auc_score = 0\n",
    "best_C_selected_para_cnt = 1\n",
    "    \n",
    "best_C_selected_para_cnt, best_best_C_neighbor_k = \\\n",
    "get_knn_para_by_bruteforce_TCGA(X_idx_raw, X_test, Y_test, Y_drug_idx, C_cv_fold,  \\\n",
    "                            flag_tpm_normalize, 30, 10,False, 0.02, False)\n",
    "print(best_C_selected_para_cnt, best_best_C_neighbor_k )"
   ]
  },
  {
   "cell_type": "code",
   "execution_count": 6,
   "metadata": {},
   "outputs": [
    {
     "name": "stdout",
     "output_type": "stream",
     "text": [
      "[18236 14485 15944 21627  3039 19546   111  4311  5298  2262  3952  5721\n",
      "  1512 19724  3670 12601  3863 11971 17812  4787 17948 11787   675  5584\n",
      "  6714  6740]\n"
     ]
    }
   ],
   "source": [
    "## according to the previous result\n",
    "num_of_para=best_C_selected_para_cnt\n",
    "best_C_neighbor_k=best_best_C_neighbor_k \n",
    "print(X_idx[Filter_score_sorted_idx][0:num_of_para])\n",
    "# print(-Filter_score_sorted[0:num_of_para])\n",
    "\n",
    "# np.savetxt('./output_2/'+'gene_id_list_'+tissue_selected+'_'+drug_selected_name+'.csv', \n",
    "#            X_idx[Filter_score_sorted_idx][0:num_of_para], fmt='%d', delimiter=',')\n",
    "# np.savetxt('./output_2/'+'gene_score_p_value_list_'+tissue_selected+'_'+drug_selected_name+'.csv', \n",
    "#            -Filter_score_sorted[0:num_of_para], fmt='%f', delimiter=',')\n",
    "# np.savetxt('./output_2/'+'X_tpm_'+tissue_selected+'_'+drug_selected_name+'.csv', \n",
    "#            X[:, Filter_score_sorted_idx[0:num_of_para]], fmt='%f', delimiter=',')\n",
    "# np.savetxt('./output_2/'+'y_'+tissue_selected+'_'+drug_selected_name+'.csv', \n",
    "#            (y>drug_sens_threshold)*1, fmt='%d', delimiter=',')"
   ]
  },
  {
   "cell_type": "code",
   "execution_count": 7,
   "metadata": {},
   "outputs": [
    {
     "data": {
      "image/png": "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\n",
      "text/plain": [
       "<Figure size 432x288 with 1 Axes>"
      ]
     },
     "metadata": {
      "needs_background": "light"
     },
     "output_type": "display_data"
    },
    {
     "name": "stdout",
     "output_type": "stream",
     "text": [
      "Accuracy score: 0.8666666666666667\n",
      "\n",
      "Precision score weighted: 0.8617568085922516\n",
      "Precision score (class 1): 0.8181818181818182\n",
      "Precision score (class 0): 0.8734177215189873\n",
      "\n",
      "Recall/Sensitivity score: 0.47368421052631576\n",
      "Specificity score: 0.971830985915493\n",
      "\n",
      "F1 score weighted: 0.8524444444444446\n"
     ]
    }
   ],
   "source": [
    "## AUC scores\n",
    "# gene list\n",
    "model_knn = KNeighborsClassifier(n_neighbors = best_C_neighbor_k, weights='distance', algorithm = 'auto')\n",
    "\n",
    "X1=np.log(X[:, Filter_score_sorted_idx[0:num_of_para]]+1)\n",
    "Y1=(y>drug_sens_threshold)*1\n",
    "y_pred_proba = cross_val_predict(model_knn, X1, Y1, cv = C_cv_fold,method = 'predict_proba')[:,1]  \n",
    "y_pred= cross_val_predict(model_knn, X1, Y1, cv = C_cv_fold) \n",
    "auc_score = math.nan\n",
    "\n",
    "\n",
    "if len(np.unique(Y1)) == 2:\n",
    "    auc_score = metrics.roc_auc_score(Y1, y_pred_proba)\n",
    "    fpr, tpr, thresholds = metrics.roc_curve(Y1, y_pred_proba, pos_label=1)\n",
    "    plt.plot(fpr,tpr,label = 'Gene list,AUC=%0.3f'%auc_score)\n",
    "    plt.xlabel('False positive rate')\n",
    "    plt.ylabel('True positive rate')\n",
    "    plt.title('ROC curve')\n",
    "    sns.despine()\n",
    "    plt.legend()\n",
    "    plt.show()\n",
    "    acc_score = metrics.accuracy_score(Y1,y_pred)\n",
    "    print('Accuracy score:',acc_score)\n",
    "    print()\n",
    "    prec_score = metrics.precision_score(Y1,y_pred,average='weighted')\n",
    "    print('Precision score weighted:',prec_score)\n",
    "    prec_score = metrics.precision_score(Y1,y_pred,pos_label=1,average='binary')\n",
    "    print('Precision score (class 1):',prec_score)\n",
    "    prec_score = metrics.precision_score(Y1,y_pred,pos_label=0,average='binary')\n",
    "    print('Precision score (class 0):',prec_score)\n",
    "    print()\n",
    "    rec_score = metrics.recall_score(Y1,y_pred,pos_label=1,average='binary')\n",
    "    print('Recall/Sensitivity score:',rec_score)\n",
    "    spec_score = metrics.recall_score(Y1,y_pred,pos_label=0,average='binary')\n",
    "    print('Specificity score:',spec_score)\n",
    "    print()\n",
    "    f1_score = metrics.f1_score(Y1,y_pred,average='weighted')\n",
    "    print('F1 score weighted:',f1_score)"
   ]
  },
  {
   "cell_type": "code",
   "execution_count": 8,
   "metadata": {},
   "outputs": [
    {
     "name": "stdout",
     "output_type": "stream",
     "text": [
      "['SHPK' 'PAPSS2' 'PRPSAP2' 'XPNPEP1' 'CHP1' 'TAF5' 'ABRAXAS2' 'DERL2'\n",
      " 'EMP2' 'CACUL1' 'CWF19L1' 'FAS' 'BAG3' 'TCF7L2' 'CRK' 'MYEOV' 'CTDNEP1'\n",
      " 'MICU1' 'SCO1' 'DUT' 'SEMA4G' 'MCU' 'ALKBH5' 'EXOC6' 'GLOD4' 'GLUD1']\n"
     ]
    }
   ],
   "source": [
    "gene_symbol_list = gene_symbol_list[X_idx[Filter_score_sorted_idx][0:num_of_para]]\n",
    "print(gene_symbol_list)\n",
   ]
  },
  {
   "cell_type": "code",
   "execution_count": null,
   "metadata": {},
   "outputs": [],
   "source": []
  },
  {
   "cell_type": "code",
   "execution_count": null,
   "metadata": {},
   "outputs": [],
   "source": []
  }
 ],
 "metadata": {
  "kernelspec": {
   "display_name": "Python 3",
   "language": "python",
   "name": "python3"
  },
  "language_info": {
   "codemirror_mode": {
    "name": "ipython",
    "version": 3
   },
   "file_extension": ".py",
   "mimetype": "text/x-python",
   "name": "python",
   "nbconvert_exporter": "python",
   "pygments_lexer": "ipython3",
   "version": "3.8.8"
  }
 },
 "nbformat": 4,
 "nbformat_minor": 2
}
